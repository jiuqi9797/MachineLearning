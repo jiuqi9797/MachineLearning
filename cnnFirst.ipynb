{
  "nbformat": 4,
  "nbformat_minor": 0,
  "metadata": {
    "colab": {
      "name": "Untitled1.ipynb",
      "provenance": [],
      "collapsed_sections": [],
      "mount_file_id": "1JRxgTKDjOTb0avDhN_z8JgfhbX1jdTpM",
      "authorship_tag": "ABX9TyNuxoxKULXFS//hZxcHFcX2",
      "include_colab_link": true
    },
    "kernelspec": {
      "display_name": "Python 3",
      "name": "python3"
    },
    "language_info": {
      "name": "python"
    }
  },
  "cells": [
    {
      "cell_type": "markdown",
      "metadata": {
        "id": "view-in-github",
        "colab_type": "text"
      },
      "source": [
        "<a href=\"https://colab.research.google.com/github/jiuqi9797/MachineLearning/blob/main/cnnFirst.ipynb\" target=\"_parent\"><img src=\"https://colab.research.google.com/assets/colab-badge.svg\" alt=\"Open In Colab\"/></a>"
      ]
    },
    {
      "cell_type": "code",
      "metadata": {
        "id": "X-h9ow7ajFaX"
      },
      "source": [
        "import os\n",
        "# 此处为google drive中的文件路径,drive为之前指定的工作根目录，要加上\n",
        "os.chdir(\"/content/drive/MyDrive/colab/keshe/\") "
      ],
      "execution_count": 1,
      "outputs": []
    },
    {
      "cell_type": "code",
      "metadata": {
        "colab": {
          "base_uri": "https://localhost:8080/"
        },
        "id": "V3v7W4NWZc61",
        "outputId": "05625de4-5d95-41ee-953d-bcff490f4c61"
      },
      "source": [
        "import os\n",
        "os.environ['KAGGLE_USERNAME']=\"wzrziran\"\n",
        "os.environ['KAGGLE_KEY']=\"b4d101737c58f383daac0253b1852499\"\n",
        "!kaggle competitions download -c dogs-vs-cats"
      ],
      "execution_count": 2,
      "outputs": [
        {
          "output_type": "stream",
          "text": [
            "Warning: Looks like you're using an outdated API Version, please consider updating (server 1.5.12 / client 1.5.4)\n",
            "Downloading train.zip to /content/drive/MyDrive/colab/keshe\n",
            " 97% 527M/543M [00:04<00:00, 176MB/s]\n",
            "100% 543M/543M [00:04<00:00, 130MB/s]\n",
            "Downloading sampleSubmission.csv to /content/drive/My Drive/colab/keshe\n",
            "  0% 0.00/86.8k [00:00<?, ?B/s]\n",
            "100% 86.8k/86.8k [00:00<00:00, 12.2MB/s]\n",
            "Downloading test1.zip to /content/drive/My Drive/colab/keshe\n",
            " 98% 267M/271M [00:03<00:00, 100MB/s] \n",
            "100% 271M/271M [00:03<00:00, 79.6MB/s]\n"
          ],
          "name": "stdout"
        }
      ]
    },
    {
      "cell_type": "code",
      "metadata": {
        "id": "Ox5XvJOijLOy"
      },
      "source": [
        ""
      ],
      "execution_count": null,
      "outputs": []
    },
    {
      "cell_type": "code",
      "metadata": {
        "colab": {
          "base_uri": "https://localhost:8080/"
        },
        "id": "OLW_8JwCihaP",
        "outputId": "6134cac4-0a0b-4a15-f1e5-e18015b4e20f"
      },
      "source": [
        ""
      ],
      "execution_count": 21,
      "outputs": [
        {
          "output_type": "stream",
          "text": [
            "drive  sample_data  train\n"
          ],
          "name": "stdout"
        }
      ]
    },
    {
      "cell_type": "code",
      "metadata": {
        "colab": {
          "base_uri": "https://localhost:8080/"
        },
        "id": "YP73lekrZ1z2",
        "outputId": "be70a1b0-5501-44c4-8dca-b166f2f427f4"
      },
      "source": [
        "#对数据进行解压\n",
        "from zipfile import ZipFile\n",
        "#对测试的数据进行解压操作\n",
        "file_train_name =\"/content/drive/MyDrive/colab/keshe/train.zip\" \n",
        "\n",
        "with ZipFile(file_train_name,'r') as zip:\n",
        "  zip.extractall()\n",
        "  print('done')"
      ],
      "execution_count": 3,
      "outputs": [
        {
          "output_type": "stream",
          "text": [
            "done\n"
          ],
          "name": "stdout"
        }
      ]
    },
    {
      "cell_type": "code",
      "metadata": {
        "colab": {
          "base_uri": "https://localhost:8080/"
        },
        "id": "rnTj01OUb03X",
        "outputId": "6fda1312-3a6b-4031-cf86-ed48573ef7fb"
      },
      "source": [
        "data_dir_list = os.listdir('/content/drive/MyDrive/colab/keshe/train')\n",
        "print(\"图片数量：\",len(data_dir_list)) \n",
        "print(data_dir_list[1:10]) "
      ],
      "execution_count": 4,
      "outputs": [
        {
          "output_type": "stream",
          "text": [
            "图片数量： 25000\n",
            "['cat.1.jpg', 'cat.10.jpg', 'cat.100.jpg', 'cat.1000.jpg', 'cat.10000.jpg', 'cat.10001.jpg', 'cat.10002.jpg', 'cat.10003.jpg', 'cat.10004.jpg']\n"
          ],
          "name": "stdout"
        }
      ]
    },
    {
      "cell_type": "code",
      "metadata": {
        "id": "aXpfY9RBb7c_"
      },
      "source": [
        "import os\n",
        "#这里打印图片的命名可以发现都是类别加编号,并且都是jpg格式\n",
        "#定义好原始训练数据集的path，定义小量数据样本集的路径并且创建该路径\n",
        "oringinal_dataset_dir = \"/content/drive/MyDrive/colab/keshe/train\"\n",
        "base_dir =\"/content/drive/MyDrive/colab/keshe/cats_and_dogs_small\"\n",
        "\n",
        "#创建训练集目录\n",
        "train_dir =os.path.join(base_dir,'train')\n",
        "#创建验证集目录\n",
        "validation_dir =os.path.join(base_dir,'validation')\n",
        "#创建测试集目录\n",
        "test_dir =os.path.join(base_dir,'test')\n",
        "#创建训练集下面cats目录\n",
        "train_cats_dir =os.path.join(train_dir,'cats')\n",
        "#创建训练集下面dogs目录\n",
        "train_dogs_dir =os.path.join(train_dir,'dogs')\n",
        "#创建测试集下面cats目录\n",
        "test_cats_dir =os.path.join(test_dir,'cats')\n",
        "#创建测试集下面dogs目录\n",
        "test_dogs_dir =os.path.join(test_dir,'dogs')\n",
        "#创建验证集下面cats目录\n",
        "validation_cats_dir =os.path.join(validation_dir,'cats')\n",
        "#创建验证集下面dogs目录\n",
        "validation_dogs_dir =os.path.join(validation_dir,'dogs')"
      ],
      "execution_count": 7,
      "outputs": []
    },
    {
      "cell_type": "code",
      "metadata": {
        "id": "Wu78Nyjxd0FT"
      },
      "source": [
        ""
      ],
      "execution_count": null,
      "outputs": []
    },
    {
      "cell_type": "code",
      "metadata": {
        "id": "yNohO7EocQH8"
      },
      "source": [
        "\n",
        "#第一次执行的时候使用\n",
        "base_dir =\"/content/drive/MyDrive/colab/keshe/cats_and_dogs_small\"\n",
        "oringinal_dataset_dir = \"/content/drive/MyDrive/colab/keshe/train\"\n",
        "os.mkdir(base_dir)\n",
        "#创建训练集目录\n",
        "train_dir =os.path.join(base_dir,'train')\n",
        "os.mkdir(train_dir)\n",
        "#创建验证集目录\n",
        "validation_dir =os.path.join(base_dir,'validation')\n",
        "os.mkdir(validation_dir)\n",
        "#创建测试集目录\n",
        "test_dir =os.path.join(base_dir,'test')\n",
        "os.mkdir(test_dir)\n",
        "\n",
        "#创建训练集下面cats目录\n",
        "train_cats_dir =os.path.join(train_dir,'cats')\n",
        "os.mkdir(train_cats_dir)\n",
        "#创建训练集下面dogs目录\n",
        "train_dogs_dir =os.path.join(train_dir,'dogs')\n",
        "os.mkdir(train_dogs_dir)\n",
        "\n",
        "#创建测试集下面cats目录\n",
        "test_cats_dir =os.path.join(test_dir,'cats')\n",
        "os.mkdir(test_cats_dir)\n",
        "#创建测试集下面dogs目录\n",
        "test_dogs_dir =os.path.join(test_dir,'dogs')\n",
        "os.mkdir(test_dogs_dir)\n",
        "\n",
        "#创建验证集下面cats目录\n",
        "validation_cats_dir =os.path.join(validation_dir,'cats')\n",
        "os.mkdir(validation_cats_dir)\n",
        "#创建验证集下面dogs目录\n",
        "validation_dogs_dir =os.path.join(validation_dir,'dogs')\n",
        "os.mkdir(validation_dogs_dir)"
      ],
      "execution_count": 5,
      "outputs": []
    },
    {
      "cell_type": "code",
      "metadata": {
        "id": "HaNuZFmOcWRe"
      },
      "source": [
        "import shutil\n",
        "fnames = ['dog.{}.jpg'.format(i) for i in range(1000)]\n",
        "for fname in fnames:\n",
        "  src = os.path.join(oringinal_dataset_dir,fname)\n",
        "  dst = os.path.join(train_dogs_dir,fname)\n",
        "  shutil.copyfile(src,dst)\n",
        "fnames = ['dog.{}.jpg'.format(i) for i in range(1000,1500)]\n",
        "for fname in fnames:\n",
        "  src = os.path.join(oringinal_dataset_dir,fname)\n",
        "  dst = os.path.join(test_dogs_dir,fname)\n",
        "  shutil.copyfile(src,dst)\n",
        "fnames = ['dog.{}.jpg'.format(i) for i in range(1500,2000)]\n",
        "for fname in fnames:\n",
        "  src = os.path.join(oringinal_dataset_dir,fname)\n",
        "  dst = os.path.join(validation_dogs_dir,fname)\n",
        "  shutil.copyfile(src,dst)\n",
        "fnames = ['cat.{}.jpg'.format(i) for i in range(1000)]\n",
        "for fname in fnames:\n",
        "  src = os.path.join(oringinal_dataset_dir,fname)\n",
        "  dst = os.path.join(train_cats_dir,fname)\n",
        "  shutil.copyfile(src,dst)\n",
        "fnames = ['cat.{}.jpg'.format(i) for i in range(1000,1500)]\n",
        "for fname in fnames:\n",
        "  src = os.path.join(oringinal_dataset_dir,fname)\n",
        "  dst = os.path.join(test_cats_dir,fname)\n",
        "  shutil.copyfile(src,dst)\n",
        "fnames = ['cat.{}.jpg'.format(i) for i in range(1500,2000)]\n",
        "for fname in fnames:\n",
        "  src = os.path.join(oringinal_dataset_dir,fname)\n",
        "  dst = os.path.join(validation_cats_dir,fname)\n",
        "  shutil.copyfile(src,dst)"
      ],
      "execution_count": 8,
      "outputs": []
    },
    {
      "cell_type": "code",
      "metadata": {
        "colab": {
          "base_uri": "https://localhost:8080/"
        },
        "id": "q1mTtcLwc7LL",
        "outputId": "03131906-7fe6-4d2d-ac55-c703c373abc6"
      },
      "source": [
        "#对于shutle进行image的copy之后，通过打印查看里面train test 以及 validation里面的图片当中关于cat和dog图片的数量\n",
        "#train当中 有1000张 validation和test各500张\n",
        "print(\"样本当中 训练集 train--cat图片数量\",len(os.listdir(train_cats_dir)))\n",
        "print(\"样本当中训练集train--dog图片数量\",len(os.listdir(train_dogs_dir)))\n",
        "print(\"样本当中测试集test--cat图片数量\",len(os.listdir(test_cats_dir)))\n",
        "print(\"样本当中测试集test--dog图片数量\",len(os.listdir(test_dogs_dir)))\n",
        "print(\"样本当中验证集validation--cat图片数量\",len(os.listdir(validation_cats_dir)))\n",
        "print(\"样本当中验证集validation--dog图片数量\",len(os.listdir(validation_dogs_dir)))"
      ],
      "execution_count": 9,
      "outputs": [
        {
          "output_type": "stream",
          "text": [
            "样本当中 训练集 train--cat图片数量 1000\n",
            "样本当中训练集train--dog图片数量 1000\n",
            "样本当中测试集test--cat图片数量 500\n",
            "样本当中测试集test--dog图片数量 500\n",
            "样本当中验证集validation--cat图片数量 500\n",
            "样本当中验证集validation--dog图片数量 500\n"
          ],
          "name": "stdout"
        }
      ]
    },
    {
      "cell_type": "code",
      "metadata": {
        "colab": {
          "base_uri": "https://localhost:8080/"
        },
        "id": "skkgL2hodBmE",
        "outputId": "dd0424e5-4415-48f9-8c95-f0585b7a35b9"
      },
      "source": [
        "#第一次定义的模型\n",
        "from keras import layers\n",
        "from keras import models\n",
        "model = models.Sequential()\n",
        "model.add(layers.Conv2D(32,(3,3),activation=\"relu\",input_shape=(150,150,3)))\n",
        "model.add(layers.MaxPooling2D((2,2)))\n",
        "model.add(layers.Conv2D(64,(3,3),activation=\"relu\"))\n",
        "model.add(layers.MaxPooling2D((2,2)))\n",
        "model.add(layers.Conv2D(128,(3,3),activation=\"relu\"))\n",
        "model.add(layers.MaxPooling2D((2,2)))\n",
        "model.add(layers.Conv2D(128,(3,3),activation=\"relu\"))\n",
        "model.add(layers.MaxPooling2D((2,2)))\n",
        "model.add(layers.Flatten())\n",
        "model.add(layers.Dense(512,activation=\"relu\"))\n",
        "model.add(layers.Dense(1,activation=\"sigmoid\"))\n",
        "model.summary()\n",
        "from keras.preprocessing.image import ImageDataGenerator\n",
        "train_data_gen = ImageDataGenerator(rescale=1./255)\n",
        "test_data_gen = ImageDataGenerator(rescale=1./255)\n",
        "train_gennerator = train_data_gen.flow_from_directory(train_dir,\n",
        "                            target_size=(150, 150),\n",
        "                            batch_size=20,\n",
        "                            class_mode='binary')\n",
        "validation_gennerator = test_data_gen.flow_from_directory(validation_dir,\n",
        "                            target_size=(150, 150),\n",
        "                            batch_size=20,\n",
        "                            class_mode='binary')\n",
        "\n",
        "from keras import optimizers \n",
        " \n",
        "#aa\n",
        "#model.compile(loss='binary_crossentropy', optimizer='rmsprop', metrics=['accuracy'])\n",
        "\n",
        "model.compile(loss='binary_crossentropy', \n",
        "              optimizer=optimizers.RMSprop(lr=1e-4),\n",
        "              metrics=['acc'])\n",
        "history = model.fit_generator(train_gennerator,\n",
        "                steps_per_epoch=100,\n",
        "                epochs=30,\n",
        "                validation_data=validation_gennerator,\n",
        "                validation_steps=10)\n"
      ],
      "execution_count": 10,
      "outputs": [
        {
          "output_type": "stream",
          "text": [
            "Model: \"sequential\"\n",
            "_________________________________________________________________\n",
            "Layer (type)                 Output Shape              Param #   \n",
            "=================================================================\n",
            "conv2d (Conv2D)              (None, 148, 148, 32)      896       \n",
            "_________________________________________________________________\n",
            "max_pooling2d (MaxPooling2D) (None, 74, 74, 32)        0         \n",
            "_________________________________________________________________\n",
            "conv2d_1 (Conv2D)            (None, 72, 72, 64)        18496     \n",
            "_________________________________________________________________\n",
            "max_pooling2d_1 (MaxPooling2 (None, 36, 36, 64)        0         \n",
            "_________________________________________________________________\n",
            "conv2d_2 (Conv2D)            (None, 34, 34, 128)       73856     \n",
            "_________________________________________________________________\n",
            "max_pooling2d_2 (MaxPooling2 (None, 17, 17, 128)       0         \n",
            "_________________________________________________________________\n",
            "conv2d_3 (Conv2D)            (None, 15, 15, 128)       147584    \n",
            "_________________________________________________________________\n",
            "max_pooling2d_3 (MaxPooling2 (None, 7, 7, 128)         0         \n",
            "_________________________________________________________________\n",
            "flatten (Flatten)            (None, 6272)              0         \n",
            "_________________________________________________________________\n",
            "dense (Dense)                (None, 512)               3211776   \n",
            "_________________________________________________________________\n",
            "dense_1 (Dense)              (None, 1)                 513       \n",
            "=================================================================\n",
            "Total params: 3,453,121\n",
            "Trainable params: 3,453,121\n",
            "Non-trainable params: 0\n",
            "_________________________________________________________________\n",
            "Found 2000 images belonging to 2 classes.\n",
            "Found 1000 images belonging to 2 classes.\n"
          ],
          "name": "stdout"
        },
        {
          "output_type": "stream",
          "text": [
            "/usr/local/lib/python3.7/dist-packages/tensorflow/python/keras/optimizer_v2/optimizer_v2.py:375: UserWarning: The `lr` argument is deprecated, use `learning_rate` instead.\n",
            "  \"The `lr` argument is deprecated, use `learning_rate` instead.\")\n",
            "/usr/local/lib/python3.7/dist-packages/keras/engine/training.py:1915: UserWarning: `Model.fit_generator` is deprecated and will be removed in a future version. Please use `Model.fit`, which supports generators.\n",
            "  warnings.warn('`Model.fit_generator` is deprecated and '\n"
          ],
          "name": "stderr"
        },
        {
          "output_type": "stream",
          "text": [
            "Epoch 1/30\n",
            "100/100 [==============================] - 53s 92ms/step - loss: 0.6970 - acc: 0.5410 - val_loss: 0.7711 - val_acc: 0.5250\n",
            "Epoch 2/30\n",
            "100/100 [==============================] - 9s 90ms/step - loss: 0.6673 - acc: 0.5970 - val_loss: 0.6567 - val_acc: 0.6550\n",
            "Epoch 3/30\n",
            "100/100 [==============================] - 9s 88ms/step - loss: 0.6244 - acc: 0.6418 - val_loss: 0.6143 - val_acc: 0.6600\n",
            "Epoch 4/30\n",
            "100/100 [==============================] - 9s 89ms/step - loss: 0.5821 - acc: 0.6972 - val_loss: 0.5665 - val_acc: 0.7250\n",
            "Epoch 5/30\n",
            "100/100 [==============================] - 9s 89ms/step - loss: 0.5487 - acc: 0.7156 - val_loss: 0.6592 - val_acc: 0.5950\n",
            "Epoch 6/30\n",
            "100/100 [==============================] - 9s 87ms/step - loss: 0.5223 - acc: 0.7331 - val_loss: 0.5587 - val_acc: 0.7300\n",
            "Epoch 7/30\n",
            "100/100 [==============================] - 9s 88ms/step - loss: 0.4604 - acc: 0.7751 - val_loss: 0.5806 - val_acc: 0.6750\n",
            "Epoch 8/30\n",
            "100/100 [==============================] - 9s 89ms/step - loss: 0.4598 - acc: 0.7911 - val_loss: 0.5279 - val_acc: 0.7200\n",
            "Epoch 9/30\n",
            "100/100 [==============================] - 9s 88ms/step - loss: 0.4186 - acc: 0.8032 - val_loss: 0.6319 - val_acc: 0.6650\n",
            "Epoch 10/30\n",
            "100/100 [==============================] - 9s 88ms/step - loss: 0.3931 - acc: 0.8276 - val_loss: 0.4846 - val_acc: 0.7550\n",
            "Epoch 11/30\n",
            "100/100 [==============================] - 9s 89ms/step - loss: 0.3534 - acc: 0.8488 - val_loss: 0.6501 - val_acc: 0.6650\n",
            "Epoch 12/30\n",
            "100/100 [==============================] - 9s 87ms/step - loss: 0.3546 - acc: 0.8470 - val_loss: 0.4936 - val_acc: 0.7450\n",
            "Epoch 13/30\n",
            "100/100 [==============================] - 9s 89ms/step - loss: 0.3102 - acc: 0.8698 - val_loss: 0.7256 - val_acc: 0.7000\n",
            "Epoch 14/30\n",
            "100/100 [==============================] - 9s 89ms/step - loss: 0.3312 - acc: 0.8640 - val_loss: 0.5970 - val_acc: 0.7400\n",
            "Epoch 15/30\n",
            "100/100 [==============================] - 9s 87ms/step - loss: 0.2894 - acc: 0.8796 - val_loss: 0.6937 - val_acc: 0.7100\n",
            "Epoch 16/30\n",
            "100/100 [==============================] - 9s 87ms/step - loss: 0.2645 - acc: 0.8934 - val_loss: 0.6183 - val_acc: 0.7250\n",
            "Epoch 17/30\n",
            "100/100 [==============================] - 9s 88ms/step - loss: 0.2413 - acc: 0.9145 - val_loss: 0.7956 - val_acc: 0.7100\n",
            "Epoch 18/30\n",
            "100/100 [==============================] - 9s 87ms/step - loss: 0.2232 - acc: 0.9144 - val_loss: 0.6692 - val_acc: 0.7350\n",
            "Epoch 19/30\n",
            "100/100 [==============================] - 9s 89ms/step - loss: 0.1924 - acc: 0.9239 - val_loss: 0.6739 - val_acc: 0.7400\n",
            "Epoch 20/30\n",
            "100/100 [==============================] - 9s 88ms/step - loss: 0.1740 - acc: 0.9370 - val_loss: 0.7122 - val_acc: 0.6950\n",
            "Epoch 21/30\n",
            "100/100 [==============================] - 9s 88ms/step - loss: 0.1471 - acc: 0.9494 - val_loss: 0.6653 - val_acc: 0.7400\n",
            "Epoch 22/30\n",
            "100/100 [==============================] - 9s 90ms/step - loss: 0.1372 - acc: 0.9508 - val_loss: 0.9220 - val_acc: 0.7250\n",
            "Epoch 23/30\n",
            "100/100 [==============================] - 9s 88ms/step - loss: 0.1375 - acc: 0.9477 - val_loss: 0.6138 - val_acc: 0.7750\n",
            "Epoch 24/30\n",
            "100/100 [==============================] - 9s 89ms/step - loss: 0.1125 - acc: 0.9627 - val_loss: 0.8664 - val_acc: 0.7000\n",
            "Epoch 25/30\n",
            "100/100 [==============================] - 9s 88ms/step - loss: 0.0882 - acc: 0.9720 - val_loss: 0.7038 - val_acc: 0.7550\n",
            "Epoch 26/30\n",
            "100/100 [==============================] - 9s 89ms/step - loss: 0.0719 - acc: 0.9826 - val_loss: 1.1034 - val_acc: 0.7200\n",
            "Epoch 27/30\n",
            "100/100 [==============================] - 9s 88ms/step - loss: 0.0641 - acc: 0.9819 - val_loss: 0.9283 - val_acc: 0.6950\n",
            "Epoch 28/30\n",
            "100/100 [==============================] - 9s 88ms/step - loss: 0.0583 - acc: 0.9886 - val_loss: 1.1997 - val_acc: 0.7000\n",
            "Epoch 29/30\n",
            "100/100 [==============================] - 9s 90ms/step - loss: 0.0539 - acc: 0.9830 - val_loss: 0.8566 - val_acc: 0.7400\n",
            "Epoch 30/30\n",
            "100/100 [==============================] - 9s 89ms/step - loss: 0.0352 - acc: 0.9922 - val_loss: 0.9299 - val_acc: 0.7000\n"
          ],
          "name": "stdout"
        }
      ]
    },
    {
      "cell_type": "code",
      "metadata": {
        "id": "7leTcOkLoN-v"
      },
      "source": [
        "model.save('cats_and_dogs_small_1.h5')\n",
        "\n",
        "import matplotlib.pyplot as plt\n",
        "\n",
        "accuracy = history.history['acc']\n",
        "validation_acuracy = history.history['val_acc']\n",
        "loss = history.history['loss']\n",
        "validation_loss = history.history['val_loss']\n",
        "\n",
        "epochs = range(1, len(accuracy) + 1)\n",
        "\n",
        "plt.plot(epochs, acc, 'bo', label='训练的准确度')\n",
        "plt.plot(epochs, val_acc, 'b', label='验证集的准确度')\n",
        "plt.title('训练集和验证集的准确度对比图')\n",
        "plt.legend()\n",
        "\n",
        "plt.figure()\n",
        "\n",
        "plt.plot(epochs, loss, 'bo', label='训练的损失函数值')\n",
        "plt.plot(epochs, val_loss, 'b', label='验证集的损失函数')\n",
        "plt.title('训练与验证的损失函数对比图')\n",
        "plt.legend()\n"
      ],
      "execution_count": null,
      "outputs": []
    },
    {
      "cell_type": "code",
      "metadata": {
        "colab": {
          "base_uri": "https://localhost:8080/"
        },
        "id": "LP2hm8yqm2yQ",
        "outputId": "7787fa31-8321-433b-e4af-28fb02043274"
      },
      "source": [
        "#第二次训练\n",
        "from keras import layers\n",
        "from keras import models\n",
        "model = models.Sequential()\n",
        "model.add(layers.Conv2D(32,(3,3),activation=\"relu\",input_shape=(150,150,3)))\n",
        "model.add(layers.MaxPooling2D((2,2)))\n",
        "model.add(layers.Conv2D(64,(3,3),activation=\"relu\"))\n",
        "model.add(layers.MaxPooling2D((2,2)))\n",
        "model.add(layers.Conv2D(128,(3,3),activation=\"relu\"))\n",
        "model.add(layers.MaxPooling2D((2,2)))\n",
        "model.add(layers.Conv2D(128,(3,3),activation=\"relu\"))\n",
        "model.add(layers.MaxPooling2D((2,2)))\n",
        "\n",
        "model.add(layers.Flatten())\n",
        "model.add(layers.Dropout(0.5))\n",
        "model.add(layers.Dense(512,activation=\"relu\"))\n",
        "model.add(layers.Dense(1,activation=\"sigmoid\"))\n",
        "model.summary()\n",
        "from keras.preprocessing.image import ImageDataGenerator\n",
        "train_data_gen = ImageDataGenerator(rescale=1./255)\n",
        "test_data_gen = ImageDataGenerator(rescale=1./255)\n",
        "train_gennerator = train_data_gen.flow_from_directory(train_dir,\n",
        "                            target_size=(150, 150),\n",
        "                            batch_size=20,\n",
        "                            class_mode='binary')\n",
        "validation_gennerator = test_data_gen.flow_from_directory(validation_dir,\n",
        "                            target_size=(150, 150),\n",
        "                            batch_size=20,\n",
        "                            class_mode='binary')\n",
        "\n",
        "from keras import optimizers \n",
        " \n",
        "#aa\n",
        "#model.compile(loss='binary_crossentropy', optimizer='rmsprop', metrics=['accuracy'])\n",
        "\n",
        "model.compile(loss='binary_crossentropy', \n",
        "              optimizer=optimizers.RMSprop(lr=1e-4),\n",
        "              metrics=['acc'])\n",
        "history = model.fit_generator(train_gennerator,\n",
        "                steps_per_epoch=100,\n",
        "                epochs=30,\n",
        "                validation_data=validation_gennerator,\n",
        "                validation_steps=10)"
      ],
      "execution_count": 13,
      "outputs": [
        {
          "output_type": "stream",
          "text": [
            "Model: \"sequential_3\"\n",
            "_________________________________________________________________\n",
            "Layer (type)                 Output Shape              Param #   \n",
            "=================================================================\n",
            "conv2d_12 (Conv2D)           (None, 148, 148, 32)      896       \n",
            "_________________________________________________________________\n",
            "max_pooling2d_12 (MaxPooling (None, 74, 74, 32)        0         \n",
            "_________________________________________________________________\n",
            "conv2d_13 (Conv2D)           (None, 72, 72, 64)        18496     \n",
            "_________________________________________________________________\n",
            "max_pooling2d_13 (MaxPooling (None, 36, 36, 64)        0         \n",
            "_________________________________________________________________\n",
            "conv2d_14 (Conv2D)           (None, 34, 34, 128)       73856     \n",
            "_________________________________________________________________\n",
            "max_pooling2d_14 (MaxPooling (None, 17, 17, 128)       0         \n",
            "_________________________________________________________________\n",
            "conv2d_15 (Conv2D)           (None, 15, 15, 128)       147584    \n",
            "_________________________________________________________________\n",
            "max_pooling2d_15 (MaxPooling (None, 7, 7, 128)         0         \n",
            "_________________________________________________________________\n",
            "flatten_3 (Flatten)          (None, 6272)              0         \n",
            "_________________________________________________________________\n",
            "dropout_2 (Dropout)          (None, 6272)              0         \n",
            "_________________________________________________________________\n",
            "dense_6 (Dense)              (None, 512)               3211776   \n",
            "_________________________________________________________________\n",
            "dense_7 (Dense)              (None, 1)                 513       \n",
            "=================================================================\n",
            "Total params: 3,453,121\n",
            "Trainable params: 3,453,121\n",
            "Non-trainable params: 0\n",
            "_________________________________________________________________\n",
            "Found 2000 images belonging to 2 classes.\n",
            "Found 1000 images belonging to 2 classes.\n"
          ],
          "name": "stdout"
        },
        {
          "output_type": "stream",
          "text": [
            "/usr/local/lib/python3.7/dist-packages/tensorflow/python/keras/optimizer_v2/optimizer_v2.py:375: UserWarning: The `lr` argument is deprecated, use `learning_rate` instead.\n",
            "  \"The `lr` argument is deprecated, use `learning_rate` instead.\")\n",
            "/usr/local/lib/python3.7/dist-packages/keras/engine/training.py:1915: UserWarning: `Model.fit_generator` is deprecated and will be removed in a future version. Please use `Model.fit`, which supports generators.\n",
            "  warnings.warn('`Model.fit_generator` is deprecated and '\n"
          ],
          "name": "stderr"
        },
        {
          "output_type": "stream",
          "text": [
            "Epoch 1/30\n",
            "100/100 [==============================] - 11s 95ms/step - loss: 0.7110 - acc: 0.5057 - val_loss: 0.6839 - val_acc: 0.6050\n",
            "Epoch 2/30\n",
            "100/100 [==============================] - 9s 89ms/step - loss: 0.6810 - acc: 0.5715 - val_loss: 0.7016 - val_acc: 0.5350\n",
            "Epoch 3/30\n",
            "100/100 [==============================] - 9s 90ms/step - loss: 0.6558 - acc: 0.6059 - val_loss: 0.6423 - val_acc: 0.6050\n",
            "Epoch 4/30\n",
            "100/100 [==============================] - 9s 90ms/step - loss: 0.6266 - acc: 0.6377 - val_loss: 0.6443 - val_acc: 0.6400\n",
            "Epoch 5/30\n",
            "100/100 [==============================] - 9s 89ms/step - loss: 0.5942 - acc: 0.6775 - val_loss: 0.6060 - val_acc: 0.6500\n",
            "Epoch 6/30\n",
            "100/100 [==============================] - 9s 89ms/step - loss: 0.5419 - acc: 0.7217 - val_loss: 0.5272 - val_acc: 0.7250\n",
            "Epoch 7/30\n",
            "100/100 [==============================] - 9s 91ms/step - loss: 0.5262 - acc: 0.7280 - val_loss: 0.5304 - val_acc: 0.7400\n",
            "Epoch 8/30\n",
            "100/100 [==============================] - 9s 92ms/step - loss: 0.4943 - acc: 0.7628 - val_loss: 0.5947 - val_acc: 0.6550\n",
            "Epoch 9/30\n",
            "100/100 [==============================] - 9s 91ms/step - loss: 0.5089 - acc: 0.7411 - val_loss: 0.6152 - val_acc: 0.6750\n",
            "Epoch 10/30\n",
            "100/100 [==============================] - 9s 90ms/step - loss: 0.4891 - acc: 0.7611 - val_loss: 0.5296 - val_acc: 0.7150\n",
            "Epoch 11/30\n",
            "100/100 [==============================] - 9s 88ms/step - loss: 0.4482 - acc: 0.7718 - val_loss: 0.5802 - val_acc: 0.7350\n",
            "Epoch 12/30\n",
            "100/100 [==============================] - 9s 91ms/step - loss: 0.4301 - acc: 0.8007 - val_loss: 0.6366 - val_acc: 0.7150\n",
            "Epoch 13/30\n",
            "100/100 [==============================] - 9s 89ms/step - loss: 0.4206 - acc: 0.7976 - val_loss: 0.6142 - val_acc: 0.6750\n",
            "Epoch 14/30\n",
            "100/100 [==============================] - 9s 90ms/step - loss: 0.4134 - acc: 0.8197 - val_loss: 0.4965 - val_acc: 0.7500\n",
            "Epoch 15/30\n",
            "100/100 [==============================] - 9s 90ms/step - loss: 0.3954 - acc: 0.8297 - val_loss: 0.6181 - val_acc: 0.6850\n",
            "Epoch 16/30\n",
            "100/100 [==============================] - 9s 90ms/step - loss: 0.3771 - acc: 0.8290 - val_loss: 0.6092 - val_acc: 0.7300\n",
            "Epoch 17/30\n",
            "100/100 [==============================] - 9s 91ms/step - loss: 0.3622 - acc: 0.8475 - val_loss: 0.7451 - val_acc: 0.6300\n",
            "Epoch 18/30\n",
            "100/100 [==============================] - 9s 89ms/step - loss: 0.3426 - acc: 0.8431 - val_loss: 0.4763 - val_acc: 0.7700\n",
            "Epoch 19/30\n",
            "100/100 [==============================] - 9s 89ms/step - loss: 0.3346 - acc: 0.8611 - val_loss: 0.6274 - val_acc: 0.6850\n",
            "Epoch 20/30\n",
            "100/100 [==============================] - 9s 91ms/step - loss: 0.3072 - acc: 0.8663 - val_loss: 0.5719 - val_acc: 0.7150\n",
            "Epoch 21/30\n",
            "100/100 [==============================] - 9s 88ms/step - loss: 0.3138 - acc: 0.8742 - val_loss: 0.5616 - val_acc: 0.7700\n",
            "Epoch 22/30\n",
            "100/100 [==============================] - 9s 88ms/step - loss: 0.2925 - acc: 0.8882 - val_loss: 0.5194 - val_acc: 0.7350\n",
            "Epoch 23/30\n",
            "100/100 [==============================] - 9s 91ms/step - loss: 0.2706 - acc: 0.8971 - val_loss: 0.6860 - val_acc: 0.7150\n",
            "Epoch 24/30\n",
            "100/100 [==============================] - 9s 90ms/step - loss: 0.2605 - acc: 0.8937 - val_loss: 0.6423 - val_acc: 0.7150\n",
            "Epoch 25/30\n",
            "100/100 [==============================] - 9s 89ms/step - loss: 0.2467 - acc: 0.9072 - val_loss: 0.5231 - val_acc: 0.7750\n",
            "Epoch 26/30\n",
            "100/100 [==============================] - 9s 89ms/step - loss: 0.2260 - acc: 0.9079 - val_loss: 0.6658 - val_acc: 0.7350\n",
            "Epoch 27/30\n",
            "100/100 [==============================] - 9s 92ms/step - loss: 0.2300 - acc: 0.9070 - val_loss: 0.5821 - val_acc: 0.7400\n",
            "Epoch 28/30\n",
            "100/100 [==============================] - 9s 90ms/step - loss: 0.2266 - acc: 0.9043 - val_loss: 0.5821 - val_acc: 0.7450\n",
            "Epoch 29/30\n",
            "100/100 [==============================] - 9s 90ms/step - loss: 0.2168 - acc: 0.9056 - val_loss: 0.5216 - val_acc: 0.7450\n",
            "Epoch 30/30\n",
            "100/100 [==============================] - 9s 89ms/step - loss: 0.1944 - acc: 0.9229 - val_loss: 0.5377 - val_acc: 0.7800\n"
          ],
          "name": "stdout"
        }
      ]
    },
    {
      "cell_type": "code",
      "metadata": {
        "colab": {
          "base_uri": "https://localhost:8080/",
          "height": 1000
        },
        "id": "K4VAav5NsKQk",
        "outputId": "7e51095d-e948-401f-b8b4-174e98d10cd9"
      },
      "source": [
        "model.save('cats_and_dogs_small_2.h5')\n",
        "\n",
        "import matplotlib.pyplot as plt\n",
        "\n",
        "accuracy = history.history['acc']\n",
        "validation_acuracy = history.history['val_acc']\n",
        "loss = history.history['loss']\n",
        "validation_loss = history.history['val_loss']\n",
        "\n",
        "epochs = range(1, len(accuracy) + 1)\n",
        "\n",
        "plt.plot(epochs, accuracy, 'bo', label='训练的准确度')\n",
        "plt.plot(epochs, validation_acuracy, 'b', label='验证集的准确度')\n",
        "plt.title('训练集和验证集的准确度对比图')\n",
        "plt.legend()\n",
        "\n",
        "plt.figure()\n",
        "\n",
        "plt.plot(epochs, loss, 'bo', label='训练的损失函数值')\n",
        "plt.plot(epochs, validation_loss, 'b', label='验证集的损失函数')\n",
        "plt.title('训练与验证的损失函数对比图')\n",
        "plt.legend()\n"
      ],
      "execution_count": 15,
      "outputs": [
        {
          "output_type": "execute_result",
          "data": {
            "text/plain": [
              "<matplotlib.legend.Legend at 0x7fc3d417c9d0>"
            ]
          },
          "metadata": {
            "tags": []
          },
          "execution_count": 15
        },
        {
          "output_type": "stream",
          "text": [
            "/usr/local/lib/python3.7/dist-packages/matplotlib/backends/backend_agg.py:214: RuntimeWarning: Glyph 35757 missing from current font.\n",
            "  font.set_text(s, 0.0, flags=flags)\n",
            "/usr/local/lib/python3.7/dist-packages/matplotlib/backends/backend_agg.py:214: RuntimeWarning: Glyph 32451 missing from current font.\n",
            "  font.set_text(s, 0.0, flags=flags)\n",
            "/usr/local/lib/python3.7/dist-packages/matplotlib/backends/backend_agg.py:214: RuntimeWarning: Glyph 38598 missing from current font.\n",
            "  font.set_text(s, 0.0, flags=flags)\n",
            "/usr/local/lib/python3.7/dist-packages/matplotlib/backends/backend_agg.py:214: RuntimeWarning: Glyph 21644 missing from current font.\n",
            "  font.set_text(s, 0.0, flags=flags)\n",
            "/usr/local/lib/python3.7/dist-packages/matplotlib/backends/backend_agg.py:214: RuntimeWarning: Glyph 39564 missing from current font.\n",
            "  font.set_text(s, 0.0, flags=flags)\n",
            "/usr/local/lib/python3.7/dist-packages/matplotlib/backends/backend_agg.py:214: RuntimeWarning: Glyph 35777 missing from current font.\n",
            "  font.set_text(s, 0.0, flags=flags)\n",
            "/usr/local/lib/python3.7/dist-packages/matplotlib/backends/backend_agg.py:214: RuntimeWarning: Glyph 30340 missing from current font.\n",
            "  font.set_text(s, 0.0, flags=flags)\n",
            "/usr/local/lib/python3.7/dist-packages/matplotlib/backends/backend_agg.py:214: RuntimeWarning: Glyph 20934 missing from current font.\n",
            "  font.set_text(s, 0.0, flags=flags)\n",
            "/usr/local/lib/python3.7/dist-packages/matplotlib/backends/backend_agg.py:214: RuntimeWarning: Glyph 30830 missing from current font.\n",
            "  font.set_text(s, 0.0, flags=flags)\n",
            "/usr/local/lib/python3.7/dist-packages/matplotlib/backends/backend_agg.py:214: RuntimeWarning: Glyph 24230 missing from current font.\n",
            "  font.set_text(s, 0.0, flags=flags)\n",
            "/usr/local/lib/python3.7/dist-packages/matplotlib/backends/backend_agg.py:214: RuntimeWarning: Glyph 23545 missing from current font.\n",
            "  font.set_text(s, 0.0, flags=flags)\n",
            "/usr/local/lib/python3.7/dist-packages/matplotlib/backends/backend_agg.py:214: RuntimeWarning: Glyph 27604 missing from current font.\n",
            "  font.set_text(s, 0.0, flags=flags)\n",
            "/usr/local/lib/python3.7/dist-packages/matplotlib/backends/backend_agg.py:214: RuntimeWarning: Glyph 22270 missing from current font.\n",
            "  font.set_text(s, 0.0, flags=flags)\n",
            "/usr/local/lib/python3.7/dist-packages/matplotlib/backends/backend_agg.py:183: RuntimeWarning: Glyph 35757 missing from current font.\n",
            "  font.set_text(s, 0, flags=flags)\n",
            "/usr/local/lib/python3.7/dist-packages/matplotlib/backends/backend_agg.py:183: RuntimeWarning: Glyph 32451 missing from current font.\n",
            "  font.set_text(s, 0, flags=flags)\n",
            "/usr/local/lib/python3.7/dist-packages/matplotlib/backends/backend_agg.py:183: RuntimeWarning: Glyph 38598 missing from current font.\n",
            "  font.set_text(s, 0, flags=flags)\n",
            "/usr/local/lib/python3.7/dist-packages/matplotlib/backends/backend_agg.py:183: RuntimeWarning: Glyph 21644 missing from current font.\n",
            "  font.set_text(s, 0, flags=flags)\n",
            "/usr/local/lib/python3.7/dist-packages/matplotlib/backends/backend_agg.py:183: RuntimeWarning: Glyph 39564 missing from current font.\n",
            "  font.set_text(s, 0, flags=flags)\n",
            "/usr/local/lib/python3.7/dist-packages/matplotlib/backends/backend_agg.py:183: RuntimeWarning: Glyph 35777 missing from current font.\n",
            "  font.set_text(s, 0, flags=flags)\n",
            "/usr/local/lib/python3.7/dist-packages/matplotlib/backends/backend_agg.py:183: RuntimeWarning: Glyph 30340 missing from current font.\n",
            "  font.set_text(s, 0, flags=flags)\n",
            "/usr/local/lib/python3.7/dist-packages/matplotlib/backends/backend_agg.py:183: RuntimeWarning: Glyph 20934 missing from current font.\n",
            "  font.set_text(s, 0, flags=flags)\n",
            "/usr/local/lib/python3.7/dist-packages/matplotlib/backends/backend_agg.py:183: RuntimeWarning: Glyph 30830 missing from current font.\n",
            "  font.set_text(s, 0, flags=flags)\n",
            "/usr/local/lib/python3.7/dist-packages/matplotlib/backends/backend_agg.py:183: RuntimeWarning: Glyph 24230 missing from current font.\n",
            "  font.set_text(s, 0, flags=flags)\n",
            "/usr/local/lib/python3.7/dist-packages/matplotlib/backends/backend_agg.py:183: RuntimeWarning: Glyph 23545 missing from current font.\n",
            "  font.set_text(s, 0, flags=flags)\n",
            "/usr/local/lib/python3.7/dist-packages/matplotlib/backends/backend_agg.py:183: RuntimeWarning: Glyph 27604 missing from current font.\n",
            "  font.set_text(s, 0, flags=flags)\n",
            "/usr/local/lib/python3.7/dist-packages/matplotlib/backends/backend_agg.py:183: RuntimeWarning: Glyph 22270 missing from current font.\n",
            "  font.set_text(s, 0, flags=flags)\n",
            "/usr/local/lib/python3.7/dist-packages/matplotlib/backends/backend_agg.py:214: RuntimeWarning: Glyph 19982 missing from current font.\n",
            "  font.set_text(s, 0.0, flags=flags)\n",
            "/usr/local/lib/python3.7/dist-packages/matplotlib/backends/backend_agg.py:214: RuntimeWarning: Glyph 25439 missing from current font.\n",
            "  font.set_text(s, 0.0, flags=flags)\n",
            "/usr/local/lib/python3.7/dist-packages/matplotlib/backends/backend_agg.py:214: RuntimeWarning: Glyph 22833 missing from current font.\n",
            "  font.set_text(s, 0.0, flags=flags)\n",
            "/usr/local/lib/python3.7/dist-packages/matplotlib/backends/backend_agg.py:214: RuntimeWarning: Glyph 20989 missing from current font.\n",
            "  font.set_text(s, 0.0, flags=flags)\n",
            "/usr/local/lib/python3.7/dist-packages/matplotlib/backends/backend_agg.py:214: RuntimeWarning: Glyph 25968 missing from current font.\n",
            "  font.set_text(s, 0.0, flags=flags)\n",
            "/usr/local/lib/python3.7/dist-packages/matplotlib/backends/backend_agg.py:183: RuntimeWarning: Glyph 19982 missing from current font.\n",
            "  font.set_text(s, 0, flags=flags)\n",
            "/usr/local/lib/python3.7/dist-packages/matplotlib/backends/backend_agg.py:183: RuntimeWarning: Glyph 25439 missing from current font.\n",
            "  font.set_text(s, 0, flags=flags)\n",
            "/usr/local/lib/python3.7/dist-packages/matplotlib/backends/backend_agg.py:183: RuntimeWarning: Glyph 22833 missing from current font.\n",
            "  font.set_text(s, 0, flags=flags)\n",
            "/usr/local/lib/python3.7/dist-packages/matplotlib/backends/backend_agg.py:183: RuntimeWarning: Glyph 20989 missing from current font.\n",
            "  font.set_text(s, 0, flags=flags)\n",
            "/usr/local/lib/python3.7/dist-packages/matplotlib/backends/backend_agg.py:183: RuntimeWarning: Glyph 25968 missing from current font.\n",
            "  font.set_text(s, 0, flags=flags)\n",
            "/usr/local/lib/python3.7/dist-packages/matplotlib/backends/backend_agg.py:214: RuntimeWarning: Glyph 20540 missing from current font.\n",
            "  font.set_text(s, 0.0, flags=flags)\n",
            "/usr/local/lib/python3.7/dist-packages/matplotlib/backends/backend_agg.py:183: RuntimeWarning: Glyph 20540 missing from current font.\n",
            "  font.set_text(s, 0, flags=flags)\n"
          ],
          "name": "stderr"
        },
        {
          "output_type": "display_data",
          "data": {
            "image/png": "[encoded data removed]",
            "text/plain": [
              "<Figure size 432x288 with 1 Axes>"
            ]
          },
          "metadata": {
            "tags": [],
            "needs_background": "light"
          }
        },
        {
          "output_type": "display_data",
          "data": {
            "image/png": "[encoded data removed]",
            "text/plain": [
              "<Figure size 432x288 with 1 Axes>"
            ]
          },
          "metadata": {
            "tags": [],
            "needs_background": "light"
          }
        }
      ]
    },
    {
      "cell_type": "code",
      "metadata": {
        "colab": {
          "base_uri": "https://localhost:8080/"
        },
        "id": "CAEJTYoZs1YR",
        "outputId": "4467737b-6a5e-4c51-f9df-cf8d914c9362"
      },
      "source": [
        "#第三次训练,在发现进行fropoout随机断开\n",
        "from keras import layers\n",
        "from keras import models\n",
        "model = models.Sequential()\n",
        "model.add(layers.Conv2D(32,(3,3),activation=\"relu\",input_shape=(150,150,3)))\n",
        "model.add(layers.MaxPooling2D((2,2)))\n",
        "model.add(layers.Conv2D(64,(3,3),activation=\"relu\"))\n",
        "model.add(layers.MaxPooling2D((2,2)))\n",
        "model.add(layers.Conv2D(128,(3,3),activation=\"relu\"))\n",
        "model.add(layers.MaxPooling2D((2,2)))\n",
        "model.add(layers.Conv2D(128,(3,3),activation=\"relu\"))\n",
        "model.add(layers.MaxPooling2D((2,2)))\n",
        "\n",
        "model.add(layers.Flatten())\n",
        "model.add(layers.Dropout(0.5))\n",
        "model.add(layers.Dense(512,activation=\"relu\"))\n",
        "model.add(layers.Dense(1,activation=\"sigmoid\"))\n",
        "model.summary()\n",
        "from keras.preprocessing.image import ImageDataGenerator\n",
        "train_data_gen = ImageDataGenerator(rescale=1./255,\n",
        "                  rotation_range=40,\n",
        "                  width_shift_range=0.2,\n",
        "                  height_shift_range=0.2,\n",
        "                  shear_range=0.2,\n",
        "                  zoom_range=0.2,\n",
        "                  horizontal_flip=True)\n",
        "test_data_gen = ImageDataGenerator(rescale=1./255)\n",
        "train_gennerator = train_data_gen.flow_from_directory(train_dir,\n",
        "                            target_size=(150, 150),\n",
        "                            batch_size=20,\n",
        "                            class_mode='binary')\n",
        "validation_gennerator = test_data_gen.flow_from_directory(validation_dir,\n",
        "                            target_size=(150, 150),\n",
        "                            batch_size=20,\n",
        "                            class_mode='binary')\n",
        "\n",
        "from keras import optimizers \n",
        " \n",
        "#aa\n",
        "#model.compile(loss='binary_crossentropy', optimizer='rmsprop', metrics=['accuracy'])\n",
        "\n",
        "model.compile(loss='binary_crossentropy', \n",
        "              optimizer=optimizers.Adam(),\n",
        "              metrics=['acc'])\n",
        "history = model.fit_generator(train_gennerator,\n",
        "                steps_per_epoch=100,\n",
        "                epochs=30,\n",
        "                validation_data=validation_gennerator,\n",
        "                validation_steps=10)"
      ],
      "execution_count": 18,
      "outputs": [
        {
          "output_type": "stream",
          "text": [
            "Model: \"sequential_4\"\n",
            "_________________________________________________________________\n",
            "Layer (type)                 Output Shape              Param #   \n",
            "=================================================================\n",
            "conv2d_16 (Conv2D)           (None, 148, 148, 32)      896       \n",
            "_________________________________________________________________\n",
            "max_pooling2d_16 (MaxPooling (None, 74, 74, 32)        0         \n",
            "_________________________________________________________________\n",
            "conv2d_17 (Conv2D)           (None, 72, 72, 64)        18496     \n",
            "_________________________________________________________________\n",
            "max_pooling2d_17 (MaxPooling (None, 36, 36, 64)        0         \n",
            "_________________________________________________________________\n",
            "conv2d_18 (Conv2D)           (None, 34, 34, 128)       73856     \n",
            "_________________________________________________________________\n",
            "max_pooling2d_18 (MaxPooling (None, 17, 17, 128)       0         \n",
            "_________________________________________________________________\n",
            "conv2d_19 (Conv2D)           (None, 15, 15, 128)       147584    \n",
            "_________________________________________________________________\n",
            "max_pooling2d_19 (MaxPooling (None, 7, 7, 128)         0         \n",
            "_________________________________________________________________\n",
            "flatten_4 (Flatten)          (None, 6272)              0         \n",
            "_________________________________________________________________\n",
            "dropout_3 (Dropout)          (None, 6272)              0         \n",
            "_________________________________________________________________\n",
            "dense_8 (Dense)              (None, 512)               3211776   \n",
            "_________________________________________________________________\n",
            "dense_9 (Dense)              (None, 1)                 513       \n",
            "=================================================================\n",
            "Total params: 3,453,121\n",
            "Trainable params: 3,453,121\n",
            "Non-trainable params: 0\n",
            "_________________________________________________________________\n",
            "Found 2000 images belonging to 2 classes.\n",
            "Found 1000 images belonging to 2 classes.\n"
          ],
          "name": "stdout"
        },
        {
          "output_type": "stream",
          "text": [
            "/usr/local/lib/python3.7/dist-packages/keras/engine/training.py:1915: UserWarning: `Model.fit_generator` is deprecated and will be removed in a future version. Please use `Model.fit`, which supports generators.\n",
            "  warnings.warn('`Model.fit_generator` is deprecated and '\n"
          ],
          "name": "stderr"
        },
        {
          "output_type": "stream",
          "text": [
            "Epoch 1/30\n",
            "100/100 [==============================] - 19s 181ms/step - loss: 0.7050 - acc: 0.4901 - val_loss: 0.6930 - val_acc: 0.5250\n",
            "Epoch 2/30\n",
            "100/100 [==============================] - 17s 174ms/step - loss: 0.6932 - acc: 0.5185 - val_loss: 0.6974 - val_acc: 0.4800\n",
            "Epoch 3/30\n",
            "100/100 [==============================] - 18s 176ms/step - loss: 0.6936 - acc: 0.4941 - val_loss: 0.6933 - val_acc: 0.5050\n",
            "Epoch 4/30\n",
            "100/100 [==============================] - 17s 173ms/step - loss: 0.6937 - acc: 0.5190 - val_loss: 0.6934 - val_acc: 0.5000\n",
            "Epoch 5/30\n",
            "100/100 [==============================] - 17s 173ms/step - loss: 0.6932 - acc: 0.4638 - val_loss: 0.6913 - val_acc: 0.4950\n",
            "Epoch 6/30\n",
            "100/100 [==============================] - 17s 173ms/step - loss: 0.6941 - acc: 0.5298 - val_loss: 0.6971 - val_acc: 0.3850\n",
            "Epoch 7/30\n",
            "100/100 [==============================] - 17s 172ms/step - loss: 0.6923 - acc: 0.5313 - val_loss: 0.7732 - val_acc: 0.4650\n",
            "Epoch 8/30\n",
            "100/100 [==============================] - 18s 177ms/step - loss: 0.6971 - acc: 0.4997 - val_loss: 0.6931 - val_acc: 0.5100\n",
            "Epoch 9/30\n",
            "100/100 [==============================] - 17s 174ms/step - loss: 0.6931 - acc: 0.5016 - val_loss: 0.6933 - val_acc: 0.4550\n",
            "Epoch 10/30\n",
            "100/100 [==============================] - 17s 174ms/step - loss: 0.6934 - acc: 0.5017 - val_loss: 0.6929 - val_acc: 0.4700\n",
            "Epoch 11/30\n",
            "100/100 [==============================] - 17s 172ms/step - loss: 0.6934 - acc: 0.4921 - val_loss: 0.6879 - val_acc: 0.5450\n",
            "Epoch 12/30\n",
            "100/100 [==============================] - 18s 176ms/step - loss: 0.6931 - acc: 0.5157 - val_loss: 0.6919 - val_acc: 0.5550\n",
            "Epoch 13/30\n",
            "100/100 [==============================] - 17s 174ms/step - loss: 0.6975 - acc: 0.4954 - val_loss: 0.6929 - val_acc: 0.5050\n",
            "Epoch 14/30\n",
            "100/100 [==============================] - 18s 175ms/step - loss: 0.6932 - acc: 0.4698 - val_loss: 0.6920 - val_acc: 0.5000\n",
            "Epoch 15/30\n",
            "100/100 [==============================] - 17s 173ms/step - loss: 0.6925 - acc: 0.5194 - val_loss: 0.6931 - val_acc: 0.5250\n",
            "Epoch 16/30\n",
            "100/100 [==============================] - 17s 173ms/step - loss: 0.6932 - acc: 0.4981 - val_loss: 0.6916 - val_acc: 0.5400\n",
            "Epoch 17/30\n",
            "100/100 [==============================] - 17s 173ms/step - loss: 0.6934 - acc: 0.5066 - val_loss: 0.6939 - val_acc: 0.5150\n",
            "Epoch 18/30\n",
            "100/100 [==============================] - 17s 174ms/step - loss: 0.6931 - acc: 0.5079 - val_loss: 0.6949 - val_acc: 0.4950\n",
            "Epoch 19/30\n",
            "100/100 [==============================] - 17s 171ms/step - loss: 0.6949 - acc: 0.5026 - val_loss: 0.6797 - val_acc: 0.5000\n",
            "Epoch 20/30\n",
            "100/100 [==============================] - 17s 173ms/step - loss: 0.6893 - acc: 0.5136 - val_loss: 0.6912 - val_acc: 0.5300\n",
            "Epoch 21/30\n",
            "100/100 [==============================] - 17s 174ms/step - loss: 0.6909 - acc: 0.5185 - val_loss: 0.7876 - val_acc: 0.5550\n",
            "Epoch 22/30\n",
            "100/100 [==============================] - 17s 171ms/step - loss: 0.6820 - acc: 0.5500 - val_loss: 0.6933 - val_acc: 0.4200\n",
            "Epoch 23/30\n",
            "100/100 [==============================] - 17s 172ms/step - loss: 0.6930 - acc: 0.5119 - val_loss: 0.6928 - val_acc: 0.4750\n",
            "Epoch 24/30\n",
            "100/100 [==============================] - 17s 173ms/step - loss: 0.6930 - acc: 0.4819 - val_loss: 0.6927 - val_acc: 0.5400\n",
            "Epoch 25/30\n",
            "100/100 [==============================] - 23s 227ms/step - loss: 0.6901 - acc: 0.4931 - val_loss: 0.6827 - val_acc: 0.5450\n",
            "Epoch 26/30\n",
            "100/100 [==============================] - 17s 172ms/step - loss: 0.6836 - acc: 0.5411 - val_loss: 0.6934 - val_acc: 0.4700\n",
            "Epoch 27/30\n",
            "100/100 [==============================] - 18s 176ms/step - loss: 0.6923 - acc: 0.5068 - val_loss: 0.6931 - val_acc: 0.5100\n",
            "Epoch 28/30\n",
            "100/100 [==============================] - 17s 174ms/step - loss: 0.6911 - acc: 0.5386 - val_loss: 0.6835 - val_acc: 0.6000\n",
            "Epoch 29/30\n",
            "100/100 [==============================] - 17s 173ms/step - loss: 0.6857 - acc: 0.5471 - val_loss: 0.6925 - val_acc: 0.5150\n",
            "Epoch 30/30\n",
            "100/100 [==============================] - 17s 174ms/step - loss: 0.6904 - acc: 0.5178 - val_loss: 0.6795 - val_acc: 0.5950\n"
          ],
          "name": "stdout"
        }
      ]
    },
    {
      "cell_type": "code",
      "metadata": {
        "id": "5oy2MYPrxuMj"
      },
      "source": [
        "import "
      ],
      "execution_count": null,
      "outputs": []
    },
    {
      "cell_type": "code",
      "metadata": {
        "id": "rq6iVa-_9xKn"
      },
      "source": [
        ""
      ],
      "execution_count": null,
      "outputs": []
    }
  ]
}