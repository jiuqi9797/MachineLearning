{
  "nbformat": 4,
  "nbformat_minor": 0,
  "metadata": {
    "colab": {
      "name": "Untitled0.ipynb",
      "provenance": [],
      "collapsed_sections": [],
      "authorship_tag": "ABX9TyMsF/tjx1bF0bEWhvNTMc0j",
      "include_colab_link": true
    },
    "kernelspec": {
      "name": "python3",
      "display_name": "Python 3"
    },
    "language_info": {
      "name": "python"
    }
  },
  "cells": [
    {
      "cell_type": "markdown",
      "metadata": {
        "id": "view-in-github",
        "colab_type": "text"
      },
      "source": [
        "<a href=\"https://colab.research.google.com/github/jiuqi9797/MachineLearning/blob/main/Untitled0.ipynb\" target=\"_parent\"><img src=\"https://colab.research.google.com/assets/colab-badge.svg\" alt=\"Open In Colab\"/></a>"
      ]
    },
    {
      "cell_type": "code",
      "metadata": {
        "colab": {
          "base_uri": "https://localhost:8080/"
        },
        "id": "CfdthafqN25j",
        "outputId": "b9ffe337-f665-42a0-c217-87141869b622"
      },
      "source": [
        "#先去kaggle获取api,之后在catsvsdogs获取数据\n",
        "import os\n",
        "os.environ['KAGGLE_USERNAME']=\"wzrziran\"\n",
        "os.environ['KAGGLE_KEY']=\"b4d101737c58f383daac0253b1852499\"\n",
        "!kaggle competitions download -c dogs-vs-cats"
      ],
      "execution_count": 1,
      "outputs": [
        {
          "output_type": "stream",
          "text": [
            "Warning: Looks like you're using an outdated API Version, please consider updating (server 1.5.12 / client 1.5.4)\n",
            "Downloading train.zip to /content\n",
            " 97% 528M/543M [00:03<00:00, 168MB/s]\n",
            "100% 543M/543M [00:03<00:00, 154MB/s]\n",
            "Downloading test1.zip to /content\n",
            " 95% 257M/271M [00:01<00:00, 157MB/s]\n",
            "100% 271M/271M [00:01<00:00, 164MB/s]\n",
            "Downloading sampleSubmission.csv to /content\n",
            "  0% 0.00/86.8k [00:00<?, ?B/s]\n",
            "100% 86.8k/86.8k [00:00<00:00, 89.4MB/s]\n"
          ],
          "name": "stdout"
        }
      ]
    },
    {
      "cell_type": "code",
      "metadata": {
        "colab": {
          "base_uri": "https://localhost:8080/"
        },
        "id": "MkJm9fetPS7i",
        "outputId": "86057950-87d1-4041-d331-c07cf032f391"
      },
      "source": [
        "#对数据进行解压\n",
        "from zipfile import ZipFile\n",
        "#对测试的数据进行解压操作\n",
        "file_train_name =\"/content/train.zip\" \n",
        "\n",
        "with ZipFile(file_train_name,'r') as zip:\n",
        "  zip.extractall()\n",
        "  print('done')"
      ],
      "execution_count": 2,
      "outputs": [
        {
          "output_type": "stream",
          "text": [
            "done\n"
          ],
          "name": "stdout"
        }
      ]
    },
    {
      "cell_type": "code",
      "metadata": {
        "colab": {
          "base_uri": "https://localhost:8080/"
        },
        "id": "WG0SaLnGQ9Dv",
        "outputId": "5577ff25-515c-4ab1-f326-ce158b8c94cf"
      },
      "source": [
        "#进行训练train的统计 测试集图片数量 以及图片的命名方式 \n",
        "data_dir_list = os.listdir('/content/train')\n",
        "print(\"图片数量：\",len(data_dir_list)) \n",
        "print(data_dir_list[1:10]) \n",
        "#打印出来的样式\"cat.7022.jpg', 'cat.2207.jpg', 'dog.5572.jpg'\n",
        " "
      ],
      "execution_count": 9,
      "outputs": [
        {
          "output_type": "stream",
          "text": [
            "图片数量： 25000\n",
            "['cat.7022.jpg', 'cat.2207.jpg', 'dog.5572.jpg', 'dog.1323.jpg', 'cat.8919.jpg', 'cat.11796.jpg', 'cat.8116.jpg', 'dog.5674.jpg', 'dog.1510.jpg']\n"
          ],
          "name": "stdout"
        }
      ]
    },
    {
      "cell_type": "code",
      "metadata": {
        "id": "Xy2gQ1cNpT--"
      },
      "source": [
        "#这里打印图片的命名可以发现都是类别加编号,并且都是jpg格式\n",
        "#定义好原始训练数据集的path，定义小量数据样本集的路径并且创建该路径\n",
        "oringinal_dataset_dir = \"/content/train\"\n",
        "base_dir =\"/content/cats_and_dogs_small\"\n",
        "os.mkdir(base_dir) "
      ],
      "execution_count": 27,
      "outputs": []
    },
    {
      "cell_type": "code",
      "metadata": {
        "id": "0A4DWeuppU98"
      },
      "source": [
        ""
      ],
      "execution_count": 26,
      "outputs": []
    },
    {
      "cell_type": "code",
      "metadata": {
        "id": "LGZULzFGYOUO"
      },
      "source": [
        "#创建训练集目录\n",
        "train_dir =os.path.join(base_dir,'train')\n",
        "os.mkdir(train_dir)\n",
        "#创建验证集目录\n",
        "validation_dir =os.path.join(base_dir,'validation')\n",
        "os.mkdir(validation_dir)\n",
        "#创建测试集目录\n",
        "test_dir =os.path.join(base_dir,'test')\n",
        "os.mkdir(test_dir)\n",
        "\n",
        "#创建训练集下面cats目录\n",
        "train_cats_dir =os.path.join(train_dir,'cats')\n",
        "os.mkdir(train_cats_dir)\n",
        "#创建训练集下面dogs目录\n",
        "train_dogs_dir =os.path.join(train_dir,'dogs')\n",
        "os.mkdir(train_dogs_dir)\n",
        "\n",
        "#创建测试集下面cats目录\n",
        "test_cats_dir =os.path.join(test_dir,'cats')\n",
        "os.mkdir(test_cats_dir)\n",
        "#创建测试集下面dogs目录\n",
        "test_dogs_dir =os.path.join(test_dir,'dogs')\n",
        "os.mkdir(test_dogs_dir)\n",
        "\n",
        "#创建验证集下面cats目录\n",
        "validation_cats_dir =os.path.join(validation_dir,'cats')\n",
        "os.mkdir(validation_cats_dir)\n",
        "#创建验证集下面dogs目录\n",
        "validation_dogs_dir =os.path.join(validation_dir,'dogs')\n",
        "os.mkdir(validation_dogs_dir)"
      ],
      "execution_count": 28,
      "outputs": []
    },
    {
      "cell_type": "code",
      "metadata": {
        "id": "wwQJMF1fcURt"
      },
      "source": [
        "import shutil\n",
        "fnames = ['dog.{}.jpg'.format(i) for i in range(1000)]\n",
        "for fname in fnames:\n",
        "  src = os.path.join(oringinal_dataset_dir,fname)\n",
        "  dst = os.path.join(train_dogs_dir,fname)\n",
        "  shutil.copyfile(src,dst)\n",
        "fnames = ['dog.{}.jpg'.format(i) for i in range(1000,1500)]\n",
        "for fname in fnames:\n",
        "  src = os.path.join(oringinal_dataset_dir,fname)\n",
        "  dst = os.path.join(test_dogs_dir,fname)\n",
        "  shutil.copyfile(src,dst)\n",
        "fnames = ['dog.{}.jpg'.format(i) for i in range(1500,2000)]\n",
        "for fname in fnames:\n",
        "  src = os.path.join(oringinal_dataset_dir,fname)\n",
        "  dst = os.path.join(validation_dogs_dir,fname)\n",
        "  shutil.copyfile(src,dst)\n",
        "fnames = ['cat.{}.jpg'.format(i) for i in range(1000)]\n",
        "for fname in fnames:\n",
        "  src = os.path.join(oringinal_dataset_dir,fname)\n",
        "  dst = os.path.join(train_cats_dir,fname)\n",
        "  shutil.copyfile(src,dst)\n",
        "fnames = ['cat.{}.jpg'.format(i) for i in range(1000,1500)]\n",
        "for fname in fnames:\n",
        "  src = os.path.join(oringinal_dataset_dir,fname)\n",
        "  dst = os.path.join(test_cats_dir,fname)\n",
        "  shutil.copyfile(src,dst)\n",
        "fnames = ['cat.{}.jpg'.format(i) for i in range(1500,2000)]\n",
        "for fname in fnames:\n",
        "  src = os.path.join(oringinal_dataset_dir,fname)\n",
        "  dst = os.path.join(validation_cats_dir,fname)\n",
        "  shutil.copyfile(src,dst)"
      ],
      "execution_count": 29,
      "outputs": []
    },
    {
      "cell_type": "code",
      "metadata": {
        "colab": {
          "base_uri": "https://localhost:8080/"
        },
        "id": "WkgmVDsxjOm7",
        "outputId": "3531be7b-b675-4845-dd46-9ee8fbf20c17"
      },
      "source": [
        "#对于shutle进行image的copy之后，通过打印查看里面train test 以及 validation里面的图片当中关于cat和dog图片的数量\n",
        "#train当中 有1000张 validation和test各500张\n",
        "print(\"样本当中 训练集 train--cat图片数量\",len(os.listdir(train_cats_dir)))\n",
        "print(\"样本当中训练集train--dog图片数量\",len(os.listdir(train_dogs_dir)))\n",
        "print(\"样本当中测试集test--cat图片数量\",len(os.listdir(test_cats_dir)))\n",
        "print(\"样本当中测试集test--dog图片数量\",len(os.listdir(test_dogs_dir)))\n",
        "print(\"样本当中验证集validation--cat图片数量\",len(os.listdir(validation_cats_dir)))\n",
        "print(\"样本当中验证集validation--dog图片数量\",len(os.listdir(validation_dogs_dir)))"
      ],
      "execution_count": 32,
      "outputs": [
        {
          "output_type": "stream",
          "text": [
            "样本当中 训练集 train--cat图片数量 1000\n",
            "样本当中训练集train--dog图片数量 1000\n",
            "样本当中测试集test--cat图片数量 500\n",
            "样本当中测试集test--dog图片数量 500\n",
            "样本当中验证集validation--cat图片数量 500\n",
            "样本当中验证集validation--dog图片数量 500\n"
          ],
          "name": "stdout"
        }
      ]
    },
    {
      "cell_type": "code",
      "metadata": {
        "colab": {
          "base_uri": "https://localhost:8080/"
        },
        "id": "gpuzcHjxyb2o",
        "outputId": "f15eea16-037e-40e0-d362-b4a5c10c89d5"
      },
      "source": [
        "from keras import layers\n",
        "from keras import models\n",
        "model = models.Sequential()\n",
        "model.add(layers.Conv2D(32,(3,3),activation=\"relu\",input_shape=(150,150,3)))\n",
        "model.add(layers.MaxPooling2D((2,2)))\n",
        "model.add(layers.Conv2D(64,(3,3),activation=\"relu\"))\n",
        "model.add(layers.MaxPooling2D((2,2)))\n",
        "model.add(layers.Conv2D(128,(3,3),activation=\"relu\"))\n",
        "model.add(layers.MaxPooling2D((2,2)))\n",
        "model.add(layers.Conv2D(128,(3,3),activation=\"relu\"))\n",
        "model.add(layers.MaxPooling2D((2,2)))\n",
        "model.add(layers.Flatten())\n",
        "model.add(layers.Dense(512,activation=\"relu\"))\n",
        "model.add(layers.Dense(1,activation=\"sigmoid\"))\n",
        "model.summary()\n"
      ],
      "execution_count": 34,
      "outputs": [
        {
          "output_type": "stream",
          "text": [
            "Model: \"sequential_1\"\n",
            "_________________________________________________________________\n",
            "Layer (type)                 Output Shape              Param #   \n",
            "=================================================================\n",
            "conv2d_3 (Conv2D)            (None, 148, 148, 32)      896       \n",
            "_________________________________________________________________\n",
            "max_pooling2d_3 (MaxPooling2 (None, 74, 74, 32)        0         \n",
            "_________________________________________________________________\n",
            "conv2d_4 (Conv2D)            (None, 72, 72, 64)        18496     \n",
            "_________________________________________________________________\n",
            "max_pooling2d_4 (MaxPooling2 (None, 36, 36, 64)        0         \n",
            "_________________________________________________________________\n",
            "conv2d_5 (Conv2D)            (None, 34, 34, 128)       73856     \n",
            "_________________________________________________________________\n",
            "max_pooling2d_5 (MaxPooling2 (None, 17, 17, 128)       0         \n",
            "_________________________________________________________________\n",
            "conv2d_6 (Conv2D)            (None, 15, 15, 128)       147584    \n",
            "_________________________________________________________________\n",
            "max_pooling2d_6 (MaxPooling2 (None, 7, 7, 128)         0         \n",
            "_________________________________________________________________\n",
            "flatten_1 (Flatten)          (None, 6272)              0         \n",
            "_________________________________________________________________\n",
            "dense_2 (Dense)              (None, 512)               3211776   \n",
            "_________________________________________________________________\n",
            "dense_3 (Dense)              (None, 1)                 513       \n",
            "=================================================================\n",
            "Total params: 3,453,121\n",
            "Trainable params: 3,453,121\n",
            "Non-trainable params: 0\n",
            "_________________________________________________________________\n"
          ],
          "name": "stdout"
        }
      ]
    },
    {
      "cell_type": "code",
      "metadata": {
        "id": "LogqvmaR1Lzf"
      },
      "source": [
        ""
      ],
      "execution_count": null,
      "outputs": []
    }
  ]
}