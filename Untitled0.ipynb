{
  "nbformat": 4,
  "nbformat_minor": 0,
  "metadata": {
    "colab": {
      "name": "Untitled0.ipynb",
      "provenance": [],
      "collapsed_sections": [],
      "authorship_tag": "ABX9TyNNIveTlzhqQC/gL6m7U+W0",
      "include_colab_link": true
    },
    "kernelspec": {
      "name": "python3",
      "display_name": "Python 3"
    },
    "language_info": {
      "name": "python"
    },
    "accelerator": "GPU"
  },
  "cells": [
    {
      "cell_type": "markdown",
      "metadata": {
        "id": "view-in-github",
        "colab_type": "text"
      },
      "source": [
        "<a href=\"https://colab.research.google.com/github/jiuqi9797/MachineLearning/blob/main/Untitled0.ipynb\" target=\"_parent\"><img src=\"https://colab.research.google.com/assets/colab-badge.svg\" alt=\"Open In Colab\"/></a>"
      ]
    },
    {
      "cell_type": "code",
      "metadata": {
        "colab": {
          "base_uri": "https://localhost:8080/"
        },
        "id": "CfdthafqN25j",
        "outputId": "6b867a38-b3d0-4fa1-acac-86a67577b5ac"
      },
      "source": [
        "#先去kaggle获取api,之后在catsvsdogs获取数据\n",
        "import os\n",
        "os.environ['KAGGLE_USERNAME']=\"wzrziran\"\n",
        "os.environ['KAGGLE_KEY']=\"b4d101737c58f383daac0253b1852499\"\n",
        "!kaggle competitions download -c dogs-vs-cats"
      ],
      "execution_count": 14,
      "outputs": [
        {
          "output_type": "stream",
          "text": [
            "Warning: Looks like you're using an outdated API Version, please consider updating (server 1.5.12 / client 1.5.4)\n",
            "Downloading train.zip to /content\n",
            " 98% 532M/543M [00:03<00:00, 219MB/s]\n",
            "100% 543M/543M [00:03<00:00, 153MB/s]\n",
            "Downloading sampleSubmission.csv to /content\n",
            "  0% 0.00/86.8k [00:00<?, ?B/s]\n",
            "100% 86.8k/86.8k [00:00<00:00, 27.5MB/s]\n",
            "Downloading test1.zip to /content\n",
            " 95% 257M/271M [00:02<00:00, 111MB/s] \n",
            "100% 271M/271M [00:02<00:00, 103MB/s]\n"
          ],
          "name": "stdout"
        }
      ]
    },
    {
      "cell_type": "code",
      "metadata": {
        "colab": {
          "base_uri": "https://localhost:8080/"
        },
        "id": "MkJm9fetPS7i",
        "outputId": "374798a4-c940-4d78-8429-a959eecd8d17"
      },
      "source": [
        "#对数据进行解压\n",
        "from zipfile import ZipFile\n",
        "#对测试的数据进行解压操作\n",
        "file_train_name =\"/content/train.zip\" \n",
        "\n",
        "with ZipFile(file_train_name,'r') as zip:\n",
        "  zip.extractall()\n",
        "  print('done')"
      ],
      "execution_count": 15,
      "outputs": [
        {
          "output_type": "stream",
          "text": [
            "done\n"
          ],
          "name": "stdout"
        }
      ]
    },
    {
      "cell_type": "code",
      "metadata": {
        "colab": {
          "base_uri": "https://localhost:8080/"
        },
        "id": "WG0SaLnGQ9Dv",
        "outputId": "83250322-c1fd-43f6-eb21-99315a5e8bd1"
      },
      "source": [
        "#进行训练train的统计 测试集图片数量 以及图片的命名方式 \n",
        "data_dir_list = os.listdir('/content/train')\n",
        "print(\"图片数量：\",len(data_dir_list)) \n",
        "print(data_dir_list[1:10]) \n",
        "#打印出来的样式\"cat.7022.jpg', 'cat.2207.jpg', 'dog.5572.jpg'\n",
        " "
      ],
      "execution_count": 16,
      "outputs": [
        {
          "output_type": "stream",
          "text": [
            "图片数量： 25000\n",
            "['dog.8597.jpg', 'cat.10594.jpg', 'dog.9624.jpg', 'cat.1796.jpg', 'cat.8881.jpg', 'dog.7139.jpg', 'dog.6088.jpg', 'cat.733.jpg', 'dog.5124.jpg']\n"
          ],
          "name": "stdout"
        }
      ]
    },
    {
      "cell_type": "code",
      "metadata": {
        "id": "Xy2gQ1cNpT--"
      },
      "source": [
        "#这里打印图片的命名可以发现都是类别加编号,并且都是jpg格式\n",
        "#定义好原始训练数据集的path，定义小量数据样本集的路径并且创建该路径\n",
        "oringinal_dataset_dir = \"/content/train\"\n",
        "base_dir =\"/content/cats_and_dogs_small\"\n",
        "os.mkdir(base_dir) "
      ],
      "execution_count": 17,
      "outputs": []
    },
    {
      "cell_type": "code",
      "metadata": {
        "id": "0A4DWeuppU98"
      },
      "source": [
        ""
      ],
      "execution_count": 26,
      "outputs": []
    },
    {
      "cell_type": "code",
      "metadata": {
        "id": "LGZULzFGYOUO"
      },
      "source": [
        "#创建训练集目录\n",
        "train_dir =os.path.join(base_dir,'train')\n",
        "os.mkdir(train_dir)\n",
        "#创建验证集目录\n",
        "validation_dir =os.path.join(base_dir,'validation')\n",
        "os.mkdir(validation_dir)\n",
        "#创建测试集目录\n",
        "test_dir =os.path.join(base_dir,'test')\n",
        "os.mkdir(test_dir)\n",
        "\n",
        "#创建训练集下面cats目录\n",
        "train_cats_dir =os.path.join(train_dir,'cats')\n",
        "os.mkdir(train_cats_dir)\n",
        "#创建训练集下面dogs目录\n",
        "train_dogs_dir =os.path.join(train_dir,'dogs')\n",
        "os.mkdir(train_dogs_dir)\n",
        "\n",
        "#创建测试集下面cats目录\n",
        "test_cats_dir =os.path.join(test_dir,'cats')\n",
        "os.mkdir(test_cats_dir)\n",
        "#创建测试集下面dogs目录\n",
        "test_dogs_dir =os.path.join(test_dir,'dogs')\n",
        "os.mkdir(test_dogs_dir)\n",
        "\n",
        "#创建验证集下面cats目录\n",
        "validation_cats_dir =os.path.join(validation_dir,'cats')\n",
        "os.mkdir(validation_cats_dir)\n",
        "#创建验证集下面dogs目录\n",
        "validation_dogs_dir =os.path.join(validation_dir,'dogs')\n",
        "os.mkdir(validation_dogs_dir)"
      ],
      "execution_count": 18,
      "outputs": []
    },
    {
      "cell_type": "code",
      "metadata": {
        "id": "wwQJMF1fcURt"
      },
      "source": [
        "import shutil\n",
        "fnames = ['dog.{}.jpg'.format(i) for i in range(1000)]\n",
        "for fname in fnames:\n",
        "  src = os.path.join(oringinal_dataset_dir,fname)\n",
        "  dst = os.path.join(train_dogs_dir,fname)\n",
        "  shutil.copyfile(src,dst)\n",
        "fnames = ['dog.{}.jpg'.format(i) for i in range(1000,1500)]\n",
        "for fname in fnames:\n",
        "  src = os.path.join(oringinal_dataset_dir,fname)\n",
        "  dst = os.path.join(test_dogs_dir,fname)\n",
        "  shutil.copyfile(src,dst)\n",
        "fnames = ['dog.{}.jpg'.format(i) for i in range(1500,2000)]\n",
        "for fname in fnames:\n",
        "  src = os.path.join(oringinal_dataset_dir,fname)\n",
        "  dst = os.path.join(validation_dogs_dir,fname)\n",
        "  shutil.copyfile(src,dst)\n",
        "fnames = ['cat.{}.jpg'.format(i) for i in range(1000)]\n",
        "for fname in fnames:\n",
        "  src = os.path.join(oringinal_dataset_dir,fname)\n",
        "  dst = os.path.join(train_cats_dir,fname)\n",
        "  shutil.copyfile(src,dst)\n",
        "fnames = ['cat.{}.jpg'.format(i) for i in range(1000,1500)]\n",
        "for fname in fnames:\n",
        "  src = os.path.join(oringinal_dataset_dir,fname)\n",
        "  dst = os.path.join(test_cats_dir,fname)\n",
        "  shutil.copyfile(src,dst)\n",
        "fnames = ['cat.{}.jpg'.format(i) for i in range(1500,2000)]\n",
        "for fname in fnames:\n",
        "  src = os.path.join(oringinal_dataset_dir,fname)\n",
        "  dst = os.path.join(validation_cats_dir,fname)\n",
        "  shutil.copyfile(src,dst)"
      ],
      "execution_count": 19,
      "outputs": []
    },
    {
      "cell_type": "code",
      "metadata": {
        "colab": {
          "base_uri": "https://localhost:8080/"
        },
        "id": "WkgmVDsxjOm7",
        "outputId": "c89cb98a-0568-4238-ad23-2987a061643a"
      },
      "source": [
        "#对于shutle进行image的copy之后，通过打印查看里面train test 以及 validation里面的图片当中关于cat和dog图片的数量\n",
        "#train当中 有1000张 validation和test各500张\n",
        "print(\"样本当中 训练集 train--cat图片数量\",len(os.listdir(train_cats_dir)))\n",
        "print(\"样本当中训练集train--dog图片数量\",len(os.listdir(train_dogs_dir)))\n",
        "print(\"样本当中测试集test--cat图片数量\",len(os.listdir(test_cats_dir)))\n",
        "print(\"样本当中测试集test--dog图片数量\",len(os.listdir(test_dogs_dir)))\n",
        "print(\"样本当中验证集validation--cat图片数量\",len(os.listdir(validation_cats_dir)))\n",
        "print(\"样本当中验证集validation--dog图片数量\",len(os.listdir(validation_dogs_dir)))"
      ],
      "execution_count": 20,
      "outputs": [
        {
          "output_type": "stream",
          "text": [
            "样本当中 训练集 train--cat图片数量 1000\n",
            "样本当中训练集train--dog图片数量 1000\n",
            "样本当中测试集test--cat图片数量 500\n",
            "样本当中测试集test--dog图片数量 500\n",
            "样本当中验证集validation--cat图片数量 500\n",
            "样本当中验证集validation--dog图片数量 500\n"
          ],
          "name": "stdout"
        }
      ]
    },
    {
      "cell_type": "code",
      "metadata": {
        "colab": {
          "base_uri": "https://localhost:8080/"
        },
        "id": "qVjWS6voVBxP",
        "outputId": "306e2e2a-f4a9-4836-90bf-f2876a536dbc"
      },
      "source": [
        "from keras import layers\n",
        "from keras import models\n",
        "model = models.Sequential()\n",
        "model.add(layers.Conv2D(32,(3,3),activation=\"relu\",input_shape=(150,150,3)))\n",
        "model.add(layers.MaxPooling2D((2,2)))\n",
        "model.add(layers.Conv2D(64,(3,3),activation=\"relu\"))\n",
        "model.add(layers.MaxPooling2D((2,2)))\n",
        "model.add(layers.Conv2D(128,(3,3),activation=\"relu\"))\n",
        "model.add(layers.MaxPooling2D((2,2)))\n",
        "model.add(layers.Conv2D(128,(3,3),activation=\"relu\"))\n",
        "model.add(layers.MaxPooling2D((2,2)))\n",
        "model.add(layers.Flatten())\n",
        "model.add(layers.Dense(512,activation=\"relu\"))\n",
        "model.add(layers.Dense(1,activation=\"sigmoid\"))\n",
        "model.summary()\n",
        "from keras.preprocessing.image import ImageDataGenerator\n",
        "train_data_gen = ImageDataGenerator(rescale=1./255)\n",
        "test_data_gen = ImageDataGenerator(rescale=1./255)\n",
        "train_gennerator = train_data_gen.flow_from_directory(train_dir,\n",
        "                            target_size=(150, 150),\n",
        "                            batch_size=20,\n",
        "                            class_mode='binary')\n",
        "validation_gennerator = test_data_gen.flow_from_directory(validation_dir,\n",
        "                            target_size=(150, 150),\n",
        "                            batch_size=20,\n",
        "                            class_mode='binary')\n",
        "\n",
        "from keras import optimizers \n",
        " \n",
        "#aa\n",
        "#model.compile(loss='binary_crossentropy', optimizer='rmsprop', metrics=['accuracy'])\n",
        "\n",
        "model.compile(loss='binary_crossentropy', \n",
        "              optimizer=optimizers.RMSprop(lr=1e-4),\n",
        "              metrics=['acc'])\n",
        "history = model.fit_generator(train_gennerator,\n",
        "                steps_per_epoch=100,\n",
        "                epochs=30,\n",
        "                validation_data=validation_gennerator,\n",
        "                validation_steps=10)"
      ],
      "execution_count": 25,
      "outputs": [
        {
          "output_type": "stream",
          "text": [
            "Model: \"sequential_6\"\n",
            "_________________________________________________________________\n",
            "Layer (type)                 Output Shape              Param #   \n",
            "=================================================================\n",
            "conv2d_24 (Conv2D)           (None, 148, 148, 32)      896       \n",
            "_________________________________________________________________\n",
            "max_pooling2d_24 (MaxPooling (None, 74, 74, 32)        0         \n",
            "_________________________________________________________________\n",
            "conv2d_25 (Conv2D)           (None, 72, 72, 64)        18496     \n",
            "_________________________________________________________________\n",
            "max_pooling2d_25 (MaxPooling (None, 36, 36, 64)        0         \n",
            "_________________________________________________________________\n",
            "conv2d_26 (Conv2D)           (None, 34, 34, 128)       73856     \n",
            "_________________________________________________________________\n",
            "max_pooling2d_26 (MaxPooling (None, 17, 17, 128)       0         \n",
            "_________________________________________________________________\n",
            "conv2d_27 (Conv2D)           (None, 15, 15, 128)       147584    \n",
            "_________________________________________________________________\n",
            "max_pooling2d_27 (MaxPooling (None, 7, 7, 128)         0         \n",
            "_________________________________________________________________\n",
            "flatten_6 (Flatten)          (None, 6272)              0         \n",
            "_________________________________________________________________\n",
            "dense_12 (Dense)             (None, 512)               3211776   \n",
            "_________________________________________________________________\n",
            "dense_13 (Dense)             (None, 1)                 513       \n",
            "=================================================================\n",
            "Total params: 3,453,121\n",
            "Trainable params: 3,453,121\n",
            "Non-trainable params: 0\n",
            "_________________________________________________________________\n",
            "Found 2000 images belonging to 2 classes.\n",
            "Found 1000 images belonging to 2 classes.\n"
          ],
          "name": "stdout"
        },
        {
          "output_type": "stream",
          "text": [
            "/usr/local/lib/python3.7/dist-packages/tensorflow/python/keras/optimizer_v2/optimizer_v2.py:375: UserWarning: The `lr` argument is deprecated, use `learning_rate` instead.\n",
            "  \"The `lr` argument is deprecated, use `learning_rate` instead.\")\n",
            "/usr/local/lib/python3.7/dist-packages/keras/engine/training.py:1915: UserWarning: `Model.fit_generator` is deprecated and will be removed in a future version. Please use `Model.fit`, which supports generators.\n",
            "  warnings.warn('`Model.fit_generator` is deprecated and '\n"
          ],
          "name": "stderr"
        },
        {
          "output_type": "stream",
          "text": [
            "Epoch 1/30\n",
            "100/100 [==============================] - 8s 68ms/step - loss: 0.7029 - acc: 0.5173 - val_loss: 0.6766 - val_acc: 0.5700\n",
            "Epoch 2/30\n",
            "100/100 [==============================] - 6s 64ms/step - loss: 0.6690 - acc: 0.5945 - val_loss: 0.6398 - val_acc: 0.6450\n",
            "Epoch 3/30\n",
            "100/100 [==============================] - 6s 64ms/step - loss: 0.6182 - acc: 0.6688 - val_loss: 0.6347 - val_acc: 0.6150\n",
            "Epoch 4/30\n",
            "100/100 [==============================] - 6s 64ms/step - loss: 0.5755 - acc: 0.6941 - val_loss: 0.6074 - val_acc: 0.6700\n",
            "Epoch 5/30\n",
            "100/100 [==============================] - 7s 65ms/step - loss: 0.5498 - acc: 0.7300 - val_loss: 0.6669 - val_acc: 0.6400\n",
            "Epoch 6/30\n",
            "100/100 [==============================] - 6s 64ms/step - loss: 0.5061 - acc: 0.7427 - val_loss: 0.5343 - val_acc: 0.7400\n",
            "Epoch 7/30\n",
            "100/100 [==============================] - 6s 64ms/step - loss: 0.4746 - acc: 0.7639 - val_loss: 0.6408 - val_acc: 0.6550\n",
            "Epoch 8/30\n",
            "100/100 [==============================] - 6s 64ms/step - loss: 0.4634 - acc: 0.7727 - val_loss: 0.6014 - val_acc: 0.6850\n",
            "Epoch 9/30\n",
            "100/100 [==============================] - 6s 64ms/step - loss: 0.4262 - acc: 0.8008 - val_loss: 0.5683 - val_acc: 0.7250\n",
            "Epoch 10/30\n",
            "100/100 [==============================] - 6s 63ms/step - loss: 0.4072 - acc: 0.8315 - val_loss: 0.5451 - val_acc: 0.7150\n",
            "Epoch 11/30\n",
            "100/100 [==============================] - 6s 63ms/step - loss: 0.3800 - acc: 0.8298 - val_loss: 0.5151 - val_acc: 0.7350\n",
            "Epoch 12/30\n",
            "100/100 [==============================] - 6s 64ms/step - loss: 0.3555 - acc: 0.8429 - val_loss: 0.6161 - val_acc: 0.7100\n",
            "Epoch 13/30\n",
            "100/100 [==============================] - 6s 64ms/step - loss: 0.3275 - acc: 0.8619 - val_loss: 0.6168 - val_acc: 0.7100\n",
            "Epoch 14/30\n",
            "100/100 [==============================] - 7s 65ms/step - loss: 0.3084 - acc: 0.8651 - val_loss: 0.6525 - val_acc: 0.7050\n",
            "Epoch 15/30\n",
            "100/100 [==============================] - 7s 65ms/step - loss: 0.2675 - acc: 0.8916 - val_loss: 0.5095 - val_acc: 0.7550\n",
            "Epoch 16/30\n",
            "100/100 [==============================] - 6s 65ms/step - loss: 0.2563 - acc: 0.9007 - val_loss: 0.6890 - val_acc: 0.7050\n",
            "Epoch 17/30\n",
            "100/100 [==============================] - 6s 64ms/step - loss: 0.2193 - acc: 0.9071 - val_loss: 0.7124 - val_acc: 0.6800\n",
            "Epoch 18/30\n",
            "100/100 [==============================] - 6s 64ms/step - loss: 0.2100 - acc: 0.9204 - val_loss: 0.7541 - val_acc: 0.7000\n",
            "Epoch 19/30\n",
            "100/100 [==============================] - 7s 65ms/step - loss: 0.2029 - acc: 0.9265 - val_loss: 0.6402 - val_acc: 0.7150\n",
            "Epoch 20/30\n",
            "100/100 [==============================] - 7s 66ms/step - loss: 0.1788 - acc: 0.9273 - val_loss: 0.6777 - val_acc: 0.7050\n",
            "Epoch 21/30\n",
            "100/100 [==============================] - 7s 67ms/step - loss: 0.1545 - acc: 0.9495 - val_loss: 0.6483 - val_acc: 0.7050\n",
            "Epoch 22/30\n",
            "100/100 [==============================] - 7s 66ms/step - loss: 0.1427 - acc: 0.9555 - val_loss: 0.6914 - val_acc: 0.7200\n",
            "Epoch 23/30\n",
            "100/100 [==============================] - 7s 67ms/step - loss: 0.1141 - acc: 0.9588 - val_loss: 0.7008 - val_acc: 0.7700\n",
            "Epoch 24/30\n",
            "100/100 [==============================] - 6s 64ms/step - loss: 0.0942 - acc: 0.9759 - val_loss: 0.7633 - val_acc: 0.7350\n",
            "Epoch 25/30\n",
            "100/100 [==============================] - 6s 64ms/step - loss: 0.0900 - acc: 0.9715 - val_loss: 0.8431 - val_acc: 0.7400\n",
            "Epoch 26/30\n",
            "100/100 [==============================] - 6s 64ms/step - loss: 0.0763 - acc: 0.9775 - val_loss: 0.6942 - val_acc: 0.7800\n",
            "Epoch 27/30\n",
            "100/100 [==============================] - 6s 64ms/step - loss: 0.0539 - acc: 0.9876 - val_loss: 1.0384 - val_acc: 0.6750\n",
            "Epoch 28/30\n",
            "100/100 [==============================] - 6s 64ms/step - loss: 0.0498 - acc: 0.9898 - val_loss: 1.1271 - val_acc: 0.7150\n",
            "Epoch 29/30\n",
            "100/100 [==============================] - 6s 64ms/step - loss: 0.0501 - acc: 0.9872 - val_loss: 1.2064 - val_acc: 0.6700\n",
            "Epoch 30/30\n",
            "100/100 [==============================] - 6s 64ms/step - loss: 0.0398 - acc: 0.9891 - val_loss: 1.2026 - val_acc: 0.6700\n"
          ],
          "name": "stdout"
        }
      ]
    },
    {
      "cell_type": "code",
      "metadata": {
        "colab": {
          "base_uri": "https://localhost:8080/",
          "height": 545
        },
        "id": "jeScC5xbXpIw",
        "outputId": "50cad6e7-eec0-4cbc-de80-7372ee369ee6"
      },
      "source": [
        "model.save('cats_and_dogs_small_1.h5')\n",
        "\n",
        "import matplotlib.pyplot as plt\n",
        "\n",
        "acc = history.history['acc']\n",
        "val_acc = history.history['val_acc']\n",
        "loss = history.history['loss']\n",
        "val_loss = history.history['val_loss']\n",
        "\n",
        "epochs = range(1, len(acc) + 1)\n",
        "\n",
        "plt.plot(epochs, acc, 'bo', label='Training acc')\n",
        "plt.plot(epochs, val_acc, 'b', label='Validation acc')\n",
        "plt.title('Training and validation accuracy')\n",
        "plt.legend()\n",
        "\n",
        "plt.figure()\n",
        "\n",
        "plt.plot(epochs, loss, 'bo', label='Training loss')\n",
        "plt.plot(epochs, val_loss, 'b', label='Validation loss')\n",
        "plt.title('Training and validation loss')\n",
        "plt.legend()\n",
        "\n",
        "plt.show()"
      ],
      "execution_count": 26,
      "outputs": [
        {
          "output_type": "display_data",
          "data": {
            "image/png": "[encoded data removed]",
            "text/plain": [
              "<Figure size 432x288 with 1 Axes>"
            ]
          },
          "metadata": {
            "tags": [],
            "needs_background": "light"
          }
        },
        {
          "output_type": "display_data",
          "data": {
            "image/png": "[encoded data removed]",
            "text/plain": [
              "<Figure size 432x288 with 1 Axes>"
            ]
          },
          "metadata": {
            "tags": [],
            "needs_background": "light"
          }
        }
      ]
    },
    {
      "cell_type": "code",
      "metadata": {
        "id": "vpspxJBwX9lh"
      },
      "source": [
        ""
      ],
      "execution_count": null,
      "outputs": []
    }
  ]
}