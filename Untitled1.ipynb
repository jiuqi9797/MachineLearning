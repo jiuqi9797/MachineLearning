{
  "nbformat": 4,
  "nbformat_minor": 0,
  "metadata": {
    "colab": {
      "name": "Untitled1.ipynb",
      "provenance": [],
      "collapsed_sections": [],
      "authorship_tag": "ABX9TyOpXknl9xHad//JItsPhHR6",
      "include_colab_link": true
    },
    "kernelspec": {
      "display_name": "Python 3",
      "name": "python3"
    },
    "language_info": {
      "name": "python"
    },
    "accelerator": "GPU"
  },
  "cells": [
    {
      "cell_type": "markdown",
      "metadata": {
        "id": "view-in-github",
        "colab_type": "text"
      },
      "source": [
        "<a href=\"https://colab.research.google.com/github/jiuqi9797/MachineLearning/blob/main/Untitled1.ipynb\" target=\"_parent\"><img src=\"https://colab.research.google.com/assets/colab-badge.svg\" alt=\"Open In Colab\"/></a>"
      ]
    },
    {
      "cell_type": "code",
      "metadata": {
        "id": "X-h9ow7ajFaX"
      },
      "source": [
        "import os\n",
        "# 此处为google drive中的文件路径,drive为之前指定的工作根目录，要加上\n",
        "os.chdir(\"/content/drive/MyDrive/colab/keshe/\") "
      ],
      "execution_count": null,
      "outputs": []
    },
    {
      "cell_type": "code",
      "metadata": {
        "colab": {
          "base_uri": "https://localhost:8080/"
        },
        "id": "V3v7W4NWZc61",
        "outputId": "05625de4-5d95-41ee-953d-bcff490f4c61"
      },
      "source": [
        "import os\n",
        "os.environ['KAGGLE_USERNAME']=\"wzrziran\"\n",
        "os.environ['KAGGLE_KEY']=\"b4d101737c58f383daac0253b1852499\"\n",
        "!kaggle competitions download -c dogs-vs-cats"
      ],
      "execution_count": null,
      "outputs": [
        {
          "output_type": "stream",
          "text": [
            "Warning: Looks like you're using an outdated API Version, please consider updating (server 1.5.12 / client 1.5.4)\n",
            "Downloading train.zip to /content/drive/MyDrive/colab/keshe\n",
            " 97% 527M/543M [00:04<00:00, 176MB/s]\n",
            "100% 543M/543M [00:04<00:00, 130MB/s]\n",
            "Downloading sampleSubmission.csv to /content/drive/My Drive/colab/keshe\n",
            "  0% 0.00/86.8k [00:00<?, ?B/s]\n",
            "100% 86.8k/86.8k [00:00<00:00, 12.2MB/s]\n",
            "Downloading test1.zip to /content/drive/My Drive/colab/keshe\n",
            " 98% 267M/271M [00:03<00:00, 100MB/s] \n",
            "100% 271M/271M [00:03<00:00, 79.6MB/s]\n"
          ],
          "name": "stdout"
        }
      ]
    },
    {
      "cell_type": "code",
      "metadata": {
        "id": "Ox5XvJOijLOy"
      },
      "source": [
        ""
      ],
      "execution_count": null,
      "outputs": []
    },
    {
      "cell_type": "code",
      "metadata": {
        "colab": {
          "base_uri": "https://localhost:8080/"
        },
        "id": "OLW_8JwCihaP",
        "outputId": "6134cac4-0a0b-4a15-f1e5-e18015b4e20f"
      },
      "source": [
        ""
      ],
      "execution_count": null,
      "outputs": [
        {
          "output_type": "stream",
          "text": [
            "drive  sample_data  train\n"
          ],
          "name": "stdout"
        }
      ]
    },
    {
      "cell_type": "code",
      "metadata": {
        "colab": {
          "base_uri": "https://localhost:8080/"
        },
        "id": "YP73lekrZ1z2",
        "outputId": "be70a1b0-5501-44c4-8dca-b166f2f427f4"
      },
      "source": [
        "#对数据进行解压\n",
        "from zipfile import ZipFile\n",
        "#对测试的数据进行解压操作\n",
        "file_train_name =\"/content/drive/MyDrive/colab/keshe/train.zip\" \n",
        "\n",
        "with ZipFile(file_train_name,'r') as zip:\n",
        "  zip.extractall()\n",
        "  print('done')"
      ],
      "execution_count": null,
      "outputs": [
        {
          "output_type": "stream",
          "text": [
            "done\n"
          ],
          "name": "stdout"
        }
      ]
    },
    {
      "cell_type": "code",
      "metadata": {
        "colab": {
          "base_uri": "https://localhost:8080/"
        },
        "id": "rnTj01OUb03X",
        "outputId": "6fda1312-3a6b-4031-cf86-ed48573ef7fb"
      },
      "source": [
        "data_dir_list = os.listdir('/content/drive/MyDrive/colab/keshe/train')\n",
        "print(\"图片数量：\",len(data_dir_list)) \n",
        "print(data_dir_list[1:10]) "
      ],
      "execution_count": null,
      "outputs": [
        {
          "output_type": "stream",
          "text": [
            "图片数量： 25000\n",
            "['cat.1.jpg', 'cat.10.jpg', 'cat.100.jpg', 'cat.1000.jpg', 'cat.10000.jpg', 'cat.10001.jpg', 'cat.10002.jpg', 'cat.10003.jpg', 'cat.10004.jpg']\n"
          ],
          "name": "stdout"
        }
      ]
    },
    {
      "cell_type": "code",
      "metadata": {
        "id": "aXpfY9RBb7c_"
      },
      "source": [
        "import os\n",
        "#这里打印图片的命名可以发现都是类别加编号,并且都是jpg格式\n",
        "#定义好原始训练数据集的path，定义小量数据样本集的路径并且创建该路径\n",
        "oringinal_dataset_dir = \"/content/drive/MyDrive/colab/keshe/train\"\n",
        "base_dir =\"/content/drive/MyDrive/colab/keshe/cats_and_dogs_small\"\n",
        "\n",
        "#创建训练集目录\n",
        "train_dir =os.path.join(base_dir,'train')\n",
        "#创建验证集目录\n",
        "validation_dir =os.path.join(base_dir,'validation')\n",
        "#创建测试集目录\n",
        "test_dir =os.path.join(base_dir,'test')\n",
        "#创建训练集下面cats目录\n",
        "train_cats_dir =os.path.join(train_dir,'cats')\n",
        "#创建训练集下面dogs目录\n",
        "train_dogs_dir =os.path.join(train_dir,'dogs')\n",
        "#创建测试集下面cats目录\n",
        "test_cats_dir =os.path.join(test_dir,'cats')\n",
        "#创建测试集下面dogs目录\n",
        "test_dogs_dir =os.path.join(test_dir,'dogs')\n",
        "#创建验证集下面cats目录\n",
        "validation_cats_dir =os.path.join(validation_dir,'cats')\n",
        "#创建验证集下面dogs目录\n",
        "validation_dogs_dir =os.path.join(validation_dir,'dogs')"
      ],
      "execution_count": null,
      "outputs": []
    },
    {
      "cell_type": "code",
      "metadata": {
        "id": "Wu78Nyjxd0FT"
      },
      "source": [
        ""
      ],
      "execution_count": null,
      "outputs": []
    },
    {
      "cell_type": "code",
      "metadata": {
        "id": "yNohO7EocQH8"
      },
      "source": [
        "\n",
        "#第一次执行的时候使用\n",
        "base_dir =\"/content/drive/MyDrive/colab/keshe/cats_and_dogs_small\"\n",
        "oringinal_dataset_dir = \"/content/drive/MyDrive/colab/keshe/train\"\n",
        "os.mkdir(base_dir)\n",
        "#创建训练集目录\n",
        "train_dir =os.path.join(base_dir,'train')\n",
        "os.mkdir(train_dir)\n",
        "#创建验证集目录\n",
        "validation_dir =os.path.join(base_dir,'validation')\n",
        "os.mkdir(validation_dir)\n",
        "#创建测试集目录\n",
        "test_dir =os.path.join(base_dir,'test')\n",
        "os.mkdir(test_dir)\n",
        "\n",
        "#创建训练集下面cats目录\n",
        "train_cats_dir =os.path.join(train_dir,'cats')\n",
        "os.mkdir(train_cats_dir)\n",
        "#创建训练集下面dogs目录\n",
        "train_dogs_dir =os.path.join(train_dir,'dogs')\n",
        "os.mkdir(train_dogs_dir)\n",
        "\n",
        "#创建测试集下面cats目录\n",
        "test_cats_dir =os.path.join(test_dir,'cats')\n",
        "os.mkdir(test_cats_dir)\n",
        "#创建测试集下面dogs目录\n",
        "test_dogs_dir =os.path.join(test_dir,'dogs')\n",
        "os.mkdir(test_dogs_dir)\n",
        "\n",
        "#创建验证集下面cats目录\n",
        "validation_cats_dir =os.path.join(validation_dir,'cats')\n",
        "os.mkdir(validation_cats_dir)\n",
        "#创建验证集下面dogs目录\n",
        "validation_dogs_dir =os.path.join(validation_dir,'dogs')\n",
        "os.mkdir(validation_dogs_dir)"
      ],
      "execution_count": null,
      "outputs": []
    },
    {
      "cell_type": "code",
      "metadata": {
        "id": "HaNuZFmOcWRe"
      },
      "source": [
        "import shutil\n",
        "fnames = ['dog.{}.jpg'.format(i) for i in range(1000)]\n",
        "for fname in fnames:\n",
        "  src = os.path.join(oringinal_dataset_dir,fname)\n",
        "  dst = os.path.join(train_dogs_dir,fname)\n",
        "  shutil.copyfile(src,dst)\n",
        "fnames = ['dog.{}.jpg'.format(i) for i in range(1000,1500)]\n",
        "for fname in fnames:\n",
        "  src = os.path.join(oringinal_dataset_dir,fname)\n",
        "  dst = os.path.join(test_dogs_dir,fname)\n",
        "  shutil.copyfile(src,dst)\n",
        "fnames = ['dog.{}.jpg'.format(i) for i in range(1500,2000)]\n",
        "for fname in fnames:\n",
        "  src = os.path.join(oringinal_dataset_dir,fname)\n",
        "  dst = os.path.join(validation_dogs_dir,fname)\n",
        "  shutil.copyfile(src,dst)\n",
        "fnames = ['cat.{}.jpg'.format(i) for i in range(1000)]\n",
        "for fname in fnames:\n",
        "  src = os.path.join(oringinal_dataset_dir,fname)\n",
        "  dst = os.path.join(train_cats_dir,fname)\n",
        "  shutil.copyfile(src,dst)\n",
        "fnames = ['cat.{}.jpg'.format(i) for i in range(1000,1500)]\n",
        "for fname in fnames:\n",
        "  src = os.path.join(oringinal_dataset_dir,fname)\n",
        "  dst = os.path.join(test_cats_dir,fname)\n",
        "  shutil.copyfile(src,dst)\n",
        "fnames = ['cat.{}.jpg'.format(i) for i in range(1500,2000)]\n",
        "for fname in fnames:\n",
        "  src = os.path.join(oringinal_dataset_dir,fname)\n",
        "  dst = os.path.join(validation_cats_dir,fname)\n",
        "  shutil.copyfile(src,dst)"
      ],
      "execution_count": null,
      "outputs": []
    },
    {
      "cell_type": "code",
      "metadata": {
        "colab": {
          "base_uri": "https://localhost:8080/"
        },
        "id": "q1mTtcLwc7LL",
        "outputId": "03131906-7fe6-4d2d-ac55-c703c373abc6"
      },
      "source": [
        "#对于shutle进行image的copy之后，通过打印查看里面train test 以及 validation里面的图片当中关于cat和dog图片的数量\n",
        "#train当中 有1000张 validation和test各500张\n",
        "print(\"样本当中 训练集 train--cat图片数量\",len(os.listdir(train_cats_dir)))\n",
        "print(\"样本当中训练集train--dog图片数量\",len(os.listdir(train_dogs_dir)))\n",
        "print(\"样本当中测试集test--cat图片数量\",len(os.listdir(test_cats_dir)))\n",
        "print(\"样本当中测试集test--dog图片数量\",len(os.listdir(test_dogs_dir)))\n",
        "print(\"样本当中验证集validation--cat图片数量\",len(os.listdir(validation_cats_dir)))\n",
        "print(\"样本当中验证集validation--dog图片数量\",len(os.listdir(validation_dogs_dir)))"
      ],
      "execution_count": null,
      "outputs": [
        {
          "output_type": "stream",
          "text": [
            "样本当中 训练集 train--cat图片数量 1000\n",
            "样本当中训练集train--dog图片数量 1000\n",
            "样本当中测试集test--cat图片数量 500\n",
            "样本当中测试集test--dog图片数量 500\n",
            "样本当中验证集validation--cat图片数量 500\n",
            "样本当中验证集validation--dog图片数量 500\n"
          ],
          "name": "stdout"
        }
      ]
    },
    {
      "cell_type": "code",
      "metadata": {
        "colab": {
          "base_uri": "https://localhost:8080/"
        },
        "id": "skkgL2hodBmE",
        "outputId": "dd0424e5-4415-48f9-8c95-f0585b7a35b9"
      },
      "source": [
        "#第一次定义的模型\n",
        "from keras import layers\n",
        "from keras import models\n",
        "model = models.Sequential()\n",
        "model.add(layers.Conv2D(32,(3,3),activation=\"relu\",input_shape=(150,150,3)))\n",
        "model.add(layers.MaxPooling2D((2,2)))\n",
        "model.add(layers.Conv2D(64,(3,3),activation=\"relu\"))\n",
        "model.add(layers.MaxPooling2D((2,2)))\n",
        "model.add(layers.Conv2D(128,(3,3),activation=\"relu\"))\n",
        "model.add(layers.MaxPooling2D((2,2)))\n",
        "model.add(layers.Conv2D(128,(3,3),activation=\"relu\"))\n",
        "model.add(layers.MaxPooling2D((2,2)))\n",
        "model.add(layers.Flatten())\n",
        "model.add(layers.Dense(512,activation=\"relu\"))\n",
        "model.add(layers.Dense(1,activation=\"sigmoid\"))\n",
        "model.summary()\n",
        "from keras.preprocessing.image import ImageDataGenerator\n",
        "train_data_gen = ImageDataGenerator(rescale=1./255)\n",
        "test_data_gen = ImageDataGenerator(rescale=1./255)\n",
        "train_gennerator = train_data_gen.flow_from_directory(train_dir,\n",
        "                            target_size=(150, 150),\n",
        "                            batch_size=20,\n",
        "                            class_mode='binary')\n",
        "validation_gennerator = test_data_gen.flow_from_directory(validation_dir,\n",
        "                            target_size=(150, 150),\n",
        "                            batch_size=20,\n",
        "                            class_mode='binary')\n",
        "\n",
        "from keras import optimizers \n",
        " \n",
        "#aa\n",
        "#model.compile(loss='binary_crossentropy', optimizer='rmsprop', metrics=['accuracy'])\n",
        "\n",
        "model.compile(loss='binary_crossentropy', \n",
        "              optimizer=optimizers.RMSprop(lr=1e-4),\n",
        "              metrics=['acc'])\n",
        "history = model.fit_generator(train_gennerator,\n",
        "                steps_per_epoch=100,\n",
        "                epochs=30,\n",
        "                validation_data=validation_gennerator,\n",
        "                validation_steps=10)\n"
      ],
      "execution_count": null,
      "outputs": [
        {
          "output_type": "stream",
          "text": [
            "Model: \"sequential\"\n",
            "_________________________________________________________________\n",
            "Layer (type)                 Output Shape              Param #   \n",
            "=================================================================\n",
            "conv2d (Conv2D)              (None, 148, 148, 32)      896       \n",
            "_________________________________________________________________\n",
            "max_pooling2d (MaxPooling2D) (None, 74, 74, 32)        0         \n",
            "_________________________________________________________________\n",
            "conv2d_1 (Conv2D)            (None, 72, 72, 64)        18496     \n",
            "_________________________________________________________________\n",
            "max_pooling2d_1 (MaxPooling2 (None, 36, 36, 64)        0         \n",
            "_________________________________________________________________\n",
            "conv2d_2 (Conv2D)            (None, 34, 34, 128)       73856     \n",
            "_________________________________________________________________\n",
            "max_pooling2d_2 (MaxPooling2 (None, 17, 17, 128)       0         \n",
            "_________________________________________________________________\n",
            "conv2d_3 (Conv2D)            (None, 15, 15, 128)       147584    \n",
            "_________________________________________________________________\n",
            "max_pooling2d_3 (MaxPooling2 (None, 7, 7, 128)         0         \n",
            "_________________________________________________________________\n",
            "flatten (Flatten)            (None, 6272)              0         \n",
            "_________________________________________________________________\n",
            "dense (Dense)                (None, 512)               3211776   \n",
            "_________________________________________________________________\n",
            "dense_1 (Dense)              (None, 1)                 513       \n",
            "=================================================================\n",
            "Total params: 3,453,121\n",
            "Trainable params: 3,453,121\n",
            "Non-trainable params: 0\n",
            "_________________________________________________________________\n",
            "Found 2000 images belonging to 2 classes.\n",
            "Found 1000 images belonging to 2 classes.\n"
          ],
          "name": "stdout"
        },
        {
          "output_type": "stream",
          "text": [
            "/usr/local/lib/python3.7/dist-packages/tensorflow/python/keras/optimizer_v2/optimizer_v2.py:375: UserWarning: The `lr` argument is deprecated, use `learning_rate` instead.\n",
            "  \"The `lr` argument is deprecated, use `learning_rate` instead.\")\n",
            "/usr/local/lib/python3.7/dist-packages/keras/engine/training.py:1915: UserWarning: `Model.fit_generator` is deprecated and will be removed in a future version. Please use `Model.fit`, which supports generators.\n",
            "  warnings.warn('`Model.fit_generator` is deprecated and '\n"
          ],
          "name": "stderr"
        },
        {
          "output_type": "stream",
          "text": [
            "Epoch 1/30\n",
            "100/100 [==============================] - 53s 92ms/step - loss: 0.6970 - acc: 0.5410 - val_loss: 0.7711 - val_acc: 0.5250\n",
            "Epoch 2/30\n",
            "100/100 [==============================] - 9s 90ms/step - loss: 0.6673 - acc: 0.5970 - val_loss: 0.6567 - val_acc: 0.6550\n",
            "Epoch 3/30\n",
            "100/100 [==============================] - 9s 88ms/step - loss: 0.6244 - acc: 0.6418 - val_loss: 0.6143 - val_acc: 0.6600\n",
            "Epoch 4/30\n",
            "100/100 [==============================] - 9s 89ms/step - loss: 0.5821 - acc: 0.6972 - val_loss: 0.5665 - val_acc: 0.7250\n",
            "Epoch 5/30\n",
            "100/100 [==============================] - 9s 89ms/step - loss: 0.5487 - acc: 0.7156 - val_loss: 0.6592 - val_acc: 0.5950\n",
            "Epoch 6/30\n",
            "100/100 [==============================] - 9s 87ms/step - loss: 0.5223 - acc: 0.7331 - val_loss: 0.5587 - val_acc: 0.7300\n",
            "Epoch 7/30\n",
            "100/100 [==============================] - 9s 88ms/step - loss: 0.4604 - acc: 0.7751 - val_loss: 0.5806 - val_acc: 0.6750\n",
            "Epoch 8/30\n",
            "100/100 [==============================] - 9s 89ms/step - loss: 0.4598 - acc: 0.7911 - val_loss: 0.5279 - val_acc: 0.7200\n",
            "Epoch 9/30\n",
            "100/100 [==============================] - 9s 88ms/step - loss: 0.4186 - acc: 0.8032 - val_loss: 0.6319 - val_acc: 0.6650\n",
            "Epoch 10/30\n",
            "100/100 [==============================] - 9s 88ms/step - loss: 0.3931 - acc: 0.8276 - val_loss: 0.4846 - val_acc: 0.7550\n",
            "Epoch 11/30\n",
            "100/100 [==============================] - 9s 89ms/step - loss: 0.3534 - acc: 0.8488 - val_loss: 0.6501 - val_acc: 0.6650\n",
            "Epoch 12/30\n",
            "100/100 [==============================] - 9s 87ms/step - loss: 0.3546 - acc: 0.8470 - val_loss: 0.4936 - val_acc: 0.7450\n",
            "Epoch 13/30\n",
            "100/100 [==============================] - 9s 89ms/step - loss: 0.3102 - acc: 0.8698 - val_loss: 0.7256 - val_acc: 0.7000\n",
            "Epoch 14/30\n",
            "100/100 [==============================] - 9s 89ms/step - loss: 0.3312 - acc: 0.8640 - val_loss: 0.5970 - val_acc: 0.7400\n",
            "Epoch 15/30\n",
            "100/100 [==============================] - 9s 87ms/step - loss: 0.2894 - acc: 0.8796 - val_loss: 0.6937 - val_acc: 0.7100\n",
            "Epoch 16/30\n",
            "100/100 [==============================] - 9s 87ms/step - loss: 0.2645 - acc: 0.8934 - val_loss: 0.6183 - val_acc: 0.7250\n",
            "Epoch 17/30\n",
            "100/100 [==============================] - 9s 88ms/step - loss: 0.2413 - acc: 0.9145 - val_loss: 0.7956 - val_acc: 0.7100\n",
            "Epoch 18/30\n",
            "100/100 [==============================] - 9s 87ms/step - loss: 0.2232 - acc: 0.9144 - val_loss: 0.6692 - val_acc: 0.7350\n",
            "Epoch 19/30\n",
            "100/100 [==============================] - 9s 89ms/step - loss: 0.1924 - acc: 0.9239 - val_loss: 0.6739 - val_acc: 0.7400\n",
            "Epoch 20/30\n",
            "100/100 [==============================] - 9s 88ms/step - loss: 0.1740 - acc: 0.9370 - val_loss: 0.7122 - val_acc: 0.6950\n",
            "Epoch 21/30\n",
            "100/100 [==============================] - 9s 88ms/step - loss: 0.1471 - acc: 0.9494 - val_loss: 0.6653 - val_acc: 0.7400\n",
            "Epoch 22/30\n",
            "100/100 [==============================] - 9s 90ms/step - loss: 0.1372 - acc: 0.9508 - val_loss: 0.9220 - val_acc: 0.7250\n",
            "Epoch 23/30\n",
            "100/100 [==============================] - 9s 88ms/step - loss: 0.1375 - acc: 0.9477 - val_loss: 0.6138 - val_acc: 0.7750\n",
            "Epoch 24/30\n",
            "100/100 [==============================] - 9s 89ms/step - loss: 0.1125 - acc: 0.9627 - val_loss: 0.8664 - val_acc: 0.7000\n",
            "Epoch 25/30\n",
            "100/100 [==============================] - 9s 88ms/step - loss: 0.0882 - acc: 0.9720 - val_loss: 0.7038 - val_acc: 0.7550\n",
            "Epoch 26/30\n",
            "100/100 [==============================] - 9s 89ms/step - loss: 0.0719 - acc: 0.9826 - val_loss: 1.1034 - val_acc: 0.7200\n",
            "Epoch 27/30\n",
            "100/100 [==============================] - 9s 88ms/step - loss: 0.0641 - acc: 0.9819 - val_loss: 0.9283 - val_acc: 0.6950\n",
            "Epoch 28/30\n",
            "100/100 [==============================] - 9s 88ms/step - loss: 0.0583 - acc: 0.9886 - val_loss: 1.1997 - val_acc: 0.7000\n",
            "Epoch 29/30\n",
            "100/100 [==============================] - 9s 90ms/step - loss: 0.0539 - acc: 0.9830 - val_loss: 0.8566 - val_acc: 0.7400\n",
            "Epoch 30/30\n",
            "100/100 [==============================] - 9s 89ms/step - loss: 0.0352 - acc: 0.9922 - val_loss: 0.9299 - val_acc: 0.7000\n"
          ],
          "name": "stdout"
        }
      ]
    },
    {
      "cell_type": "code",
      "metadata": {
        "id": "7leTcOkLoN-v"
      },
      "source": [
        "model.save('cats_and_dogs_small_1.h5')\n",
        "\n",
        "import matplotlib.pyplot as plt\n",
        "\n",
        "accuracy = history.history['acc']\n",
        "validation_acuracy = history.history['val_acc']\n",
        "loss = history.history['loss']\n",
        "validation_loss = history.history['val_loss']\n",
        "\n",
        "epochs = range(1, len(accuracy) + 1)\n",
        "\n",
        "plt.plot(epochs, acc, 'bo', label='训练的准确度')\n",
        "plt.plot(epochs, val_acc, 'b', label='验证集的准确度')\n",
        "plt.title('训练集和验证集的准确度对比图')\n",
        "plt.legend()\n",
        "\n",
        "plt.figure()\n",
        "\n",
        "plt.plot(epochs, loss, 'bo', label='训练的损失函数值')\n",
        "plt.plot(epochs, val_loss, 'b', label='验证集的损失函数')\n",
        "plt.title('训练与验证的损失函数对比图')\n",
        "plt.legend()\n"
      ],
      "execution_count": null,
      "outputs": []
    },
    {
      "cell_type": "code",
      "metadata": {
        "colab": {
          "base_uri": "https://localhost:8080/"
        },
        "id": "LP2hm8yqm2yQ",
        "outputId": "7787fa31-8321-433b-e4af-28fb02043274"
      },
      "source": [
        "#第二次训练\n",
        "from keras import layers\n",
        "from keras import models\n",
        "model = models.Sequential()\n",
        "model.add(layers.Conv2D(32,(3,3),activation=\"relu\",input_shape=(150,150,3)))\n",
        "model.add(layers.MaxPooling2D((2,2)))\n",
        "model.add(layers.Conv2D(64,(3,3),activation=\"relu\"))\n",
        "model.add(layers.MaxPooling2D((2,2)))\n",
        "model.add(layers.Conv2D(128,(3,3),activation=\"relu\"))\n",
        "model.add(layers.MaxPooling2D((2,2)))\n",
        "model.add(layers.Conv2D(128,(3,3),activation=\"relu\"))\n",
        "model.add(layers.MaxPooling2D((2,2)))\n",
        "\n",
        "model.add(layers.Flatten())\n",
        "model.add(layers.Dropout(0.5))\n",
        "model.add(layers.Dense(512,activation=\"relu\"))\n",
        "model.add(layers.Dense(1,activation=\"sigmoid\"))\n",
        "model.summary()\n",
        "from keras.preprocessing.image import ImageDataGenerator\n",
        "train_data_gen = ImageDataGenerator(rescale=1./255)\n",
        "test_data_gen = ImageDataGenerator(rescale=1./255)\n",
        "train_gennerator = train_data_gen.flow_from_directory(train_dir,\n",
        "                            target_size=(150, 150),\n",
        "                            batch_size=20,\n",
        "                            class_mode='binary')\n",
        "validation_gennerator = test_data_gen.flow_from_directory(validation_dir,\n",
        "                            target_size=(150, 150),\n",
        "                            batch_size=20,\n",
        "                            class_mode='binary')\n",
        "\n",
        "from keras import optimizers \n",
        " \n",
        "#aa\n",
        "#model.compile(loss='binary_crossentropy', optimizer='rmsprop', metrics=['accuracy'])\n",
        "\n",
        "model.compile(loss='binary_crossentropy', \n",
        "              optimizer=optimizers.RMSprop(lr=1e-4),\n",
        "              metrics=['acc'])\n",
        "history = model.fit_generator(train_gennerator,\n",
        "                steps_per_epoch=100,\n",
        "                epochs=30,\n",
        "                validation_data=validation_gennerator,\n",
        "                validation_steps=10)"
      ],
      "execution_count": null,
      "outputs": [
        {
          "output_type": "stream",
          "text": [
            "Model: \"sequential_3\"\n",
            "_________________________________________________________________\n",
            "Layer (type)                 Output Shape              Param #   \n",
            "=================================================================\n",
            "conv2d_12 (Conv2D)           (None, 148, 148, 32)      896       \n",
            "_________________________________________________________________\n",
            "max_pooling2d_12 (MaxPooling (None, 74, 74, 32)        0         \n",
            "_________________________________________________________________\n",
            "conv2d_13 (Conv2D)           (None, 72, 72, 64)        18496     \n",
            "_________________________________________________________________\n",
            "max_pooling2d_13 (MaxPooling (None, 36, 36, 64)        0         \n",
            "_________________________________________________________________\n",
            "conv2d_14 (Conv2D)           (None, 34, 34, 128)       73856     \n",
            "_________________________________________________________________\n",
            "max_pooling2d_14 (MaxPooling (None, 17, 17, 128)       0         \n",
            "_________________________________________________________________\n",
            "conv2d_15 (Conv2D)           (None, 15, 15, 128)       147584    \n",
            "_________________________________________________________________\n",
            "max_pooling2d_15 (MaxPooling (None, 7, 7, 128)         0         \n",
            "_________________________________________________________________\n",
            "flatten_3 (Flatten)          (None, 6272)              0         \n",
            "_________________________________________________________________\n",
            "dropout_2 (Dropout)          (None, 6272)              0         \n",
            "_________________________________________________________________\n",
            "dense_6 (Dense)              (None, 512)               3211776   \n",
            "_________________________________________________________________\n",
            "dense_7 (Dense)              (None, 1)                 513       \n",
            "=================================================================\n",
            "Total params: 3,453,121\n",
            "Trainable params: 3,453,121\n",
            "Non-trainable params: 0\n",
            "_________________________________________________________________\n",
            "Found 2000 images belonging to 2 classes.\n",
            "Found 1000 images belonging to 2 classes.\n"
          ],
          "name": "stdout"
        },
        {
          "output_type": "stream",
          "text": [
            "/usr/local/lib/python3.7/dist-packages/tensorflow/python/keras/optimizer_v2/optimizer_v2.py:375: UserWarning: The `lr` argument is deprecated, use `learning_rate` instead.\n",
            "  \"The `lr` argument is deprecated, use `learning_rate` instead.\")\n",
            "/usr/local/lib/python3.7/dist-packages/keras/engine/training.py:1915: UserWarning: `Model.fit_generator` is deprecated and will be removed in a future version. Please use `Model.fit`, which supports generators.\n",
            "  warnings.warn('`Model.fit_generator` is deprecated and '\n"
          ],
          "name": "stderr"
        },
        {
          "output_type": "stream",
          "text": [
            "Epoch 1/30\n",
            "100/100 [==============================] - 11s 95ms/step - loss: 0.7110 - acc: 0.5057 - val_loss: 0.6839 - val_acc: 0.6050\n",
            "Epoch 2/30\n",
            "100/100 [==============================] - 9s 89ms/step - loss: 0.6810 - acc: 0.5715 - val_loss: 0.7016 - val_acc: 0.5350\n",
            "Epoch 3/30\n",
            "100/100 [==============================] - 9s 90ms/step - loss: 0.6558 - acc: 0.6059 - val_loss: 0.6423 - val_acc: 0.6050\n",
            "Epoch 4/30\n",
            "100/100 [==============================] - 9s 90ms/step - loss: 0.6266 - acc: 0.6377 - val_loss: 0.6443 - val_acc: 0.6400\n",
            "Epoch 5/30\n",
            "100/100 [==============================] - 9s 89ms/step - loss: 0.5942 - acc: 0.6775 - val_loss: 0.6060 - val_acc: 0.6500\n",
            "Epoch 6/30\n",
            "100/100 [==============================] - 9s 89ms/step - loss: 0.5419 - acc: 0.7217 - val_loss: 0.5272 - val_acc: 0.7250\n",
            "Epoch 7/30\n",
            "100/100 [==============================] - 9s 91ms/step - loss: 0.5262 - acc: 0.7280 - val_loss: 0.5304 - val_acc: 0.7400\n",
            "Epoch 8/30\n",
            "100/100 [==============================] - 9s 92ms/step - loss: 0.4943 - acc: 0.7628 - val_loss: 0.5947 - val_acc: 0.6550\n",
            "Epoch 9/30\n",
            "100/100 [==============================] - 9s 91ms/step - loss: 0.5089 - acc: 0.7411 - val_loss: 0.6152 - val_acc: 0.6750\n",
            "Epoch 10/30\n",
            "100/100 [==============================] - 9s 90ms/step - loss: 0.4891 - acc: 0.7611 - val_loss: 0.5296 - val_acc: 0.7150\n",
            "Epoch 11/30\n",
            "100/100 [==============================] - 9s 88ms/step - loss: 0.4482 - acc: 0.7718 - val_loss: 0.5802 - val_acc: 0.7350\n",
            "Epoch 12/30\n",
            "100/100 [==============================] - 9s 91ms/step - loss: 0.4301 - acc: 0.8007 - val_loss: 0.6366 - val_acc: 0.7150\n",
            "Epoch 13/30\n",
            "100/100 [==============================] - 9s 89ms/step - loss: 0.4206 - acc: 0.7976 - val_loss: 0.6142 - val_acc: 0.6750\n",
            "Epoch 14/30\n",
            "100/100 [==============================] - 9s 90ms/step - loss: 0.4134 - acc: 0.8197 - val_loss: 0.4965 - val_acc: 0.7500\n",
            "Epoch 15/30\n",
            "100/100 [==============================] - 9s 90ms/step - loss: 0.3954 - acc: 0.8297 - val_loss: 0.6181 - val_acc: 0.6850\n",
            "Epoch 16/30\n",
            "100/100 [==============================] - 9s 90ms/step - loss: 0.3771 - acc: 0.8290 - val_loss: 0.6092 - val_acc: 0.7300\n",
            "Epoch 17/30\n",
            "100/100 [==============================] - 9s 91ms/step - loss: 0.3622 - acc: 0.8475 - val_loss: 0.7451 - val_acc: 0.6300\n",
            "Epoch 18/30\n",
            "100/100 [==============================] - 9s 89ms/step - loss: 0.3426 - acc: 0.8431 - val_loss: 0.4763 - val_acc: 0.7700\n",
            "Epoch 19/30\n",
            "100/100 [==============================] - 9s 89ms/step - loss: 0.3346 - acc: 0.8611 - val_loss: 0.6274 - val_acc: 0.6850\n",
            "Epoch 20/30\n",
            "100/100 [==============================] - 9s 91ms/step - loss: 0.3072 - acc: 0.8663 - val_loss: 0.5719 - val_acc: 0.7150\n",
            "Epoch 21/30\n",
            "100/100 [==============================] - 9s 88ms/step - loss: 0.3138 - acc: 0.8742 - val_loss: 0.5616 - val_acc: 0.7700\n",
            "Epoch 22/30\n",
            "100/100 [==============================] - 9s 88ms/step - loss: 0.2925 - acc: 0.8882 - val_loss: 0.5194 - val_acc: 0.7350\n",
            "Epoch 23/30\n",
            "100/100 [==============================] - 9s 91ms/step - loss: 0.2706 - acc: 0.8971 - val_loss: 0.6860 - val_acc: 0.7150\n",
            "Epoch 24/30\n",
            "100/100 [==============================] - 9s 90ms/step - loss: 0.2605 - acc: 0.8937 - val_loss: 0.6423 - val_acc: 0.7150\n",
            "Epoch 25/30\n",
            "100/100 [==============================] - 9s 89ms/step - loss: 0.2467 - acc: 0.9072 - val_loss: 0.5231 - val_acc: 0.7750\n",
            "Epoch 26/30\n",
            "100/100 [==============================] - 9s 89ms/step - loss: 0.2260 - acc: 0.9079 - val_loss: 0.6658 - val_acc: 0.7350\n",
            "Epoch 27/30\n",
            "100/100 [==============================] - 9s 92ms/step - loss: 0.2300 - acc: 0.9070 - val_loss: 0.5821 - val_acc: 0.7400\n",
            "Epoch 28/30\n",
            "100/100 [==============================] - 9s 90ms/step - loss: 0.2266 - acc: 0.9043 - val_loss: 0.5821 - val_acc: 0.7450\n",
            "Epoch 29/30\n",
            "100/100 [==============================] - 9s 90ms/step - loss: 0.2168 - acc: 0.9056 - val_loss: 0.5216 - val_acc: 0.7450\n",
            "Epoch 30/30\n",
            "100/100 [==============================] - 9s 89ms/step - loss: 0.1944 - acc: 0.9229 - val_loss: 0.5377 - val_acc: 0.7800\n"
          ],
          "name": "stdout"
        }
      ]
    },
    {
      "cell_type": "code",
      "metadata": {
        "colab": {
          "base_uri": "https://localhost:8080/",
          "height": 1000
        },
        "id": "K4VAav5NsKQk",
        "outputId": "7e51095d-e948-401f-b8b4-174e98d10cd9"
      },
      "source": [
        "model.save('cats_and_dogs_small_2.h5')\n",
        "\n",
        "import matplotlib.pyplot as plt\n",
        "\n",
        "accuracy = history.history['acc']\n",
        "validation_acuracy = history.history['val_acc']\n",
        "loss = history.history['loss']\n",
        "validation_loss = history.history['val_loss']\n",
        "\n",
        "epochs = range(1, len(accuracy) + 1)\n",
        "\n",
        "plt.plot(epochs, accuracy, 'bo', label='训练的准确度')\n",
        "plt.plot(epochs, validation_acuracy, 'b', label='验证集的准确度')\n",
        "plt.title('训练集和验证集的准确度对比图')\n",
        "plt.legend()\n",
        "\n",
        "plt.figure()\n",
        "\n",
        "plt.plot(epochs, loss, 'bo', label='训练的损失函数值')\n",
        "plt.plot(epochs, validation_loss, 'b', label='验证集的损失函数')\n",
        "plt.title('训练与验证的损失函数对比图')\n",
        "plt.legend()\n"
      ],
      "execution_count": null,
      "outputs": [
        {
          "output_type": "execute_result",
          "data": {
            "text/plain": [
              "<matplotlib.legend.Legend at 0x7fc3d417c9d0>"
            ]
          },
          "metadata": {
            "tags": []
          },
          "execution_count": 15
        },
        {
          "output_type": "stream",
          "text": [
            "/usr/local/lib/python3.7/dist-packages/matplotlib/backends/backend_agg.py:214: RuntimeWarning: Glyph 35757 missing from current font.\n",
            "  font.set_text(s, 0.0, flags=flags)\n",
            "/usr/local/lib/python3.7/dist-packages/matplotlib/backends/backend_agg.py:214: RuntimeWarning: Glyph 32451 missing from current font.\n",
            "  font.set_text(s, 0.0, flags=flags)\n",
            "/usr/local/lib/python3.7/dist-packages/matplotlib/backends/backend_agg.py:214: RuntimeWarning: Glyph 38598 missing from current font.\n",
            "  font.set_text(s, 0.0, flags=flags)\n",
            "/usr/local/lib/python3.7/dist-packages/matplotlib/backends/backend_agg.py:214: RuntimeWarning: Glyph 21644 missing from current font.\n",
            "  font.set_text(s, 0.0, flags=flags)\n",
            "/usr/local/lib/python3.7/dist-packages/matplotlib/backends/backend_agg.py:214: RuntimeWarning: Glyph 39564 missing from current font.\n",
            "  font.set_text(s, 0.0, flags=flags)\n",
            "/usr/local/lib/python3.7/dist-packages/matplotlib/backends/backend_agg.py:214: RuntimeWarning: Glyph 35777 missing from current font.\n",
            "  font.set_text(s, 0.0, flags=flags)\n",
            "/usr/local/lib/python3.7/dist-packages/matplotlib/backends/backend_agg.py:214: RuntimeWarning: Glyph 30340 missing from current font.\n",
            "  font.set_text(s, 0.0, flags=flags)\n",
            "/usr/local/lib/python3.7/dist-packages/matplotlib/backends/backend_agg.py:214: RuntimeWarning: Glyph 20934 missing from current font.\n",
            "  font.set_text(s, 0.0, flags=flags)\n",
            "/usr/local/lib/python3.7/dist-packages/matplotlib/backends/backend_agg.py:214: RuntimeWarning: Glyph 30830 missing from current font.\n",
            "  font.set_text(s, 0.0, flags=flags)\n",
            "/usr/local/lib/python3.7/dist-packages/matplotlib/backends/backend_agg.py:214: RuntimeWarning: Glyph 24230 missing from current font.\n",
            "  font.set_text(s, 0.0, flags=flags)\n",
            "/usr/local/lib/python3.7/dist-packages/matplotlib/backends/backend_agg.py:214: RuntimeWarning: Glyph 23545 missing from current font.\n",
            "  font.set_text(s, 0.0, flags=flags)\n",
            "/usr/local/lib/python3.7/dist-packages/matplotlib/backends/backend_agg.py:214: RuntimeWarning: Glyph 27604 missing from current font.\n",
            "  font.set_text(s, 0.0, flags=flags)\n",
            "/usr/local/lib/python3.7/dist-packages/matplotlib/backends/backend_agg.py:214: RuntimeWarning: Glyph 22270 missing from current font.\n",
            "  font.set_text(s, 0.0, flags=flags)\n",
            "/usr/local/lib/python3.7/dist-packages/matplotlib/backends/backend_agg.py:183: RuntimeWarning: Glyph 35757 missing from current font.\n",
            "  font.set_text(s, 0, flags=flags)\n",
            "/usr/local/lib/python3.7/dist-packages/matplotlib/backends/backend_agg.py:183: RuntimeWarning: Glyph 32451 missing from current font.\n",
            "  font.set_text(s, 0, flags=flags)\n",
            "/usr/local/lib/python3.7/dist-packages/matplotlib/backends/backend_agg.py:183: RuntimeWarning: Glyph 38598 missing from current font.\n",
            "  font.set_text(s, 0, flags=flags)\n",
            "/usr/local/lib/python3.7/dist-packages/matplotlib/backends/backend_agg.py:183: RuntimeWarning: Glyph 21644 missing from current font.\n",
            "  font.set_text(s, 0, flags=flags)\n",
            "/usr/local/lib/python3.7/dist-packages/matplotlib/backends/backend_agg.py:183: RuntimeWarning: Glyph 39564 missing from current font.\n",
            "  font.set_text(s, 0, flags=flags)\n",
            "/usr/local/lib/python3.7/dist-packages/matplotlib/backends/backend_agg.py:183: RuntimeWarning: Glyph 35777 missing from current font.\n",
            "  font.set_text(s, 0, flags=flags)\n",
            "/usr/local/lib/python3.7/dist-packages/matplotlib/backends/backend_agg.py:183: RuntimeWarning: Glyph 30340 missing from current font.\n",
            "  font.set_text(s, 0, flags=flags)\n",
            "/usr/local/lib/python3.7/dist-packages/matplotlib/backends/backend_agg.py:183: RuntimeWarning: Glyph 20934 missing from current font.\n",
            "  font.set_text(s, 0, flags=flags)\n",
            "/usr/local/lib/python3.7/dist-packages/matplotlib/backends/backend_agg.py:183: RuntimeWarning: Glyph 30830 missing from current font.\n",
            "  font.set_text(s, 0, flags=flags)\n",
            "/usr/local/lib/python3.7/dist-packages/matplotlib/backends/backend_agg.py:183: RuntimeWarning: Glyph 24230 missing from current font.\n",
            "  font.set_text(s, 0, flags=flags)\n",
            "/usr/local/lib/python3.7/dist-packages/matplotlib/backends/backend_agg.py:183: RuntimeWarning: Glyph 23545 missing from current font.\n",
            "  font.set_text(s, 0, flags=flags)\n",
            "/usr/local/lib/python3.7/dist-packages/matplotlib/backends/backend_agg.py:183: RuntimeWarning: Glyph 27604 missing from current font.\n",
            "  font.set_text(s, 0, flags=flags)\n",
            "/usr/local/lib/python3.7/dist-packages/matplotlib/backends/backend_agg.py:183: RuntimeWarning: Glyph 22270 missing from current font.\n",
            "  font.set_text(s, 0, flags=flags)\n",
            "/usr/local/lib/python3.7/dist-packages/matplotlib/backends/backend_agg.py:214: RuntimeWarning: Glyph 19982 missing from current font.\n",
            "  font.set_text(s, 0.0, flags=flags)\n",
            "/usr/local/lib/python3.7/dist-packages/matplotlib/backends/backend_agg.py:214: RuntimeWarning: Glyph 25439 missing from current font.\n",
            "  font.set_text(s, 0.0, flags=flags)\n",
            "/usr/local/lib/python3.7/dist-packages/matplotlib/backends/backend_agg.py:214: RuntimeWarning: Glyph 22833 missing from current font.\n",
            "  font.set_text(s, 0.0, flags=flags)\n",
            "/usr/local/lib/python3.7/dist-packages/matplotlib/backends/backend_agg.py:214: RuntimeWarning: Glyph 20989 missing from current font.\n",
            "  font.set_text(s, 0.0, flags=flags)\n",
            "/usr/local/lib/python3.7/dist-packages/matplotlib/backends/backend_agg.py:214: RuntimeWarning: Glyph 25968 missing from current font.\n",
            "  font.set_text(s, 0.0, flags=flags)\n",
            "/usr/local/lib/python3.7/dist-packages/matplotlib/backends/backend_agg.py:183: RuntimeWarning: Glyph 19982 missing from current font.\n",
            "  font.set_text(s, 0, flags=flags)\n",
            "/usr/local/lib/python3.7/dist-packages/matplotlib/backends/backend_agg.py:183: RuntimeWarning: Glyph 25439 missing from current font.\n",
            "  font.set_text(s, 0, flags=flags)\n",
            "/usr/local/lib/python3.7/dist-packages/matplotlib/backends/backend_agg.py:183: RuntimeWarning: Glyph 22833 missing from current font.\n",
            "  font.set_text(s, 0, flags=flags)\n",
            "/usr/local/lib/python3.7/dist-packages/matplotlib/backends/backend_agg.py:183: RuntimeWarning: Glyph 20989 missing from current font.\n",
            "  font.set_text(s, 0, flags=flags)\n",
            "/usr/local/lib/python3.7/dist-packages/matplotlib/backends/backend_agg.py:183: RuntimeWarning: Glyph 25968 missing from current font.\n",
            "  font.set_text(s, 0, flags=flags)\n",
            "/usr/local/lib/python3.7/dist-packages/matplotlib/backends/backend_agg.py:214: RuntimeWarning: Glyph 20540 missing from current font.\n",
            "  font.set_text(s, 0.0, flags=flags)\n",
            "/usr/local/lib/python3.7/dist-packages/matplotlib/backends/backend_agg.py:183: RuntimeWarning: Glyph 20540 missing from current font.\n",
            "  font.set_text(s, 0, flags=flags)\n"
          ],
          "name": "stderr"
        },
        {
          "output_type": "display_data",
          "data": {
            "image/png": "[encoded data removed]",
            "text/plain": [
              "<Figure size 432x288 with 1 Axes>"
            ]
          },
          "metadata": {
            "tags": []
          }
        },
        {
          "output_type": "display_data",
          "data": {
            "image/png": "[encoded data removed]",
            "text/plain": [
              "<Figure size 432x288 with 1 Axes>"
            ]
          },
          "metadata": {
            "tags": []
          }
        }
      ]
    },
    {
      "cell_type": "code",
      "metadata": {
        "colab": {
          "base_uri": "https://localhost:8080/"
        },
        "id": "CAEJTYoZs1YR",
        "outputId": "4467737b-6a5e-4c51-f9df-cf8d914c9362"
      },
      "source": [
        "#第三次训练,在发现进行fropoout随机断开\n",
        "from keras import layers\n",
        "from keras import models\n",
        "model = models.Sequential()\n",
        "model.add(layers.Conv2D(32,(3,3),activation=\"relu\",input_shape=(150,150,3)))\n",
        "model.add(layers.MaxPooling2D((2,2)))\n",
        "model.add(layers.Conv2D(64,(3,3),activation=\"relu\"))\n",
        "model.add(layers.MaxPooling2D((2,2)))\n",
        "model.add(layers.Conv2D(128,(3,3),activation=\"relu\"))\n",
        "model.add(layers.MaxPooling2D((2,2)))\n",
        "model.add(layers.Conv2D(128,(3,3),activation=\"relu\"))\n",
        "model.add(layers.MaxPooling2D((2,2)))\n",
        "\n",
        "model.add(layers.Flatten())\n",
        "model.add(layers.Dropout(0.5))\n",
        "model.add(layers.Dense(512,activation=\"relu\"))\n",
        "model.add(layers.Dense(1,activation=\"sigmoid\"))\n",
        "model.summary()\n",
        "from keras.preprocessing.image import ImageDataGenerator\n",
        "train_data_gen = ImageDataGenerator(rescale=1./255,\n",
        "                  rotation_range=40,\n",
        "                  width_shift_range=0.2,\n",
        "                  height_shift_range=0.2,\n",
        "                  shear_range=0.2,\n",
        "                  zoom_range=0.2,\n",
        "                  horizontal_flip=True)\n",
        "test_data_gen = ImageDataGenerator(rescale=1./255)\n",
        "train_gennerator = train_data_gen.flow_from_directory(train_dir,\n",
        "                            target_size=(150, 150),\n",
        "                            batch_size=20,\n",
        "                            class_mode='binary')\n",
        "validation_gennerator = test_data_gen.flow_from_directory(validation_dir,\n",
        "                            target_size=(150, 150),\n",
        "                            batch_size=20,\n",
        "                            class_mode='binary')\n",
        "\n",
        "from keras import optimizers \n",
        " \n",
        "#aa\n",
        "#model.compile(loss='binary_crossentropy', optimizer='rmsprop', metrics=['accuracy'])\n",
        "\n",
        "model.compile(loss='binary_crossentropy', \n",
        "              optimizer=optimizers.Adam(),\n",
        "              metrics=['acc'])\n",
        "history = model.fit_generator(train_gennerator,\n",
        "                steps_per_epoch=100,\n",
        "                epochs=30,\n",
        "                validation_data=validation_gennerator,\n",
        "                validation_steps=10)"
      ],
      "execution_count": null,
      "outputs": [
        {
          "output_type": "stream",
          "text": [
            "Model: \"sequential_4\"\n",
            "_________________________________________________________________\n",
            "Layer (type)                 Output Shape              Param #   \n",
            "=================================================================\n",
            "conv2d_16 (Conv2D)           (None, 148, 148, 32)      896       \n",
            "_________________________________________________________________\n",
            "max_pooling2d_16 (MaxPooling (None, 74, 74, 32)        0         \n",
            "_________________________________________________________________\n",
            "conv2d_17 (Conv2D)           (None, 72, 72, 64)        18496     \n",
            "_________________________________________________________________\n",
            "max_pooling2d_17 (MaxPooling (None, 36, 36, 64)        0         \n",
            "_________________________________________________________________\n",
            "conv2d_18 (Conv2D)           (None, 34, 34, 128)       73856     \n",
            "_________________________________________________________________\n",
            "max_pooling2d_18 (MaxPooling (None, 17, 17, 128)       0         \n",
            "_________________________________________________________________\n",
            "conv2d_19 (Conv2D)           (None, 15, 15, 128)       147584    \n",
            "_________________________________________________________________\n",
            "max_pooling2d_19 (MaxPooling (None, 7, 7, 128)         0         \n",
            "_________________________________________________________________\n",
            "flatten_4 (Flatten)          (None, 6272)              0         \n",
            "_________________________________________________________________\n",
            "dropout_3 (Dropout)          (None, 6272)              0         \n",
            "_________________________________________________________________\n",
            "dense_8 (Dense)              (None, 512)               3211776   \n",
            "_________________________________________________________________\n",
            "dense_9 (Dense)              (None, 1)                 513       \n",
            "=================================================================\n",
            "Total params: 3,453,121\n",
            "Trainable params: 3,453,121\n",
            "Non-trainable params: 0\n",
            "_________________________________________________________________\n",
            "Found 2000 images belonging to 2 classes.\n",
            "Found 1000 images belonging to 2 classes.\n"
          ],
          "name": "stdout"
        },
        {
          "output_type": "stream",
          "text": [
            "/usr/local/lib/python3.7/dist-packages/keras/engine/training.py:1915: UserWarning: `Model.fit_generator` is deprecated and will be removed in a future version. Please use `Model.fit`, which supports generators.\n",
            "  warnings.warn('`Model.fit_generator` is deprecated and '\n"
          ],
          "name": "stderr"
        },
        {
          "output_type": "stream",
          "text": [
            "Epoch 1/30\n",
            "100/100 [==============================] - 19s 181ms/step - loss: 0.7050 - acc: 0.4901 - val_loss: 0.6930 - val_acc: 0.5250\n",
            "Epoch 2/30\n",
            "100/100 [==============================] - 17s 174ms/step - loss: 0.6932 - acc: 0.5185 - val_loss: 0.6974 - val_acc: 0.4800\n",
            "Epoch 3/30\n",
            "100/100 [==============================] - 18s 176ms/step - loss: 0.6936 - acc: 0.4941 - val_loss: 0.6933 - val_acc: 0.5050\n",
            "Epoch 4/30\n",
            "100/100 [==============================] - 17s 173ms/step - loss: 0.6937 - acc: 0.5190 - val_loss: 0.6934 - val_acc: 0.5000\n",
            "Epoch 5/30\n",
            "100/100 [==============================] - 17s 173ms/step - loss: 0.6932 - acc: 0.4638 - val_loss: 0.6913 - val_acc: 0.4950\n",
            "Epoch 6/30\n",
            "100/100 [==============================] - 17s 173ms/step - loss: 0.6941 - acc: 0.5298 - val_loss: 0.6971 - val_acc: 0.3850\n",
            "Epoch 7/30\n",
            "100/100 [==============================] - 17s 172ms/step - loss: 0.6923 - acc: 0.5313 - val_loss: 0.7732 - val_acc: 0.4650\n",
            "Epoch 8/30\n",
            "100/100 [==============================] - 18s 177ms/step - loss: 0.6971 - acc: 0.4997 - val_loss: 0.6931 - val_acc: 0.5100\n",
            "Epoch 9/30\n",
            "100/100 [==============================] - 17s 174ms/step - loss: 0.6931 - acc: 0.5016 - val_loss: 0.6933 - val_acc: 0.4550\n",
            "Epoch 10/30\n",
            "100/100 [==============================] - 17s 174ms/step - loss: 0.6934 - acc: 0.5017 - val_loss: 0.6929 - val_acc: 0.4700\n",
            "Epoch 11/30\n",
            "100/100 [==============================] - 17s 172ms/step - loss: 0.6934 - acc: 0.4921 - val_loss: 0.6879 - val_acc: 0.5450\n",
            "Epoch 12/30\n",
            "100/100 [==============================] - 18s 176ms/step - loss: 0.6931 - acc: 0.5157 - val_loss: 0.6919 - val_acc: 0.5550\n",
            "Epoch 13/30\n",
            "100/100 [==============================] - 17s 174ms/step - loss: 0.6975 - acc: 0.4954 - val_loss: 0.6929 - val_acc: 0.5050\n",
            "Epoch 14/30\n",
            "100/100 [==============================] - 18s 175ms/step - loss: 0.6932 - acc: 0.4698 - val_loss: 0.6920 - val_acc: 0.5000\n",
            "Epoch 15/30\n",
            "100/100 [==============================] - 17s 173ms/step - loss: 0.6925 - acc: 0.5194 - val_loss: 0.6931 - val_acc: 0.5250\n",
            "Epoch 16/30\n",
            "100/100 [==============================] - 17s 173ms/step - loss: 0.6932 - acc: 0.4981 - val_loss: 0.6916 - val_acc: 0.5400\n",
            "Epoch 17/30\n",
            "100/100 [==============================] - 17s 173ms/step - loss: 0.6934 - acc: 0.5066 - val_loss: 0.6939 - val_acc: 0.5150\n",
            "Epoch 18/30\n",
            "100/100 [==============================] - 17s 174ms/step - loss: 0.6931 - acc: 0.5079 - val_loss: 0.6949 - val_acc: 0.4950\n",
            "Epoch 19/30\n",
            "100/100 [==============================] - 17s 171ms/step - loss: 0.6949 - acc: 0.5026 - val_loss: 0.6797 - val_acc: 0.5000\n",
            "Epoch 20/30\n",
            "100/100 [==============================] - 17s 173ms/step - loss: 0.6893 - acc: 0.5136 - val_loss: 0.6912 - val_acc: 0.5300\n",
            "Epoch 21/30\n",
            "100/100 [==============================] - 17s 174ms/step - loss: 0.6909 - acc: 0.5185 - val_loss: 0.7876 - val_acc: 0.5550\n",
            "Epoch 22/30\n",
            "100/100 [==============================] - 17s 171ms/step - loss: 0.6820 - acc: 0.5500 - val_loss: 0.6933 - val_acc: 0.4200\n",
            "Epoch 23/30\n",
            "100/100 [==============================] - 17s 172ms/step - loss: 0.6930 - acc: 0.5119 - val_loss: 0.6928 - val_acc: 0.4750\n",
            "Epoch 24/30\n",
            "100/100 [==============================] - 17s 173ms/step - loss: 0.6930 - acc: 0.4819 - val_loss: 0.6927 - val_acc: 0.5400\n",
            "Epoch 25/30\n",
            "100/100 [==============================] - 23s 227ms/step - loss: 0.6901 - acc: 0.4931 - val_loss: 0.6827 - val_acc: 0.5450\n",
            "Epoch 26/30\n",
            "100/100 [==============================] - 17s 172ms/step - loss: 0.6836 - acc: 0.5411 - val_loss: 0.6934 - val_acc: 0.4700\n",
            "Epoch 27/30\n",
            "100/100 [==============================] - 18s 176ms/step - loss: 0.6923 - acc: 0.5068 - val_loss: 0.6931 - val_acc: 0.5100\n",
            "Epoch 28/30\n",
            "100/100 [==============================] - 17s 174ms/step - loss: 0.6911 - acc: 0.5386 - val_loss: 0.6835 - val_acc: 0.6000\n",
            "Epoch 29/30\n",
            "100/100 [==============================] - 17s 173ms/step - loss: 0.6857 - acc: 0.5471 - val_loss: 0.6925 - val_acc: 0.5150\n",
            "Epoch 30/30\n",
            "100/100 [==============================] - 17s 174ms/step - loss: 0.6904 - acc: 0.5178 - val_loss: 0.6795 - val_acc: 0.5950\n"
          ],
          "name": "stdout"
        }
      ]
    },
    {
      "cell_type": "code",
      "metadata": {
        "colab": {
          "base_uri": "https://localhost:8080/"
        },
        "id": "9FfnaV6VP2_E",
        "outputId": "33e6a188-605f-475a-c6ef-4e5d0239a520"
      },
      "source": [
        "import os\n",
        "os.environ['KAGGLE_USERNAME']=\"wzrziran\"\n",
        "os.environ['KAGGLE_KEY']=\"b4d101737c58f383daac0253b1852499\"\n",
        "!kaggle competitions download -c dogs-vs-cats"
      ],
      "execution_count": null,
      "outputs": [
        {
          "output_type": "stream",
          "text": [
            "Warning: Looks like you're using an outdated API Version, please consider updating (server 1.5.12 / client 1.5.4)\n",
            "Downloading test1.zip to /content\n",
            " 98% 267M/271M [00:03<00:00, 96.3MB/s]\n",
            "100% 271M/271M [00:03<00:00, 93.4MB/s]\n",
            "Downloading train.zip to /content\n",
            "100% 541M/543M [00:02<00:00, 189MB/s]\n",
            "100% 543M/543M [00:02<00:00, 202MB/s]\n",
            "Downloading sampleSubmission.csv to /content\n",
            "  0% 0.00/86.8k [00:00<?, ?B/s]\n",
            "100% 86.8k/86.8k [00:00<00:00, 88.6MB/s]\n"
          ],
          "name": "stdout"
        }
      ]
    },
    {
      "cell_type": "code",
      "metadata": {
        "id": "5oy2MYPrxuMj"
      },
      "source": [
        "import cv2\n",
        "import os\n",
        "import tensorflow as tf\n",
        "import numpy as np\n",
        "from tensorflow.keras import Sequential\n",
        "from tensorflow.keras import layers\n",
        "from tensorflow.keras.layers import Conv2D,Dense,MaxPool2D\n",
        "from tensorflow.keras.layers import Flatten \n",
        "from sklearn.model_selection import train_test_split\n",
        "from tensorflow.keras.preprocessing.image import ImageDataGenerator"
      ],
      "execution_count": 6,
      "outputs": []
    },
    {
      "cell_type": "code",
      "metadata": {
        "colab": {
          "base_uri": "https://localhost:8080/"
        },
        "id": "7MPRPjAwP7LZ",
        "outputId": "66d35d08-31f3-4498-b9f5-2867f10a9ada"
      },
      "source": [
        "#对数据进行解压\n",
        "from zipfile import ZipFile\n",
        "#对测试的数据进行解压操作\n",
        "file_train_name =\"/content/train.zip\" \n",
        "\n",
        "with ZipFile(file_train_name,'r') as zip:\n",
        "  zip.extractall()\n",
        "  print('done')\n"
      ],
      "execution_count": 3,
      "outputs": [
        {
          "output_type": "stream",
          "text": [
            "done\n"
          ],
          "name": "stdout"
        }
      ]
    },
    {
      "cell_type": "code",
      "metadata": {
        "colab": {
          "base_uri": "https://localhost:8080/"
        },
        "id": "rq6iVa-_9xKn",
        "outputId": "8cbe13ca-d003-47e2-f3cb-d234453a4365"
      },
      "source": [
        "#在这里我将使用只是用训练集，使用 9 1划分 \n",
        "oringinal_dataset_dir = \"/content/train\"\n",
        "print(len(os.listdir(oringinal_dataset_dir)))\n"
      ],
      "execution_count": 4,
      "outputs": [
        {
          "output_type": "stream",
          "text": [
            "25000\n"
          ],
          "name": "stdout"
        }
      ]
    },
    {
      "cell_type": "code",
      "metadata": {
        "id": "tjriqNZzE1Xy"
      },
      "source": [
        "\n",
        "data =[]\n",
        "for files in os.listdir(oringinal_dataset_dir):\n",
        "  image = cv2.resize(cv2.imread(os.path.join(oringinal_dataset_dir,files)),(100,100))\n",
        "  gray = cv2.cvtColor(image,cv2.COLOR_RGB2GRAY)\n",
        "  \n",
        "  label = files.split(\".\")[0]\n",
        "  if label==\"cat\":\n",
        "    data.append([np.array(gray),np.array([0,1])])\n",
        "  elif label ==\"dog\":\n",
        "    data.append([np.array(gray),np.array([1,0])])\n",
        " \n",
        "\n"
      ],
      "execution_count": 7,
      "outputs": []
    },
    {
      "cell_type": "code",
      "metadata": {
        "colab": {
          "base_uri": "https://localhost:8080/"
        },
        "id": "zVpp9PnFQprS",
        "outputId": "b0d9a7fc-92e6-4814-932f-6e672b037c43"
      },
      "source": [
        "print( len(data))\n",
        "print(data[0:2])"
      ],
      "execution_count": null,
      "outputs": [
        {
          "output_type": "stream",
          "text": [
            "25000\n",
            "[[array([[ 72,  73,  75, ..., 123, 133, 115],\n",
            "       [ 72,  73,  79, ..., 125, 137, 111],\n",
            "       [ 73,  74,  76, ..., 149, 137, 164],\n",
            "       ...,\n",
            "       [154, 161, 158, ...,  78, 134, 103],\n",
            "       [162, 154, 157, ...,  95,  88, 111],\n",
            "       [157, 163, 161, ..., 115,  89,  99]], dtype=uint8), array([1, 0])], [array([[249, 236, 241, ...,  62,  54, 243],\n",
            "       [226, 184, 175, ...,  66,  53, 248],\n",
            "       [233, 107, 119, ...,  50,  52, 245],\n",
            "       ...,\n",
            "       [244, 183,  80, ..., 247, 245, 245],\n",
            "       [247, 247, 251, ..., 250, 250, 250],\n",
            "       [247, 247, 246, ..., 250, 250, 250]], dtype=uint8), array([1, 0])]]\n"
          ],
          "name": "stdout"
        }
      ]
    },
    {
      "cell_type": "code",
      "metadata": {
        "colab": {
          "base_uri": "https://localhost:8080/"
        },
        "id": "qXUD_rNYWeKR",
        "outputId": "69fb38d1-55c5-4efa-9d45-776bd8c1ab63"
      },
      "source": [
        "train,test= train_test_split(data,test_size=0.1,shuffle=True)\n",
        "print(len(train))\n",
        "print(len(test))"
      ],
      "execution_count": null,
      "outputs": [
        {
          "output_type": "stream",
          "text": [
            "22500\n",
            "2500\n"
          ],
          "name": "stdout"
        }
      ]
    },
    {
      "cell_type": "code",
      "metadata": {
        "id": "a9pKSEhwbJHH"
      },
      "source": [
        "#对数据进行处理\n",
        "X = np.array([i[0] for i in train]).reshape(-1,100,100,1)\n",
        "Y = np.array([i[1] for i in train])\n",
        "x_valid = np.array([i[0] for i in test]).reshape(-1,100,100,1)\n",
        "y_valid = np.array([i[1] for i in test]) "
      ],
      "execution_count": null,
      "outputs": []
    },
    {
      "cell_type": "code",
      "metadata": {
        "colab": {
          "base_uri": "https://localhost:8080/"
        },
        "id": "4x7Rygvyhcei",
        "outputId": "f666c1fb-6acb-41f1-ebc8-fb12b2be85a2"
      },
      "source": [
        "#对于x的类型进行检查\n",
        "\n",
        "print(type(X))\n",
        "X=X.astype('float32')/255\n",
        "x_valid =x_valid.astype('float32')/255 \n",
        "print (X.shape) \n",
        "print (Y.shape) \n",
        "print (x_valid.shape) \n",
        "print (y_valid.shape) "
      ],
      "execution_count": null,
      "outputs": [
        {
          "output_type": "stream",
          "text": [
            "(22500, 100, 100, 1)\n",
            "(22500, 2)\n",
            "(2500, 100, 100, 1)\n",
            "(2500, 2)\n"
          ],
          "name": "stdout"
        }
      ]
    },
    {
      "cell_type": "code",
      "metadata": {
        "colab": {
          "base_uri": "https://localhost:8080/"
        },
        "id": "FnVNAZtpcYlQ",
        "outputId": "b4588228-aba1-43ee-b8c6-bad9f387a932"
      },
      "source": [
        "#定义模型 第一次训练的模型\n",
        "model = Sequential()\n",
        "model.add(layers.Conv2D(64,(3,3),activation='relu',input_shape=(100,100,1),padding=\"same\"))\n",
        "model.add(layers.MaxPooling2D((2,2)))\n",
        "model.add(layers.Conv2D(64,(3,3),activation=\"relu\"))\n",
        "model.add(layers.MaxPooling2D((2,2)))\n",
        "model.add(layers.Conv2D(128,(3,3),activation=\"relu\"))\n",
        "model.add(layers.MaxPooling2D((2,2)))\n",
        "model.add(layers.Conv2D(128,(3,3),activation=\"relu\"))\n",
        "model.add(layers.MaxPooling2D((2,2)))\n",
        "\n",
        "model.add(layers.Flatten())\n",
        "\n",
        "model.add(layers.Dense(512,activation=\"relu\"))\n",
        "model.add(layers.Dense(2,activation=\"softmax\"))\n",
        "model.summary()\n",
        "\n"
      ],
      "execution_count": null,
      "outputs": [
        {
          "output_type": "stream",
          "text": [
            "Model: \"sequential_2\"\n",
            "_________________________________________________________________\n",
            "Layer (type)                 Output Shape              Param #   \n",
            "=================================================================\n",
            "conv2d_8 (Conv2D)            (None, 100, 100, 64)      640       \n",
            "_________________________________________________________________\n",
            "max_pooling2d_8 (MaxPooling2 (None, 50, 50, 64)        0         \n",
            "_________________________________________________________________\n",
            "conv2d_9 (Conv2D)            (None, 48, 48, 64)        36928     \n",
            "_________________________________________________________________\n",
            "max_pooling2d_9 (MaxPooling2 (None, 24, 24, 64)        0         \n",
            "_________________________________________________________________\n",
            "conv2d_10 (Conv2D)           (None, 22, 22, 128)       73856     \n",
            "_________________________________________________________________\n",
            "max_pooling2d_10 (MaxPooling (None, 11, 11, 128)       0         \n",
            "_________________________________________________________________\n",
            "conv2d_11 (Conv2D)           (None, 9, 9, 128)         147584    \n",
            "_________________________________________________________________\n",
            "max_pooling2d_11 (MaxPooling (None, 4, 4, 128)         0         \n",
            "_________________________________________________________________\n",
            "flatten_2 (Flatten)          (None, 2048)              0         \n",
            "_________________________________________________________________\n",
            "dense_5 (Dense)              (None, 512)               1049088   \n",
            "_________________________________________________________________\n",
            "dense_6 (Dense)              (None, 2)                 1026      \n",
            "=================================================================\n",
            "Total params: 1,309,122\n",
            "Trainable params: 1,309,122\n",
            "Non-trainable params: 0\n",
            "_________________________________________________________________\n"
          ],
          "name": "stdout"
        }
      ]
    },
    {
      "cell_type": "markdown",
      "metadata": {
        "id": "Fal48YHNfKMf"
      },
      "source": [
        ""
      ]
    },
    {
      "cell_type": "code",
      "metadata": {
        "colab": {
          "base_uri": "https://localhost:8080/"
        },
        "id": "DbWy39-Feyk3",
        "outputId": "1efc8089-063a-4c01-b941-012ad4e92459"
      },
      "source": [
        "opt = tf.keras.optimizers.Adam(learning_rate=0.001)\n",
        "model.compile(loss=\"categorical_crossentropy\",\n",
        "      optimizer=opt,\n",
        "      metrics=['acc'])\n",
        "history=model.fit(X,Y,batch_size=100,epochs=20,validation_data=(x_valid,y_valid),verbose=1)\n"
      ],
      "execution_count": null,
      "outputs": [
        {
          "output_type": "stream",
          "text": [
            "Epoch 1/20\n",
            "225/225 [==============================] - 12s 52ms/step - loss: 0.6805 - acc: 0.5540 - val_loss: 0.6646 - val_acc: 0.5992\n",
            "Epoch 2/20\n",
            "225/225 [==============================] - 12s 51ms/step - loss: 0.5845 - acc: 0.6859 - val_loss: 0.5182 - val_acc: 0.7420\n",
            "Epoch 3/20\n",
            "225/225 [==============================] - 12s 52ms/step - loss: 0.4658 - acc: 0.7774 - val_loss: 0.4337 - val_acc: 0.8032\n",
            "Epoch 4/20\n",
            "225/225 [==============================] - 12s 51ms/step - loss: 0.3960 - acc: 0.8188 - val_loss: 0.4156 - val_acc: 0.8056\n",
            "Epoch 5/20\n",
            "225/225 [==============================] - 12s 51ms/step - loss: 0.3382 - acc: 0.8491 - val_loss: 0.3647 - val_acc: 0.8392\n",
            "Epoch 6/20\n",
            "225/225 [==============================] - 11s 51ms/step - loss: 0.2974 - acc: 0.8697 - val_loss: 0.3323 - val_acc: 0.8516\n",
            "Epoch 7/20\n",
            "225/225 [==============================] - 11s 51ms/step - loss: 0.2563 - acc: 0.8902 - val_loss: 0.3788 - val_acc: 0.8424\n",
            "Epoch 8/20\n",
            "225/225 [==============================] - 12s 51ms/step - loss: 0.2241 - acc: 0.9060 - val_loss: 0.3049 - val_acc: 0.8748\n",
            "Epoch 9/20\n",
            "225/225 [==============================] - 11s 51ms/step - loss: 0.1847 - acc: 0.9239 - val_loss: 0.3117 - val_acc: 0.8700\n",
            "Epoch 10/20\n",
            "225/225 [==============================] - 11s 51ms/step - loss: 0.1551 - acc: 0.9360 - val_loss: 0.3167 - val_acc: 0.8764\n",
            "Epoch 11/20\n",
            "225/225 [==============================] - 12s 51ms/step - loss: 0.1249 - acc: 0.9502 - val_loss: 0.3245 - val_acc: 0.8816\n",
            "Epoch 12/20\n",
            "225/225 [==============================] - 11s 51ms/step - loss: 0.0985 - acc: 0.9623 - val_loss: 0.3768 - val_acc: 0.8668\n",
            "Epoch 13/20\n",
            "225/225 [==============================] - 11s 51ms/step - loss: 0.0784 - acc: 0.9692 - val_loss: 0.4607 - val_acc: 0.8600\n",
            "Epoch 14/20\n",
            "225/225 [==============================] - 12s 51ms/step - loss: 0.0648 - acc: 0.9757 - val_loss: 0.4434 - val_acc: 0.8720\n",
            "Epoch 15/20\n",
            "225/225 [==============================] - 12s 51ms/step - loss: 0.0461 - acc: 0.9838 - val_loss: 0.5190 - val_acc: 0.8748\n",
            "Epoch 16/20\n",
            "225/225 [==============================] - 12s 51ms/step - loss: 0.0417 - acc: 0.9851 - val_loss: 0.5462 - val_acc: 0.8740\n",
            "Epoch 17/20\n",
            "225/225 [==============================] - 12s 51ms/step - loss: 0.0304 - acc: 0.9888 - val_loss: 0.5757 - val_acc: 0.8800\n",
            "Epoch 18/20\n",
            "225/225 [==============================] - 11s 51ms/step - loss: 0.0418 - acc: 0.9852 - val_loss: 0.5481 - val_acc: 0.8804\n",
            "Epoch 19/20\n",
            "225/225 [==============================] - 11s 51ms/step - loss: 0.0291 - acc: 0.9893 - val_loss: 0.6562 - val_acc: 0.8636\n",
            "Epoch 20/20\n",
            "225/225 [==============================] - 12s 52ms/step - loss: 0.0300 - acc: 0.9896 - val_loss: 0.6359 - val_acc: 0.8648\n"
          ],
          "name": "stdout"
        }
      ]
    },
    {
      "cell_type": "code",
      "metadata": {
        "colab": {
          "base_uri": "https://localhost:8080/",
          "height": 1000
        },
        "id": "BVyq0XZ2sJ32",
        "outputId": "fc9c5f48-ce80-41ff-a971-e58cd53a12b4"
      },
      "source": [
        "model.save('cats_and_dogs_cnn_noDropout.h5')\n",
        "\n",
        "import matplotlib.pyplot as plt\n",
        "\n",
        "accuracy = history.history['acc']\n",
        "validation_acuracy = history.history['val_acc']\n",
        "loss = history.history['loss']\n",
        "validation_loss = history.history['val_loss']\n",
        "\n",
        "#epochs = range(1, len(accuracy) + 1)\n",
        "plt.figure()\n",
        "plt.plot(loss,label=\"loss\")\n",
        "plt.plot(validation_loss,label='validation_loss')\n",
        "plt.title('训练与验证的损失函数对比图')\n",
        " \n",
        "plt.figure()\n",
        "plt.plot( accuracy, 'bo', label='train_accuracy')\n",
        "plt.plot( validation_acuracy, 'b', label='validation_acuracy')\n"
      ],
      "execution_count": null,
      "outputs": [
        {
          "output_type": "execute_result",
          "data": {
            "text/plain": [
              "[<matplotlib.lines.Line2D at 0x7efc2a26f4d0>]"
            ]
          },
          "metadata": {
            "tags": []
          },
          "execution_count": 24
        },
        {
          "output_type": "stream",
          "text": [
            "/usr/local/lib/python3.7/dist-packages/matplotlib/backends/backend_agg.py:214: RuntimeWarning: Glyph 35757 missing from current font.\n",
            "  font.set_text(s, 0.0, flags=flags)\n",
            "/usr/local/lib/python3.7/dist-packages/matplotlib/backends/backend_agg.py:214: RuntimeWarning: Glyph 32451 missing from current font.\n",
            "  font.set_text(s, 0.0, flags=flags)\n",
            "/usr/local/lib/python3.7/dist-packages/matplotlib/backends/backend_agg.py:214: RuntimeWarning: Glyph 19982 missing from current font.\n",
            "  font.set_text(s, 0.0, flags=flags)\n",
            "/usr/local/lib/python3.7/dist-packages/matplotlib/backends/backend_agg.py:214: RuntimeWarning: Glyph 39564 missing from current font.\n",
            "  font.set_text(s, 0.0, flags=flags)\n",
            "/usr/local/lib/python3.7/dist-packages/matplotlib/backends/backend_agg.py:214: RuntimeWarning: Glyph 35777 missing from current font.\n",
            "  font.set_text(s, 0.0, flags=flags)\n",
            "/usr/local/lib/python3.7/dist-packages/matplotlib/backends/backend_agg.py:214: RuntimeWarning: Glyph 30340 missing from current font.\n",
            "  font.set_text(s, 0.0, flags=flags)\n",
            "/usr/local/lib/python3.7/dist-packages/matplotlib/backends/backend_agg.py:214: RuntimeWarning: Glyph 25439 missing from current font.\n",
            "  font.set_text(s, 0.0, flags=flags)\n",
            "/usr/local/lib/python3.7/dist-packages/matplotlib/backends/backend_agg.py:214: RuntimeWarning: Glyph 22833 missing from current font.\n",
            "  font.set_text(s, 0.0, flags=flags)\n",
            "/usr/local/lib/python3.7/dist-packages/matplotlib/backends/backend_agg.py:214: RuntimeWarning: Glyph 20989 missing from current font.\n",
            "  font.set_text(s, 0.0, flags=flags)\n",
            "/usr/local/lib/python3.7/dist-packages/matplotlib/backends/backend_agg.py:214: RuntimeWarning: Glyph 25968 missing from current font.\n",
            "  font.set_text(s, 0.0, flags=flags)\n",
            "/usr/local/lib/python3.7/dist-packages/matplotlib/backends/backend_agg.py:214: RuntimeWarning: Glyph 23545 missing from current font.\n",
            "  font.set_text(s, 0.0, flags=flags)\n",
            "/usr/local/lib/python3.7/dist-packages/matplotlib/backends/backend_agg.py:214: RuntimeWarning: Glyph 27604 missing from current font.\n",
            "  font.set_text(s, 0.0, flags=flags)\n",
            "/usr/local/lib/python3.7/dist-packages/matplotlib/backends/backend_agg.py:214: RuntimeWarning: Glyph 22270 missing from current font.\n",
            "  font.set_text(s, 0.0, flags=flags)\n",
            "/usr/local/lib/python3.7/dist-packages/matplotlib/backends/backend_agg.py:183: RuntimeWarning: Glyph 35757 missing from current font.\n",
            "  font.set_text(s, 0, flags=flags)\n",
            "/usr/local/lib/python3.7/dist-packages/matplotlib/backends/backend_agg.py:183: RuntimeWarning: Glyph 32451 missing from current font.\n",
            "  font.set_text(s, 0, flags=flags)\n",
            "/usr/local/lib/python3.7/dist-packages/matplotlib/backends/backend_agg.py:183: RuntimeWarning: Glyph 19982 missing from current font.\n",
            "  font.set_text(s, 0, flags=flags)\n",
            "/usr/local/lib/python3.7/dist-packages/matplotlib/backends/backend_agg.py:183: RuntimeWarning: Glyph 39564 missing from current font.\n",
            "  font.set_text(s, 0, flags=flags)\n",
            "/usr/local/lib/python3.7/dist-packages/matplotlib/backends/backend_agg.py:183: RuntimeWarning: Glyph 35777 missing from current font.\n",
            "  font.set_text(s, 0, flags=flags)\n",
            "/usr/local/lib/python3.7/dist-packages/matplotlib/backends/backend_agg.py:183: RuntimeWarning: Glyph 30340 missing from current font.\n",
            "  font.set_text(s, 0, flags=flags)\n",
            "/usr/local/lib/python3.7/dist-packages/matplotlib/backends/backend_agg.py:183: RuntimeWarning: Glyph 25439 missing from current font.\n",
            "  font.set_text(s, 0, flags=flags)\n",
            "/usr/local/lib/python3.7/dist-packages/matplotlib/backends/backend_agg.py:183: RuntimeWarning: Glyph 22833 missing from current font.\n",
            "  font.set_text(s, 0, flags=flags)\n",
            "/usr/local/lib/python3.7/dist-packages/matplotlib/backends/backend_agg.py:183: RuntimeWarning: Glyph 20989 missing from current font.\n",
            "  font.set_text(s, 0, flags=flags)\n",
            "/usr/local/lib/python3.7/dist-packages/matplotlib/backends/backend_agg.py:183: RuntimeWarning: Glyph 25968 missing from current font.\n",
            "  font.set_text(s, 0, flags=flags)\n",
            "/usr/local/lib/python3.7/dist-packages/matplotlib/backends/backend_agg.py:183: RuntimeWarning: Glyph 23545 missing from current font.\n",
            "  font.set_text(s, 0, flags=flags)\n",
            "/usr/local/lib/python3.7/dist-packages/matplotlib/backends/backend_agg.py:183: RuntimeWarning: Glyph 27604 missing from current font.\n",
            "  font.set_text(s, 0, flags=flags)\n",
            "/usr/local/lib/python3.7/dist-packages/matplotlib/backends/backend_agg.py:183: RuntimeWarning: Glyph 22270 missing from current font.\n",
            "  font.set_text(s, 0, flags=flags)\n"
          ],
          "name": "stderr"
        },
        {
          "output_type": "display_data",
          "data": {
            "image/png": "[encoded data removed]",
            "text/plain": [
              "<Figure size 432x288 with 1 Axes>"
            ]
          },
          "metadata": {
            "tags": [],
            "needs_background": "light"
          }
        },
        {
          "output_type": "display_data",
          "data": {
            "image/png": "[encoded data removed]",
            "text/plain": [
              "<Figure size 432x288 with 1 Axes>"
            ]
          },
          "metadata": {
            "tags": [],
            "needs_background": "light"
          }
        }
      ]
    },
    {
      "cell_type": "code",
      "metadata": {
        "colab": {
          "base_uri": "https://localhost:8080/"
        },
        "id": "PExUzMk3y_i7",
        "outputId": "ac326f24-ef66-47a0-e464-ad4fa6605b75"
      },
      "source": [
        "#定义模型 \n",
        "#使用Dropout 来避免出现过拟合的状态第一次训练的模型 \n",
        "#感觉训练的批次多一点的话可能还能再上1-2各百分点\n",
        "#预测大概还是存留在0.9左右\n",
        "model = Sequential()\n",
        "model.add(layers.Conv2D(64,(3,3),activation='relu',input_shape=(100,100,1),padding=\"same\"))\n",
        "model.add(layers.MaxPooling2D((2,2)))\n",
        "model.add(layers.Conv2D(64,(3,3),activation=\"relu\"))\n",
        "model.add(layers.MaxPooling2D((2,2)))\n",
        "model.add(layers.Conv2D(128,(3,3),activation=\"relu\"))\n",
        "model.add(layers.MaxPooling2D((2,2)))\n",
        "model.add(layers.Conv2D(128,(3,3),activation=\"relu\"))\n",
        "model.add(layers.MaxPooling2D((2,2)))\n",
        "\n",
        "model.add(layers.Flatten())\n",
        "model.add(layers.Dropout(0.4))\n",
        "model.add(layers.Dense(512,activation=\"relu\"))\n",
        "model.add(layers.Dense(2,activation=\"softmax\"))\n",
        "model.summary()\n",
        "opt = tf.keras.optimizers.Adam(learning_rate=0.001)\n",
        "model.compile(loss=\"categorical_crossentropy\",\n",
        "      optimizer=opt,\n",
        "      metrics=['acc'])\n",
        "history=model.fit(X,Y,batch_size=100,epochs=20,validation_data=(x_valid,y_valid),verbose=1)"
      ],
      "execution_count": null,
      "outputs": [
        {
          "output_type": "stream",
          "text": [
            "Model: \"sequential_3\"\n",
            "_________________________________________________________________\n",
            "Layer (type)                 Output Shape              Param #   \n",
            "=================================================================\n",
            "conv2d_12 (Conv2D)           (None, 100, 100, 64)      640       \n",
            "_________________________________________________________________\n",
            "max_pooling2d_12 (MaxPooling (None, 50, 50, 64)        0         \n",
            "_________________________________________________________________\n",
            "conv2d_13 (Conv2D)           (None, 48, 48, 64)        36928     \n",
            "_________________________________________________________________\n",
            "max_pooling2d_13 (MaxPooling (None, 24, 24, 64)        0         \n",
            "_________________________________________________________________\n",
            "conv2d_14 (Conv2D)           (None, 22, 22, 128)       73856     \n",
            "_________________________________________________________________\n",
            "max_pooling2d_14 (MaxPooling (None, 11, 11, 128)       0         \n",
            "_________________________________________________________________\n",
            "conv2d_15 (Conv2D)           (None, 9, 9, 128)         147584    \n",
            "_________________________________________________________________\n",
            "max_pooling2d_15 (MaxPooling (None, 4, 4, 128)         0         \n",
            "_________________________________________________________________\n",
            "flatten_3 (Flatten)          (None, 2048)              0         \n",
            "_________________________________________________________________\n",
            "dropout_2 (Dropout)          (None, 2048)              0         \n",
            "_________________________________________________________________\n",
            "dense_7 (Dense)              (None, 512)               1049088   \n",
            "_________________________________________________________________\n",
            "dense_8 (Dense)              (None, 2)                 1026      \n",
            "=================================================================\n",
            "Total params: 1,309,122\n",
            "Trainable params: 1,309,122\n",
            "Non-trainable params: 0\n",
            "_________________________________________________________________\n",
            "Epoch 1/20\n",
            "225/225 [==============================] - 12s 52ms/step - loss: 0.6589 - acc: 0.6021 - val_loss: 0.6070 - val_acc: 0.6840\n",
            "Epoch 2/20\n",
            "225/225 [==============================] - 12s 51ms/step - loss: 0.5351 - acc: 0.7300 - val_loss: 0.4635 - val_acc: 0.7672\n",
            "Epoch 3/20\n",
            "225/225 [==============================] - 12s 51ms/step - loss: 0.4419 - acc: 0.7930 - val_loss: 0.3572 - val_acc: 0.8388\n",
            "Epoch 4/20\n",
            "225/225 [==============================] - 11s 51ms/step - loss: 0.3699 - acc: 0.8310 - val_loss: 0.3254 - val_acc: 0.8560\n",
            "Epoch 5/20\n",
            "225/225 [==============================] - 11s 51ms/step - loss: 0.3233 - acc: 0.8575 - val_loss: 0.3173 - val_acc: 0.8612\n",
            "Epoch 6/20\n",
            "225/225 [==============================] - 11s 51ms/step - loss: 0.2832 - acc: 0.8776 - val_loss: 0.2803 - val_acc: 0.8788\n",
            "Epoch 7/20\n",
            "225/225 [==============================] - 12s 51ms/step - loss: 0.2467 - acc: 0.8962 - val_loss: 0.3059 - val_acc: 0.8660\n",
            "Epoch 8/20\n",
            "225/225 [==============================] - 11s 51ms/step - loss: 0.2208 - acc: 0.9084 - val_loss: 0.2488 - val_acc: 0.8956\n",
            "Epoch 9/20\n",
            "225/225 [==============================] - 12s 51ms/step - loss: 0.2018 - acc: 0.9144 - val_loss: 0.2760 - val_acc: 0.8776\n",
            "Epoch 10/20\n",
            "225/225 [==============================] - 12s 52ms/step - loss: 0.1852 - acc: 0.9229 - val_loss: 0.2465 - val_acc: 0.8972\n",
            "Epoch 11/20\n",
            "225/225 [==============================] - 12s 51ms/step - loss: 0.1682 - acc: 0.9307 - val_loss: 0.2836 - val_acc: 0.8912\n",
            "Epoch 12/20\n",
            "225/225 [==============================] - 12s 51ms/step - loss: 0.1496 - acc: 0.9393 - val_loss: 0.2589 - val_acc: 0.8980\n",
            "Epoch 13/20\n",
            "225/225 [==============================] - 12s 51ms/step - loss: 0.1314 - acc: 0.9446 - val_loss: 0.2664 - val_acc: 0.8976\n",
            "Epoch 14/20\n",
            "225/225 [==============================] - 11s 51ms/step - loss: 0.1185 - acc: 0.9517 - val_loss: 0.2562 - val_acc: 0.9040\n",
            "Epoch 15/20\n",
            "225/225 [==============================] - 12s 51ms/step - loss: 0.1066 - acc: 0.9583 - val_loss: 0.2734 - val_acc: 0.8908\n",
            "Epoch 16/20\n",
            "225/225 [==============================] - 11s 51ms/step - loss: 0.0997 - acc: 0.9604 - val_loss: 0.2906 - val_acc: 0.8948\n",
            "Epoch 17/20\n",
            "225/225 [==============================] - 12s 51ms/step - loss: 0.0843 - acc: 0.9655 - val_loss: 0.2816 - val_acc: 0.9080\n",
            "Epoch 18/20\n",
            "225/225 [==============================] - 11s 51ms/step - loss: 0.0803 - acc: 0.9686 - val_loss: 0.3200 - val_acc: 0.9044\n",
            "Epoch 19/20\n",
            "225/225 [==============================] - 11s 51ms/step - loss: 0.0747 - acc: 0.9716 - val_loss: 0.3165 - val_acc: 0.8980\n",
            "Epoch 20/20\n",
            "225/225 [==============================] - 11s 51ms/step - loss: 0.0725 - acc: 0.9716 - val_loss: 0.3342 - val_acc: 0.8912\n"
          ],
          "name": "stdout"
        }
      ]
    },
    {
      "cell_type": "code",
      "metadata": {
        "colab": {
          "base_uri": "https://localhost:8080/",
          "height": 1000
        },
        "id": "50Y5YVWn0S6P",
        "outputId": "9bf08224-cb7b-4ddb-f947-0fbc82474955"
      },
      "source": [
        "model.save('cats_and_dogs_cnn_useDropout.h5')\n",
        "\n",
        "import matplotlib.pyplot as plt\n",
        "\n",
        "accuracy = history.history['acc']\n",
        "validation_acuracy = history.history['val_acc']\n",
        "loss = history.history['loss']\n",
        "validation_loss = history.history['val_loss']\n",
        "\n",
        "#epochs = range(1, len(accuracy) + 1)\n",
        "plt.figure()\n",
        "plt.plot(loss,label=\"loss\")\n",
        "plt.plot(validation_loss,label='validation_loss')\n",
        "plt.title('训练与验证的损失函数对比图')\n",
        " \n",
        "plt.figure()\n",
        "plt.plot( accuracy, 'bo', label='train_accuracy')\n",
        "plt.plot( validation_acuracy, 'b', label='validation_acuracy')\n"
      ],
      "execution_count": null,
      "outputs": [
        {
          "output_type": "execute_result",
          "data": {
            "text/plain": [
              "[<matplotlib.lines.Line2D at 0x7efba179e290>]"
            ]
          },
          "metadata": {
            "tags": []
          },
          "execution_count": 26
        },
        {
          "output_type": "stream",
          "text": [
            "/usr/local/lib/python3.7/dist-packages/matplotlib/backends/backend_agg.py:214: RuntimeWarning: Glyph 35757 missing from current font.\n",
            "  font.set_text(s, 0.0, flags=flags)\n",
            "/usr/local/lib/python3.7/dist-packages/matplotlib/backends/backend_agg.py:214: RuntimeWarning: Glyph 32451 missing from current font.\n",
            "  font.set_text(s, 0.0, flags=flags)\n",
            "/usr/local/lib/python3.7/dist-packages/matplotlib/backends/backend_agg.py:214: RuntimeWarning: Glyph 19982 missing from current font.\n",
            "  font.set_text(s, 0.0, flags=flags)\n",
            "/usr/local/lib/python3.7/dist-packages/matplotlib/backends/backend_agg.py:214: RuntimeWarning: Glyph 39564 missing from current font.\n",
            "  font.set_text(s, 0.0, flags=flags)\n",
            "/usr/local/lib/python3.7/dist-packages/matplotlib/backends/backend_agg.py:214: RuntimeWarning: Glyph 35777 missing from current font.\n",
            "  font.set_text(s, 0.0, flags=flags)\n",
            "/usr/local/lib/python3.7/dist-packages/matplotlib/backends/backend_agg.py:214: RuntimeWarning: Glyph 30340 missing from current font.\n",
            "  font.set_text(s, 0.0, flags=flags)\n",
            "/usr/local/lib/python3.7/dist-packages/matplotlib/backends/backend_agg.py:214: RuntimeWarning: Glyph 25439 missing from current font.\n",
            "  font.set_text(s, 0.0, flags=flags)\n",
            "/usr/local/lib/python3.7/dist-packages/matplotlib/backends/backend_agg.py:214: RuntimeWarning: Glyph 22833 missing from current font.\n",
            "  font.set_text(s, 0.0, flags=flags)\n",
            "/usr/local/lib/python3.7/dist-packages/matplotlib/backends/backend_agg.py:214: RuntimeWarning: Glyph 20989 missing from current font.\n",
            "  font.set_text(s, 0.0, flags=flags)\n",
            "/usr/local/lib/python3.7/dist-packages/matplotlib/backends/backend_agg.py:214: RuntimeWarning: Glyph 25968 missing from current font.\n",
            "  font.set_text(s, 0.0, flags=flags)\n",
            "/usr/local/lib/python3.7/dist-packages/matplotlib/backends/backend_agg.py:214: RuntimeWarning: Glyph 23545 missing from current font.\n",
            "  font.set_text(s, 0.0, flags=flags)\n",
            "/usr/local/lib/python3.7/dist-packages/matplotlib/backends/backend_agg.py:214: RuntimeWarning: Glyph 27604 missing from current font.\n",
            "  font.set_text(s, 0.0, flags=flags)\n",
            "/usr/local/lib/python3.7/dist-packages/matplotlib/backends/backend_agg.py:214: RuntimeWarning: Glyph 22270 missing from current font.\n",
            "  font.set_text(s, 0.0, flags=flags)\n",
            "/usr/local/lib/python3.7/dist-packages/matplotlib/backends/backend_agg.py:183: RuntimeWarning: Glyph 35757 missing from current font.\n",
            "  font.set_text(s, 0, flags=flags)\n",
            "/usr/local/lib/python3.7/dist-packages/matplotlib/backends/backend_agg.py:183: RuntimeWarning: Glyph 32451 missing from current font.\n",
            "  font.set_text(s, 0, flags=flags)\n",
            "/usr/local/lib/python3.7/dist-packages/matplotlib/backends/backend_agg.py:183: RuntimeWarning: Glyph 19982 missing from current font.\n",
            "  font.set_text(s, 0, flags=flags)\n",
            "/usr/local/lib/python3.7/dist-packages/matplotlib/backends/backend_agg.py:183: RuntimeWarning: Glyph 39564 missing from current font.\n",
            "  font.set_text(s, 0, flags=flags)\n",
            "/usr/local/lib/python3.7/dist-packages/matplotlib/backends/backend_agg.py:183: RuntimeWarning: Glyph 35777 missing from current font.\n",
            "  font.set_text(s, 0, flags=flags)\n",
            "/usr/local/lib/python3.7/dist-packages/matplotlib/backends/backend_agg.py:183: RuntimeWarning: Glyph 30340 missing from current font.\n",
            "  font.set_text(s, 0, flags=flags)\n",
            "/usr/local/lib/python3.7/dist-packages/matplotlib/backends/backend_agg.py:183: RuntimeWarning: Glyph 25439 missing from current font.\n",
            "  font.set_text(s, 0, flags=flags)\n",
            "/usr/local/lib/python3.7/dist-packages/matplotlib/backends/backend_agg.py:183: RuntimeWarning: Glyph 22833 missing from current font.\n",
            "  font.set_text(s, 0, flags=flags)\n",
            "/usr/local/lib/python3.7/dist-packages/matplotlib/backends/backend_agg.py:183: RuntimeWarning: Glyph 20989 missing from current font.\n",
            "  font.set_text(s, 0, flags=flags)\n",
            "/usr/local/lib/python3.7/dist-packages/matplotlib/backends/backend_agg.py:183: RuntimeWarning: Glyph 25968 missing from current font.\n",
            "  font.set_text(s, 0, flags=flags)\n",
            "/usr/local/lib/python3.7/dist-packages/matplotlib/backends/backend_agg.py:183: RuntimeWarning: Glyph 23545 missing from current font.\n",
            "  font.set_text(s, 0, flags=flags)\n",
            "/usr/local/lib/python3.7/dist-packages/matplotlib/backends/backend_agg.py:183: RuntimeWarning: Glyph 27604 missing from current font.\n",
            "  font.set_text(s, 0, flags=flags)\n",
            "/usr/local/lib/python3.7/dist-packages/matplotlib/backends/backend_agg.py:183: RuntimeWarning: Glyph 22270 missing from current font.\n",
            "  font.set_text(s, 0, flags=flags)\n"
          ],
          "name": "stderr"
        },
        {
          "output_type": "display_data",
          "data": {
            "image/png": "[encoded data removed]",
            "text/plain": [
              "<Figure size 432x288 with 1 Axes>"
            ]
          },
          "metadata": {
            "tags": [],
            "needs_background": "light"
          }
        },
        {
          "output_type": "display_data",
          "data": {
            "image/png": "[encoded data removed]",
            "text/plain": [
              "<Figure size 432x288 with 1 Axes>"
            ]
          },
          "metadata": {
            "tags": [],
            "needs_background": "light"
          }
        }
      ]
    },
    {
      "cell_type": "code",
      "metadata": {
        "id": "7ZfY_Onx2FQ7"
      },
      "source": [
        "#定义模型 \n",
        "#第三步 可能需要对数据进行增强，这个时候需要对数据处理部分的代码进行重构\n",
        "\n",
        "model = Sequential()\n",
        "model.add(layers.Conv2D(64,(3,3),activation='relu',input_shape=(100,100,1),padding=\"same\"))\n",
        "model.add(layers.MaxPooling2D((2,2)))\n",
        "model.add(layers.Conv2D(64,(3,3),activation=\"relu\"))\n",
        "model.add(layers.MaxPooling2D((2,2)))\n",
        "model.add(layers.Conv2D(128,(3,3),activation=\"relu\"))\n",
        "model.add(layers.MaxPooling2D((2,2)))\n",
        "model.add(layers.Conv2D(128,(3,3),activation=\"relu\"))\n",
        "model.add(layers.MaxPooling2D((2,2)))\n",
        "\n",
        "model.add(layers.Flatten())\n",
        "model.add(layers.Dropout(0.4))\n",
        "model.add(layers.Dense(512,activation=\"relu\"))\n",
        "model.add(layers.Dense(2,activation=\"softmax\"))\n",
        "model.summary()\n",
        "opt = tf.keras.optimizers.Adam(learning_rate=0.001)\n",
        "model.compile(loss=\"categorical_crossentropy\",\n",
        "      optimizer=opt,\n",
        "      metrics=['acc'])\n",
        "history=model.fit(X,Y,batch_size=100,epochs=20,validation_data=(x_valid,y_valid),verbose=1)\n"
      ],
      "execution_count": null,
      "outputs": []
    },
    {
      "cell_type": "code",
      "metadata": {
        "colab": {
          "base_uri": "https://localhost:8080/",
          "height": 256
        },
        "id": "FvhAvEm-FUco",
        "outputId": "57729740-aa8f-435c-8943-52e3911bacbb"
      },
      "source": [
        "\n",
        "from keras.preprocessing.image import ImageDataGenerator\n",
        "import os\n",
        " \n",
        "oringinal_dataset_dir = \"/content/train\"\n",
        "print(len(os.listdir(oringinal_dataset_dir)))\n",
        "data =[]\n",
        "\n",
        "for files in os.listdir(oringinal_dataset_dir):\n",
        "  image = cv2.resize(cv2.imread(os.path.join(oringinal_dataset_dir,files)),(100,100))\n",
        "  gray = cv2.cvtColor(image,cv2.COLOR_RGB2GRAY)\n",
        "  label = files.split(\".\")[0]\n",
        "  if label==\"cat\":\n",
        "    data.append([np.array(gray),np.array([0,1])])\n",
        "  elif label ==\"dog\":\n",
        "    data.append([np.array(gray),np.array([1,0])])\n",
        "\n",
        "\n",
        " \n"
      ],
      "execution_count": null,
      "outputs": [
        {
          "output_type": "stream",
          "text": [
            "25001\n"
          ],
          "name": "stdout"
        },
        {
          "output_type": "error",
          "ename": "error",
          "evalue": "ignored",
          "traceback": [
            "\u001b[0;31m---------------------------------------------------------------------------\u001b[0m",
            "\u001b[0;31merror\u001b[0m                                     Traceback (most recent call last)",
            "\u001b[0;32m<ipython-input-22-5a0fcbb2f7db>\u001b[0m in \u001b[0;36m<module>\u001b[0;34m()\u001b[0m\n\u001b[1;32m      8\u001b[0m \u001b[0;34m\u001b[0m\u001b[0m\n\u001b[1;32m      9\u001b[0m \u001b[0;32mfor\u001b[0m \u001b[0mfiles\u001b[0m \u001b[0;32min\u001b[0m \u001b[0mos\u001b[0m\u001b[0;34m.\u001b[0m\u001b[0mlistdir\u001b[0m\u001b[0;34m(\u001b[0m\u001b[0moringinal_dataset_dir\u001b[0m\u001b[0;34m)\u001b[0m\u001b[0;34m:\u001b[0m\u001b[0;34m\u001b[0m\u001b[0;34m\u001b[0m\u001b[0m\n\u001b[0;32m---> 10\u001b[0;31m   \u001b[0mimage\u001b[0m \u001b[0;34m=\u001b[0m \u001b[0mcv2\u001b[0m\u001b[0;34m.\u001b[0m\u001b[0mresize\u001b[0m\u001b[0;34m(\u001b[0m\u001b[0mcv2\u001b[0m\u001b[0;34m.\u001b[0m\u001b[0mimread\u001b[0m\u001b[0;34m(\u001b[0m\u001b[0mos\u001b[0m\u001b[0;34m.\u001b[0m\u001b[0mpath\u001b[0m\u001b[0;34m.\u001b[0m\u001b[0mjoin\u001b[0m\u001b[0;34m(\u001b[0m\u001b[0moringinal_dataset_dir\u001b[0m\u001b[0;34m,\u001b[0m\u001b[0mfiles\u001b[0m\u001b[0;34m)\u001b[0m\u001b[0;34m)\u001b[0m\u001b[0;34m,\u001b[0m\u001b[0;34m(\u001b[0m\u001b[0;36m100\u001b[0m\u001b[0;34m,\u001b[0m\u001b[0;36m100\u001b[0m\u001b[0;34m)\u001b[0m\u001b[0;34m)\u001b[0m\u001b[0;34m\u001b[0m\u001b[0;34m\u001b[0m\u001b[0m\n\u001b[0m\u001b[1;32m     11\u001b[0m   \u001b[0mgray\u001b[0m \u001b[0;34m=\u001b[0m \u001b[0mcv2\u001b[0m\u001b[0;34m.\u001b[0m\u001b[0mcvtColor\u001b[0m\u001b[0;34m(\u001b[0m\u001b[0mimage\u001b[0m\u001b[0;34m,\u001b[0m\u001b[0mcv2\u001b[0m\u001b[0;34m.\u001b[0m\u001b[0mCOLOR_RGB2GRAY\u001b[0m\u001b[0;34m)\u001b[0m\u001b[0;34m\u001b[0m\u001b[0;34m\u001b[0m\u001b[0m\n\u001b[1;32m     12\u001b[0m   \u001b[0mlabel\u001b[0m \u001b[0;34m=\u001b[0m \u001b[0mfiles\u001b[0m\u001b[0;34m.\u001b[0m\u001b[0msplit\u001b[0m\u001b[0;34m(\u001b[0m\u001b[0;34m\".\"\u001b[0m\u001b[0;34m)\u001b[0m\u001b[0;34m[\u001b[0m\u001b[0;36m0\u001b[0m\u001b[0;34m]\u001b[0m\u001b[0;34m\u001b[0m\u001b[0;34m\u001b[0m\u001b[0m\n",
            "\u001b[0;31merror\u001b[0m: OpenCV(4.1.2) /io/opencv/modules/imgproc/src/resize.cpp:3720: error: (-215:Assertion failed) !ssize.empty() in function 'resize'\n"
          ]
        }
      ]
    },
    {
      "cell_type": "code",
      "metadata": {
        "id": "S_YUJqiDGTNy",
        "colab": {
          "base_uri": "https://localhost:8080/"
        },
        "outputId": "b1e632b4-e132-4b88-b0c0-af630aa51dde"
      },
      "source": [
        "print( len(data))\n",
        "print(data[0:2])\n",
        "\n",
        "train,test= train_test_split(data,test_size=0.1,shuffle=True)\n",
        "print(len(train))\n",
        "print(len(test))\n",
        "\n",
        "#对数据进行处理\n",
        "X = np.array([i[0] for i in train]).reshape(-1,100,100,1)\n",
        "Y = np.array([i[1] for i in train])\n",
        "x_valid = np.array([i[0] for i in test]).reshape(-1,100,100,1)\n",
        "y_valid = np.array([i[1] for i in test])\n",
        "print(type(X))\n",
        "X=X.astype('float32')/255\n",
        "x_valid =x_valid.astype('float32')/255 \n",
        "print (X.shape) \n",
        "print (Y.shape) \n",
        "print (x_valid.shape) \n",
        "print (y_valid.shape)"
      ],
      "execution_count": 8,
      "outputs": [
        {
          "output_type": "stream",
          "text": [
            "25000\n",
            "[[array([[ 72,  73,  75, ..., 123, 133, 115],\n",
            "       [ 72,  73,  79, ..., 125, 137, 111],\n",
            "       [ 73,  74,  76, ..., 149, 137, 164],\n",
            "       ...,\n",
            "       [154, 161, 158, ...,  78, 134, 103],\n",
            "       [162, 154, 157, ...,  95,  88, 111],\n",
            "       [157, 163, 161, ..., 115,  89,  99]], dtype=uint8), array([1, 0])], [array([[249, 236, 241, ...,  62,  54, 243],\n",
            "       [226, 184, 175, ...,  66,  53, 248],\n",
            "       [233, 107, 119, ...,  50,  52, 245],\n",
            "       ...,\n",
            "       [244, 183,  80, ..., 247, 245, 245],\n",
            "       [247, 247, 251, ..., 250, 250, 250],\n",
            "       [247, 247, 246, ..., 250, 250, 250]], dtype=uint8), array([1, 0])]]\n",
            "22500\n",
            "2500\n",
            "<class 'numpy.ndarray'>\n",
            "(22500, 100, 100, 1)\n",
            "(22500, 2)\n",
            "(2500, 100, 100, 1)\n",
            "(2500, 2)\n"
          ],
          "name": "stdout"
        }
      ]
    },
    {
      "cell_type": "code",
      "metadata": {
        "colab": {
          "base_uri": "https://localhost:8080/"
        },
        "id": "Cydi_IrVIzYt",
        "outputId": "0e8fd68c-ef03-4d08-d11e-6654d9738d15"
      },
      "source": [
        "\n",
        "model = Sequential()\n",
        "model.add(layers.Conv2D(64,(3,3),activation='relu',input_shape=(100,100,1),padding=\"same\"))\n",
        "model.add(layers.MaxPooling2D((2,2)))\n",
        "model.add(layers.Conv2D(64,(3,3),activation=\"relu\"))\n",
        "model.add(layers.MaxPooling2D((2,2)))\n",
        "model.add(layers.Conv2D(128,(3,3),activation=\"relu\"))\n",
        "model.add(layers.MaxPooling2D((2,2)))\n",
        "model.add(layers.Conv2D(128,(3,3),activation=\"relu\"))\n",
        "model.add(layers.MaxPooling2D((2,2)))\n",
        "\n",
        "model.add(layers.Flatten())\n",
        "model.add(layers.Dropout(0.4))\n",
        "model.add(layers.Dense(512,activation=\"relu\"))\n",
        "model.add(layers.Dense(2,activation=\"softmax\"))\n",
        "model.summary()\n",
        "opt = tf.keras.optimizers.Adam(learning_rate=0.001)\n",
        "\n",
        "train_datagen = ImageDataGenerator(\n",
        "    rotation_range=20,\n",
        "    width_shift_range=0.2,\n",
        "    height_shift_range=0.2,\n",
        "    shear_range=0.2,\n",
        "    horizontal_flip=True,\n",
        "    vertical_flip=True\n",
        ")\n",
        "model.compile(loss=\"categorical_crossentropy\",\n",
        "      optimizer=opt,\n",
        "      metrics=['acc'])\n",
        "history=model.fit(train_datagen.flow(X,Y,batch_size=100),epochs=100,validation_data=(x_valid,y_valid),verbose=1)"
      ],
      "execution_count": 9,
      "outputs": [
        {
          "output_type": "stream",
          "text": [
            "Model: \"sequential\"\n",
            "_________________________________________________________________\n",
            "Layer (type)                 Output Shape              Param #   \n",
            "=================================================================\n",
            "conv2d (Conv2D)              (None, 100, 100, 64)      640       \n",
            "_________________________________________________________________\n",
            "max_pooling2d (MaxPooling2D) (None, 50, 50, 64)        0         \n",
            "_________________________________________________________________\n",
            "conv2d_1 (Conv2D)            (None, 48, 48, 64)        36928     \n",
            "_________________________________________________________________\n",
            "max_pooling2d_1 (MaxPooling2 (None, 24, 24, 64)        0         \n",
            "_________________________________________________________________\n",
            "conv2d_2 (Conv2D)            (None, 22, 22, 128)       73856     \n",
            "_________________________________________________________________\n",
            "max_pooling2d_2 (MaxPooling2 (None, 11, 11, 128)       0         \n",
            "_________________________________________________________________\n",
            "conv2d_3 (Conv2D)            (None, 9, 9, 128)         147584    \n",
            "_________________________________________________________________\n",
            "max_pooling2d_3 (MaxPooling2 (None, 4, 4, 128)         0         \n",
            "_________________________________________________________________\n",
            "flatten (Flatten)            (None, 2048)              0         \n",
            "_________________________________________________________________\n",
            "dropout (Dropout)            (None, 2048)              0         \n",
            "_________________________________________________________________\n",
            "dense (Dense)                (None, 512)               1049088   \n",
            "_________________________________________________________________\n",
            "dense_1 (Dense)              (None, 2)                 1026      \n",
            "=================================================================\n",
            "Total params: 1,309,122\n",
            "Trainable params: 1,309,122\n",
            "Non-trainable params: 0\n",
            "_________________________________________________________________\n",
            "Epoch 1/100\n",
            "225/225 [==============================] - 55s 102ms/step - loss: 0.6916 - acc: 0.5339 - val_loss: 0.6859 - val_acc: 0.5348\n",
            "Epoch 2/100\n",
            "225/225 [==============================] - 23s 101ms/step - loss: 0.6653 - acc: 0.5978 - val_loss: 0.6904 - val_acc: 0.5600\n",
            "Epoch 3/100\n",
            "225/225 [==============================] - 23s 101ms/step - loss: 0.6491 - acc: 0.6246 - val_loss: 0.6369 - val_acc: 0.6292\n",
            "Epoch 4/100\n",
            "225/225 [==============================] - 23s 100ms/step - loss: 0.6321 - acc: 0.6476 - val_loss: 0.6371 - val_acc: 0.6336\n",
            "Epoch 5/100\n",
            "225/225 [==============================] - 23s 100ms/step - loss: 0.6157 - acc: 0.6656 - val_loss: 0.6351 - val_acc: 0.6496\n",
            "Epoch 6/100\n",
            "225/225 [==============================] - 23s 101ms/step - loss: 0.6084 - acc: 0.6707 - val_loss: 0.5612 - val_acc: 0.7244\n",
            "Epoch 7/100\n",
            "225/225 [==============================] - 23s 100ms/step - loss: 0.5863 - acc: 0.6918 - val_loss: 0.5228 - val_acc: 0.7380\n",
            "Epoch 8/100\n",
            "225/225 [==============================] - 23s 102ms/step - loss: 0.5610 - acc: 0.7125 - val_loss: 0.6664 - val_acc: 0.6452\n",
            "Epoch 9/100\n",
            "225/225 [==============================] - 23s 101ms/step - loss: 0.5499 - acc: 0.7211 - val_loss: 0.6165 - val_acc: 0.6760\n",
            "Epoch 10/100\n",
            "225/225 [==============================] - 23s 100ms/step - loss: 0.5262 - acc: 0.7359 - val_loss: 0.5253 - val_acc: 0.7428\n",
            "Epoch 11/100\n",
            "225/225 [==============================] - 23s 102ms/step - loss: 0.5183 - acc: 0.7450 - val_loss: 0.5054 - val_acc: 0.7592\n",
            "Epoch 12/100\n",
            "225/225 [==============================] - 23s 102ms/step - loss: 0.5011 - acc: 0.7564 - val_loss: 0.5319 - val_acc: 0.7436\n",
            "Epoch 13/100\n",
            "225/225 [==============================] - 23s 101ms/step - loss: 0.4848 - acc: 0.7692 - val_loss: 0.5028 - val_acc: 0.7560\n",
            "Epoch 14/100\n",
            "225/225 [==============================] - 23s 102ms/step - loss: 0.4714 - acc: 0.7767 - val_loss: 0.5282 - val_acc: 0.7504\n",
            "Epoch 15/100\n",
            "225/225 [==============================] - 23s 101ms/step - loss: 0.4640 - acc: 0.7803 - val_loss: 0.4354 - val_acc: 0.8008\n",
            "Epoch 16/100\n",
            "225/225 [==============================] - 23s 100ms/step - loss: 0.4533 - acc: 0.7862 - val_loss: 0.4927 - val_acc: 0.7796\n",
            "Epoch 17/100\n",
            "225/225 [==============================] - 23s 101ms/step - loss: 0.4426 - acc: 0.7912 - val_loss: 0.4373 - val_acc: 0.7944\n",
            "Epoch 18/100\n",
            "225/225 [==============================] - 23s 101ms/step - loss: 0.4319 - acc: 0.8008 - val_loss: 0.4090 - val_acc: 0.8196\n",
            "Epoch 19/100\n",
            "225/225 [==============================] - 23s 101ms/step - loss: 0.4255 - acc: 0.8024 - val_loss: 0.4363 - val_acc: 0.8028\n",
            "Epoch 20/100\n",
            "225/225 [==============================] - 23s 102ms/step - loss: 0.4173 - acc: 0.8086 - val_loss: 0.4112 - val_acc: 0.8112\n",
            "Epoch 21/100\n",
            "225/225 [==============================] - 23s 102ms/step - loss: 0.4160 - acc: 0.8093 - val_loss: 0.4260 - val_acc: 0.8080\n",
            "Epoch 22/100\n",
            "225/225 [==============================] - 23s 101ms/step - loss: 0.4033 - acc: 0.8147 - val_loss: 0.3959 - val_acc: 0.8220\n",
            "Epoch 23/100\n",
            "225/225 [==============================] - 22s 100ms/step - loss: 0.4064 - acc: 0.8127 - val_loss: 0.3855 - val_acc: 0.8224\n",
            "Epoch 24/100\n",
            "225/225 [==============================] - 23s 104ms/step - loss: 0.3902 - acc: 0.8231 - val_loss: 0.4316 - val_acc: 0.8084\n",
            "Epoch 25/100\n",
            "225/225 [==============================] - 23s 101ms/step - loss: 0.3888 - acc: 0.8248 - val_loss: 0.3437 - val_acc: 0.8532\n",
            "Epoch 26/100\n",
            "225/225 [==============================] - 23s 101ms/step - loss: 0.3843 - acc: 0.8231 - val_loss: 0.3859 - val_acc: 0.8312\n",
            "Epoch 27/100\n",
            "225/225 [==============================] - 23s 103ms/step - loss: 0.3838 - acc: 0.8274 - val_loss: 0.3698 - val_acc: 0.8328\n",
            "Epoch 28/100\n",
            "225/225 [==============================] - 23s 101ms/step - loss: 0.3758 - acc: 0.8296 - val_loss: 0.3235 - val_acc: 0.8660\n",
            "Epoch 29/100\n",
            "225/225 [==============================] - 23s 101ms/step - loss: 0.3665 - acc: 0.8331 - val_loss: 0.3328 - val_acc: 0.8548\n",
            "Epoch 30/100\n",
            "225/225 [==============================] - 23s 101ms/step - loss: 0.3684 - acc: 0.8328 - val_loss: 0.3530 - val_acc: 0.8464\n",
            "Epoch 31/100\n",
            "225/225 [==============================] - 23s 101ms/step - loss: 0.3553 - acc: 0.8395 - val_loss: 0.3177 - val_acc: 0.8616\n",
            "Epoch 32/100\n",
            "225/225 [==============================] - 23s 100ms/step - loss: 0.3636 - acc: 0.8364 - val_loss: 0.4192 - val_acc: 0.8080\n",
            "Epoch 33/100\n",
            "225/225 [==============================] - 23s 102ms/step - loss: 0.3554 - acc: 0.8409 - val_loss: 0.3493 - val_acc: 0.8456\n",
            "Epoch 34/100\n",
            "225/225 [==============================] - 23s 101ms/step - loss: 0.3550 - acc: 0.8424 - val_loss: 0.4314 - val_acc: 0.8008\n",
            "Epoch 35/100\n",
            "225/225 [==============================] - 23s 101ms/step - loss: 0.3471 - acc: 0.8446 - val_loss: 0.3067 - val_acc: 0.8688\n",
            "Epoch 36/100\n",
            "225/225 [==============================] - 23s 101ms/step - loss: 0.3446 - acc: 0.8456 - val_loss: 0.3159 - val_acc: 0.8660\n",
            "Epoch 37/100\n",
            "225/225 [==============================] - 23s 101ms/step - loss: 0.3466 - acc: 0.8428 - val_loss: 0.3277 - val_acc: 0.8584\n",
            "Epoch 38/100\n",
            "225/225 [==============================] - 23s 102ms/step - loss: 0.3388 - acc: 0.8498 - val_loss: 0.3421 - val_acc: 0.8504\n",
            "Epoch 39/100\n",
            "225/225 [==============================] - 23s 101ms/step - loss: 0.3355 - acc: 0.8524 - val_loss: 0.3660 - val_acc: 0.8408\n",
            "Epoch 40/100\n",
            "225/225 [==============================] - 23s 102ms/step - loss: 0.3385 - acc: 0.8475 - val_loss: 0.3481 - val_acc: 0.8516\n",
            "Epoch 41/100\n",
            "225/225 [==============================] - 23s 101ms/step - loss: 0.3304 - acc: 0.8535 - val_loss: 0.2919 - val_acc: 0.8776\n",
            "Epoch 42/100\n",
            "225/225 [==============================] - 23s 101ms/step - loss: 0.3294 - acc: 0.8538 - val_loss: 0.3770 - val_acc: 0.8320\n",
            "Epoch 43/100\n",
            "225/225 [==============================] - 23s 102ms/step - loss: 0.3296 - acc: 0.8544 - val_loss: 0.3309 - val_acc: 0.8564\n",
            "Epoch 44/100\n",
            "225/225 [==============================] - 23s 101ms/step - loss: 0.3223 - acc: 0.8567 - val_loss: 0.3543 - val_acc: 0.8460\n",
            "Epoch 45/100\n",
            "225/225 [==============================] - 23s 101ms/step - loss: 0.3184 - acc: 0.8582 - val_loss: 0.3707 - val_acc: 0.8332\n",
            "Epoch 46/100\n",
            "225/225 [==============================] - 23s 102ms/step - loss: 0.3201 - acc: 0.8554 - val_loss: 0.3282 - val_acc: 0.8672\n",
            "Epoch 47/100\n",
            "225/225 [==============================] - 23s 102ms/step - loss: 0.3227 - acc: 0.8569 - val_loss: 0.2814 - val_acc: 0.8828\n",
            "Epoch 48/100\n",
            "225/225 [==============================] - 23s 102ms/step - loss: 0.3124 - acc: 0.8608 - val_loss: 0.2941 - val_acc: 0.8768\n",
            "Epoch 49/100\n",
            "225/225 [==============================] - 23s 100ms/step - loss: 0.3107 - acc: 0.8650 - val_loss: 0.2804 - val_acc: 0.8828\n",
            "Epoch 50/100\n",
            "225/225 [==============================] - 23s 101ms/step - loss: 0.3128 - acc: 0.8621 - val_loss: 0.3176 - val_acc: 0.8604\n",
            "Epoch 51/100\n",
            "225/225 [==============================] - 23s 103ms/step - loss: 0.3106 - acc: 0.8606 - val_loss: 0.2824 - val_acc: 0.8788\n",
            "Epoch 52/100\n",
            "225/225 [==============================] - 23s 101ms/step - loss: 0.3105 - acc: 0.8633 - val_loss: 0.3222 - val_acc: 0.8608\n",
            "Epoch 53/100\n",
            "225/225 [==============================] - 23s 103ms/step - loss: 0.3017 - acc: 0.8678 - val_loss: 0.3052 - val_acc: 0.8672\n",
            "Epoch 54/100\n",
            "225/225 [==============================] - 23s 100ms/step - loss: 0.3008 - acc: 0.8697 - val_loss: 0.3468 - val_acc: 0.8408\n",
            "Epoch 55/100\n",
            "225/225 [==============================] - 23s 100ms/step - loss: 0.3053 - acc: 0.8653 - val_loss: 0.2701 - val_acc: 0.8940\n",
            "Epoch 56/100\n",
            "225/225 [==============================] - 23s 101ms/step - loss: 0.3000 - acc: 0.8696 - val_loss: 0.2769 - val_acc: 0.8820\n",
            "Epoch 57/100\n",
            "225/225 [==============================] - 23s 101ms/step - loss: 0.3042 - acc: 0.8670 - val_loss: 0.2967 - val_acc: 0.8752\n",
            "Epoch 58/100\n",
            "225/225 [==============================] - 23s 101ms/step - loss: 0.3031 - acc: 0.8663 - val_loss: 0.2836 - val_acc: 0.8780\n",
            "Epoch 59/100\n",
            "225/225 [==============================] - 23s 102ms/step - loss: 0.2943 - acc: 0.8722 - val_loss: 0.2936 - val_acc: 0.8796\n",
            "Epoch 60/100\n",
            "225/225 [==============================] - 23s 101ms/step - loss: 0.3012 - acc: 0.8666 - val_loss: 0.2740 - val_acc: 0.8888\n",
            "Epoch 61/100\n",
            "225/225 [==============================] - 23s 103ms/step - loss: 0.2887 - acc: 0.8745 - val_loss: 0.2754 - val_acc: 0.8784\n",
            "Epoch 62/100\n",
            "225/225 [==============================] - 23s 101ms/step - loss: 0.2899 - acc: 0.8736 - val_loss: 0.2772 - val_acc: 0.8844\n",
            "Epoch 63/100\n",
            "225/225 [==============================] - 23s 102ms/step - loss: 0.2903 - acc: 0.8732 - val_loss: 0.3036 - val_acc: 0.8712\n",
            "Epoch 64/100\n",
            "225/225 [==============================] - 23s 103ms/step - loss: 0.2873 - acc: 0.8758 - val_loss: 0.2747 - val_acc: 0.8812\n",
            "Epoch 65/100\n",
            "225/225 [==============================] - 23s 102ms/step - loss: 0.2871 - acc: 0.8741 - val_loss: 0.2956 - val_acc: 0.8816\n",
            "Epoch 66/100\n",
            "225/225 [==============================] - 23s 102ms/step - loss: 0.2807 - acc: 0.8777 - val_loss: 0.2768 - val_acc: 0.8876\n",
            "Epoch 67/100\n",
            "225/225 [==============================] - 23s 102ms/step - loss: 0.2819 - acc: 0.8778 - val_loss: 0.2993 - val_acc: 0.8732\n",
            "Epoch 68/100\n",
            "225/225 [==============================] - 23s 102ms/step - loss: 0.2879 - acc: 0.8711 - val_loss: 0.2612 - val_acc: 0.8948\n",
            "Epoch 69/100\n",
            "225/225 [==============================] - 23s 102ms/step - loss: 0.2758 - acc: 0.8795 - val_loss: 0.2921 - val_acc: 0.8760\n",
            "Epoch 70/100\n",
            "225/225 [==============================] - 23s 101ms/step - loss: 0.2827 - acc: 0.8736 - val_loss: 0.2546 - val_acc: 0.8996\n",
            "Epoch 71/100\n",
            "225/225 [==============================] - 23s 101ms/step - loss: 0.2814 - acc: 0.8755 - val_loss: 0.2656 - val_acc: 0.8828\n",
            "Epoch 72/100\n",
            "225/225 [==============================] - 23s 102ms/step - loss: 0.2780 - acc: 0.8786 - val_loss: 0.2907 - val_acc: 0.8752\n",
            "Epoch 73/100\n",
            "225/225 [==============================] - 23s 101ms/step - loss: 0.2834 - acc: 0.8748 - val_loss: 0.2809 - val_acc: 0.8872\n",
            "Epoch 74/100\n",
            "225/225 [==============================] - 23s 103ms/step - loss: 0.2741 - acc: 0.8807 - val_loss: 0.2893 - val_acc: 0.8724\n",
            "Epoch 75/100\n",
            "225/225 [==============================] - 23s 100ms/step - loss: 0.2814 - acc: 0.8777 - val_loss: 0.2762 - val_acc: 0.8824\n",
            "Epoch 76/100\n",
            "225/225 [==============================] - 23s 100ms/step - loss: 0.2758 - acc: 0.8788 - val_loss: 0.2937 - val_acc: 0.8776\n",
            "Epoch 77/100\n",
            "225/225 [==============================] - 23s 100ms/step - loss: 0.2675 - acc: 0.8852 - val_loss: 0.2537 - val_acc: 0.8964\n",
            "Epoch 78/100\n",
            "225/225 [==============================] - 22s 99ms/step - loss: 0.2775 - acc: 0.8814 - val_loss: 0.2526 - val_acc: 0.8960\n",
            "Epoch 79/100\n",
            "225/225 [==============================] - 23s 101ms/step - loss: 0.2769 - acc: 0.8818 - val_loss: 0.2639 - val_acc: 0.8908\n",
            "Epoch 80/100\n",
            "225/225 [==============================] - 22s 100ms/step - loss: 0.2718 - acc: 0.8837 - val_loss: 0.2536 - val_acc: 0.8948\n",
            "Epoch 81/100\n",
            "225/225 [==============================] - 22s 100ms/step - loss: 0.2696 - acc: 0.8831 - val_loss: 0.3482 - val_acc: 0.8492\n",
            "Epoch 82/100\n",
            "225/225 [==============================] - 23s 102ms/step - loss: 0.2630 - acc: 0.8873 - val_loss: 0.2624 - val_acc: 0.8912\n",
            "Epoch 83/100\n",
            "225/225 [==============================] - 23s 102ms/step - loss: 0.2663 - acc: 0.8856 - val_loss: 0.2305 - val_acc: 0.9072\n",
            "Epoch 84/100\n",
            "225/225 [==============================] - 23s 101ms/step - loss: 0.2651 - acc: 0.8838 - val_loss: 0.2712 - val_acc: 0.8916\n",
            "Epoch 85/100\n",
            "225/225 [==============================] - 23s 102ms/step - loss: 0.2712 - acc: 0.8814 - val_loss: 0.3462 - val_acc: 0.8536\n",
            "Epoch 86/100\n",
            "225/225 [==============================] - 23s 102ms/step - loss: 0.2647 - acc: 0.8860 - val_loss: 0.2731 - val_acc: 0.8872\n",
            "Epoch 87/100\n",
            "225/225 [==============================] - 23s 103ms/step - loss: 0.2590 - acc: 0.8884 - val_loss: 0.2735 - val_acc: 0.8792\n",
            "Epoch 88/100\n",
            "225/225 [==============================] - 23s 102ms/step - loss: 0.2676 - acc: 0.8833 - val_loss: 0.2577 - val_acc: 0.8920\n",
            "Epoch 89/100\n",
            "225/225 [==============================] - 23s 102ms/step - loss: 0.2553 - acc: 0.8884 - val_loss: 0.2299 - val_acc: 0.9132\n",
            "Epoch 90/100\n",
            "225/225 [==============================] - 23s 103ms/step - loss: 0.2625 - acc: 0.8860 - val_loss: 0.2820 - val_acc: 0.8788\n",
            "Epoch 91/100\n",
            "225/225 [==============================] - 23s 101ms/step - loss: 0.2591 - acc: 0.8876 - val_loss: 0.2781 - val_acc: 0.8808\n",
            "Epoch 92/100\n",
            "225/225 [==============================] - 23s 102ms/step - loss: 0.2532 - acc: 0.8906 - val_loss: 0.2582 - val_acc: 0.8920\n",
            "Epoch 93/100\n",
            "225/225 [==============================] - 23s 103ms/step - loss: 0.2642 - acc: 0.8860 - val_loss: 0.2958 - val_acc: 0.8728\n",
            "Epoch 94/100\n",
            "225/225 [==============================] - 23s 101ms/step - loss: 0.2616 - acc: 0.8875 - val_loss: 0.2399 - val_acc: 0.9056\n",
            "Epoch 95/100\n",
            "225/225 [==============================] - 23s 102ms/step - loss: 0.2537 - acc: 0.8904 - val_loss: 0.2366 - val_acc: 0.9032\n",
            "Epoch 96/100\n",
            "225/225 [==============================] - 23s 102ms/step - loss: 0.2589 - acc: 0.8880 - val_loss: 0.2568 - val_acc: 0.8964\n",
            "Epoch 97/100\n",
            "225/225 [==============================] - 23s 102ms/step - loss: 0.2518 - acc: 0.8903 - val_loss: 0.2399 - val_acc: 0.9024\n",
            "Epoch 98/100\n",
            "225/225 [==============================] - 23s 103ms/step - loss: 0.2561 - acc: 0.8897 - val_loss: 0.3123 - val_acc: 0.8560\n",
            "Epoch 99/100\n",
            "225/225 [==============================] - 23s 102ms/step - loss: 0.2569 - acc: 0.8902 - val_loss: 0.2390 - val_acc: 0.9004\n",
            "Epoch 100/100\n",
            "225/225 [==============================] - 23s 103ms/step - loss: 0.2535 - acc: 0.8907 - val_loss: 0.2778 - val_acc: 0.8828\n"
          ],
          "name": "stdout"
        }
      ]
    },
    {
      "cell_type": "code",
      "metadata": {
        "id": "-ZPVoKYUJAUY",
        "colab": {
          "base_uri": "https://localhost:8080/",
          "height": 1000
        },
        "outputId": "1ecbafb4-86e3-44f0-a62b-73185719451c"
      },
      "source": [
        "model.save('cats_and_dogs_cnn_strength.h5')\n",
        "\n",
        "import matplotlib.pyplot as plt\n",
        "\n",
        "accuracy = history.history['acc']\n",
        "validation_acuracy = history.history['val_acc']\n",
        "loss = history.history['loss']\n",
        "validation_loss = history.history['val_loss']\n",
        "\n",
        "#epochs = range(1, len(accuracy) + 1)\n",
        "plt.figure()\n",
        "plt.plot(loss,label=\"loss\")\n",
        "plt.plot(validation_loss,label='validation_loss')\n",
        "plt.title('训练与验证的损失函数对比图')\n",
        " \n",
        "plt.figure()\n",
        "plt.plot( accuracy, 'bo', label='train_accuracy')\n",
        "plt.plot( validation_acuracy, 'b', label='validation_acuracy')"
      ],
      "execution_count": 10,
      "outputs": [
        {
          "output_type": "execute_result",
          "data": {
            "text/plain": [
              "[<matplotlib.lines.Line2D at 0x7fa3801c4ad0>]"
            ]
          },
          "metadata": {
            "tags": []
          },
          "execution_count": 10
        },
        {
          "output_type": "stream",
          "text": [
            "/usr/local/lib/python3.7/dist-packages/matplotlib/backends/backend_agg.py:214: RuntimeWarning: Glyph 35757 missing from current font.\n",
            "  font.set_text(s, 0.0, flags=flags)\n",
            "/usr/local/lib/python3.7/dist-packages/matplotlib/backends/backend_agg.py:214: RuntimeWarning: Glyph 32451 missing from current font.\n",
            "  font.set_text(s, 0.0, flags=flags)\n",
            "/usr/local/lib/python3.7/dist-packages/matplotlib/backends/backend_agg.py:214: RuntimeWarning: Glyph 19982 missing from current font.\n",
            "  font.set_text(s, 0.0, flags=flags)\n",
            "/usr/local/lib/python3.7/dist-packages/matplotlib/backends/backend_agg.py:214: RuntimeWarning: Glyph 39564 missing from current font.\n",
            "  font.set_text(s, 0.0, flags=flags)\n",
            "/usr/local/lib/python3.7/dist-packages/matplotlib/backends/backend_agg.py:214: RuntimeWarning: Glyph 35777 missing from current font.\n",
            "  font.set_text(s, 0.0, flags=flags)\n",
            "/usr/local/lib/python3.7/dist-packages/matplotlib/backends/backend_agg.py:214: RuntimeWarning: Glyph 30340 missing from current font.\n",
            "  font.set_text(s, 0.0, flags=flags)\n",
            "/usr/local/lib/python3.7/dist-packages/matplotlib/backends/backend_agg.py:214: RuntimeWarning: Glyph 25439 missing from current font.\n",
            "  font.set_text(s, 0.0, flags=flags)\n",
            "/usr/local/lib/python3.7/dist-packages/matplotlib/backends/backend_agg.py:214: RuntimeWarning: Glyph 22833 missing from current font.\n",
            "  font.set_text(s, 0.0, flags=flags)\n",
            "/usr/local/lib/python3.7/dist-packages/matplotlib/backends/backend_agg.py:214: RuntimeWarning: Glyph 20989 missing from current font.\n",
            "  font.set_text(s, 0.0, flags=flags)\n",
            "/usr/local/lib/python3.7/dist-packages/matplotlib/backends/backend_agg.py:214: RuntimeWarning: Glyph 25968 missing from current font.\n",
            "  font.set_text(s, 0.0, flags=flags)\n",
            "/usr/local/lib/python3.7/dist-packages/matplotlib/backends/backend_agg.py:214: RuntimeWarning: Glyph 23545 missing from current font.\n",
            "  font.set_text(s, 0.0, flags=flags)\n",
            "/usr/local/lib/python3.7/dist-packages/matplotlib/backends/backend_agg.py:214: RuntimeWarning: Glyph 27604 missing from current font.\n",
            "  font.set_text(s, 0.0, flags=flags)\n",
            "/usr/local/lib/python3.7/dist-packages/matplotlib/backends/backend_agg.py:214: RuntimeWarning: Glyph 22270 missing from current font.\n",
            "  font.set_text(s, 0.0, flags=flags)\n",
            "/usr/local/lib/python3.7/dist-packages/matplotlib/backends/backend_agg.py:183: RuntimeWarning: Glyph 35757 missing from current font.\n",
            "  font.set_text(s, 0, flags=flags)\n",
            "/usr/local/lib/python3.7/dist-packages/matplotlib/backends/backend_agg.py:183: RuntimeWarning: Glyph 32451 missing from current font.\n",
            "  font.set_text(s, 0, flags=flags)\n",
            "/usr/local/lib/python3.7/dist-packages/matplotlib/backends/backend_agg.py:183: RuntimeWarning: Glyph 19982 missing from current font.\n",
            "  font.set_text(s, 0, flags=flags)\n",
            "/usr/local/lib/python3.7/dist-packages/matplotlib/backends/backend_agg.py:183: RuntimeWarning: Glyph 39564 missing from current font.\n",
            "  font.set_text(s, 0, flags=flags)\n",
            "/usr/local/lib/python3.7/dist-packages/matplotlib/backends/backend_agg.py:183: RuntimeWarning: Glyph 35777 missing from current font.\n",
            "  font.set_text(s, 0, flags=flags)\n",
            "/usr/local/lib/python3.7/dist-packages/matplotlib/backends/backend_agg.py:183: RuntimeWarning: Glyph 30340 missing from current font.\n",
            "  font.set_text(s, 0, flags=flags)\n",
            "/usr/local/lib/python3.7/dist-packages/matplotlib/backends/backend_agg.py:183: RuntimeWarning: Glyph 25439 missing from current font.\n",
            "  font.set_text(s, 0, flags=flags)\n",
            "/usr/local/lib/python3.7/dist-packages/matplotlib/backends/backend_agg.py:183: RuntimeWarning: Glyph 22833 missing from current font.\n",
            "  font.set_text(s, 0, flags=flags)\n",
            "/usr/local/lib/python3.7/dist-packages/matplotlib/backends/backend_agg.py:183: RuntimeWarning: Glyph 20989 missing from current font.\n",
            "  font.set_text(s, 0, flags=flags)\n",
            "/usr/local/lib/python3.7/dist-packages/matplotlib/backends/backend_agg.py:183: RuntimeWarning: Glyph 25968 missing from current font.\n",
            "  font.set_text(s, 0, flags=flags)\n",
            "/usr/local/lib/python3.7/dist-packages/matplotlib/backends/backend_agg.py:183: RuntimeWarning: Glyph 23545 missing from current font.\n",
            "  font.set_text(s, 0, flags=flags)\n",
            "/usr/local/lib/python3.7/dist-packages/matplotlib/backends/backend_agg.py:183: RuntimeWarning: Glyph 27604 missing from current font.\n",
            "  font.set_text(s, 0, flags=flags)\n",
            "/usr/local/lib/python3.7/dist-packages/matplotlib/backends/backend_agg.py:183: RuntimeWarning: Glyph 22270 missing from current font.\n",
            "  font.set_text(s, 0, flags=flags)\n"
          ],
          "name": "stderr"
        },
        {
          "output_type": "display_data",
          "data": {
            "image/png": "[encoded data removed]",
            "text/plain": [
              "<Figure size 432x288 with 1 Axes>"
            ]
          },
          "metadata": {
            "tags": [],
            "needs_background": "light"
          }
        },
        {
          "output_type": "display_data",
          "data": {
            "image/png": "[encoded data removed]",
            "text/plain": [
              "<Figure size 432x288 with 1 Axes>"
            ]
          },
          "metadata": {
            "tags": [],
            "needs_background": "light"
          }
        }
      ]
    }
  ]
}