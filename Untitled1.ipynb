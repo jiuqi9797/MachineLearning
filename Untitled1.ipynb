{
  "nbformat": 4,
  "nbformat_minor": 0,
  "metadata": {
    "accelerator": "GPU",
    "colab": {
      "name": "Untitled1.ipynb",
      "provenance": [],
      "collapsed_sections": [],
      "mount_file_id": "1JRxgTKDjOTb0avDhN_z8JgfhbX1jdTpM",
      "authorship_tag": "ABX9TyNe3UOqPIOvt3cl+OGRq4RM",
      "include_colab_link": true
    },
    "kernelspec": {
      "display_name": "Python 3",
      "name": "python3"
    },
    "language_info": {
      "name": "python"
    }
  },
  "cells": [
    {
      "cell_type": "markdown",
      "metadata": {
        "id": "view-in-github",
        "colab_type": "text"
      },
      "source": [
        "<a href=\"https://colab.research.google.com/github/jiuqi9797/MachineLearning/blob/main/Untitled1.ipynb\" target=\"_parent\"><img src=\"https://colab.research.google.com/assets/colab-badge.svg\" alt=\"Open In Colab\"/></a>"
      ]
    },
    {
      "cell_type": "code",
      "metadata": {
        "id": "X-h9ow7ajFaX"
      },
      "source": [
        "import os\n",
        "# 此处为google drive中的文件路径,drive为之前指定的工作根目录，要加上\n",
        "os.chdir(\"/content/drive/MyDrive/colab/keshe/\") "
      ],
      "execution_count": null,
      "outputs": []
    },
    {
      "cell_type": "code",
      "metadata": {
        "colab": {
          "base_uri": "https://localhost:8080/"
        },
        "id": "V3v7W4NWZc61",
        "outputId": "c6dfd0e4-ec3f-4c11-f071-2ac507cc70fe"
      },
      "source": [
        "import os\n",
        "os.environ['KAGGLE_USERNAME']=\"wzrziran\"\n",
        "os.environ['KAGGLE_KEY']=\"b4d101737c58f383daac0253b1852499\"\n",
        "!kaggle competitions download -c dogs-vs-cats"
      ],
      "execution_count": 1,
      "outputs": [
        {
          "output_type": "stream",
          "text": [
            "Warning: Looks like you're using an outdated API Version, please consider updating (server 1.5.12 / client 1.5.4)\n",
            "Downloading sampleSubmission.csv to /content\n",
            "  0% 0.00/86.8k [00:00<?, ?B/s]\n",
            "100% 86.8k/86.8k [00:00<00:00, 33.1MB/s]\n",
            "Downloading train.zip to /content\n",
            " 99% 537M/543M [00:03<00:00, 199MB/s]\n",
            "100% 543M/543M [00:03<00:00, 181MB/s]\n",
            "Downloading test1.zip to /content\n",
            " 95% 257M/271M [00:04<00:00, 75.2MB/s]\n",
            "100% 271M/271M [00:04<00:00, 62.0MB/s]\n"
          ],
          "name": "stdout"
        }
      ]
    },
    {
      "cell_type": "code",
      "metadata": {
        "id": "Ox5XvJOijLOy"
      },
      "source": [
        ""
      ],
      "execution_count": null,
      "outputs": []
    },
    {
      "cell_type": "code",
      "metadata": {
        "colab": {
          "base_uri": "https://localhost:8080/"
        },
        "id": "OLW_8JwCihaP",
        "outputId": "6134cac4-0a0b-4a15-f1e5-e18015b4e20f"
      },
      "source": [
        ""
      ],
      "execution_count": null,
      "outputs": [
        {
          "output_type": "stream",
          "text": [
            "drive  sample_data  train\n"
          ],
          "name": "stdout"
        }
      ]
    },
    {
      "cell_type": "code",
      "metadata": {
        "colab": {
          "base_uri": "https://localhost:8080/"
        },
        "id": "YP73lekrZ1z2",
        "outputId": "14045526-f66b-4c9f-f989-f822fecba387"
      },
      "source": [
        "#对数据进行解压\n",
        "from zipfile import ZipFile\n",
        "#对测试的数据进行解压操作\n",
        "file_train_name =\"/content/drive/MyDrive/colab/keshe/train.zip\" \n",
        "\n",
        "with ZipFile(file_train_name,'r') as zip:\n",
        "  zip.extractall()\n",
        "  print('done')"
      ],
      "execution_count": 2,
      "outputs": [
        {
          "output_type": "stream",
          "text": [
            "done\n"
          ],
          "name": "stdout"
        }
      ]
    },
    {
      "cell_type": "code",
      "metadata": {
        "colab": {
          "base_uri": "https://localhost:8080/"
        },
        "id": "rnTj01OUb03X",
        "outputId": "6fda1312-3a6b-4031-cf86-ed48573ef7fb"
      },
      "source": [
        "data_dir_list = os.listdir('/content/drive/MyDrive/colab/keshe/train')\n",
        "print(\"图片数量：\",len(data_dir_list)) \n",
        "print(data_dir_list[1:10]) "
      ],
      "execution_count": null,
      "outputs": [
        {
          "output_type": "stream",
          "text": [
            "图片数量： 25000\n",
            "['cat.1.jpg', 'cat.10.jpg', 'cat.100.jpg', 'cat.1000.jpg', 'cat.10000.jpg', 'cat.10001.jpg', 'cat.10002.jpg', 'cat.10003.jpg', 'cat.10004.jpg']\n"
          ],
          "name": "stdout"
        }
      ]
    },
    {
      "cell_type": "code",
      "metadata": {
        "id": "aXpfY9RBb7c_"
      },
      "source": [
        "import os\n",
        "#这里打印图片的命名可以发现都是类别加编号,并且都是jpg格式\n",
        "#定义好原始训练数据集的path，定义小量数据样本集的路径并且创建该路径\n",
        "oringinal_dataset_dir = \"/content/drive/MyDrive/colab/keshe/train\"\n",
        "base_dir =\"/content/drive/MyDrive/colab/keshe/cats_and_dogs_small\"\n",
        "\n",
        "#创建训练集目录\n",
        "train_dir =os.path.join(base_dir,'train')\n",
        "#创建验证集目录\n",
        "validation_dir =os.path.join(base_dir,'validation')\n",
        "#创建测试集目录\n",
        "test_dir =os.path.join(base_dir,'test')\n",
        "#创建训练集下面cats目录\n",
        "train_cats_dir =os.path.join(train_dir,'cats')\n",
        "#创建训练集下面dogs目录\n",
        "train_dogs_dir =os.path.join(train_dir,'dogs')\n",
        "#创建测试集下面cats目录\n",
        "test_cats_dir =os.path.join(test_dir,'cats')\n",
        "#创建测试集下面dogs目录\n",
        "test_dogs_dir =os.path.join(test_dir,'dogs')\n",
        "#创建验证集下面cats目录\n",
        "validation_cats_dir =os.path.join(validation_dir,'cats')\n",
        "#创建验证集下面dogs目录\n",
        "validation_dogs_dir =os.path.join(validation_dir,'dogs')"
      ],
      "execution_count": null,
      "outputs": []
    },
    {
      "cell_type": "code",
      "metadata": {
        "id": "Wu78Nyjxd0FT"
      },
      "source": [
        ""
      ],
      "execution_count": null,
      "outputs": []
    },
    {
      "cell_type": "code",
      "metadata": {
        "id": "yNohO7EocQH8"
      },
      "source": [
        "\n",
        "#第一次执行的时候使用\n",
        "base_dir =\"/content/drive/MyDrive/colab/keshe/cats_and_dogs_small\"\n",
        "oringinal_dataset_dir = \"/content/drive/MyDrive/colab/keshe/train\"\n",
        "os.mkdir(base_dir)\n",
        "#创建训练集目录\n",
        "train_dir =os.path.join(base_dir,'train')\n",
        "os.mkdir(train_dir)\n",
        "#创建验证集目录\n",
        "validation_dir =os.path.join(base_dir,'validation')\n",
        "os.mkdir(validation_dir)\n",
        "#创建测试集目录\n",
        "test_dir =os.path.join(base_dir,'test')\n",
        "os.mkdir(test_dir)\n",
        "\n",
        "#创建训练集下面cats目录\n",
        "train_cats_dir =os.path.join(train_dir,'cats')\n",
        "os.mkdir(train_cats_dir)\n",
        "#创建训练集下面dogs目录\n",
        "train_dogs_dir =os.path.join(train_dir,'dogs')\n",
        "os.mkdir(train_dogs_dir)\n",
        "\n",
        "#创建测试集下面cats目录\n",
        "test_cats_dir =os.path.join(test_dir,'cats')\n",
        "os.mkdir(test_cats_dir)\n",
        "#创建测试集下面dogs目录\n",
        "test_dogs_dir =os.path.join(test_dir,'dogs')\n",
        "os.mkdir(test_dogs_dir)\n",
        "\n",
        "#创建验证集下面cats目录\n",
        "validation_cats_dir =os.path.join(validation_dir,'cats')\n",
        "os.mkdir(validation_cats_dir)\n",
        "#创建验证集下面dogs目录\n",
        "validation_dogs_dir =os.path.join(validation_dir,'dogs')\n",
        "os.mkdir(validation_dogs_dir)"
      ],
      "execution_count": null,
      "outputs": []
    },
    {
      "cell_type": "code",
      "metadata": {
        "id": "HaNuZFmOcWRe"
      },
      "source": [
        "import shutil\n",
        "fnames = ['dog.{}.jpg'.format(i) for i in range(1000)]\n",
        "for fname in fnames:\n",
        "  src = os.path.join(oringinal_dataset_dir,fname)\n",
        "  dst = os.path.join(train_dogs_dir,fname)\n",
        "  shutil.copyfile(src,dst)\n",
        "fnames = ['dog.{}.jpg'.format(i) for i in range(1000,1500)]\n",
        "for fname in fnames:\n",
        "  src = os.path.join(oringinal_dataset_dir,fname)\n",
        "  dst = os.path.join(test_dogs_dir,fname)\n",
        "  shutil.copyfile(src,dst)\n",
        "fnames = ['dog.{}.jpg'.format(i) for i in range(1500,2000)]\n",
        "for fname in fnames:\n",
        "  src = os.path.join(oringinal_dataset_dir,fname)\n",
        "  dst = os.path.join(validation_dogs_dir,fname)\n",
        "  shutil.copyfile(src,dst)\n",
        "fnames = ['cat.{}.jpg'.format(i) for i in range(1000)]\n",
        "for fname in fnames:\n",
        "  src = os.path.join(oringinal_dataset_dir,fname)\n",
        "  dst = os.path.join(train_cats_dir,fname)\n",
        "  shutil.copyfile(src,dst)\n",
        "fnames = ['cat.{}.jpg'.format(i) for i in range(1000,1500)]\n",
        "for fname in fnames:\n",
        "  src = os.path.join(oringinal_dataset_dir,fname)\n",
        "  dst = os.path.join(test_cats_dir,fname)\n",
        "  shutil.copyfile(src,dst)\n",
        "fnames = ['cat.{}.jpg'.format(i) for i in range(1500,2000)]\n",
        "for fname in fnames:\n",
        "  src = os.path.join(oringinal_dataset_dir,fname)\n",
        "  dst = os.path.join(validation_cats_dir,fname)\n",
        "  shutil.copyfile(src,dst)"
      ],
      "execution_count": null,
      "outputs": []
    },
    {
      "cell_type": "code",
      "metadata": {
        "colab": {
          "base_uri": "https://localhost:8080/"
        },
        "id": "q1mTtcLwc7LL",
        "outputId": "03131906-7fe6-4d2d-ac55-c703c373abc6"
      },
      "source": [
        "#对于shutle进行image的copy之后，通过打印查看里面train test 以及 validation里面的图片当中关于cat和dog图片的数量\n",
        "#train当中 有1000张 validation和test各500张\n",
        "print(\"样本当中 训练集 train--cat图片数量\",len(os.listdir(train_cats_dir)))\n",
        "print(\"样本当中训练集train--dog图片数量\",len(os.listdir(train_dogs_dir)))\n",
        "print(\"样本当中测试集test--cat图片数量\",len(os.listdir(test_cats_dir)))\n",
        "print(\"样本当中测试集test--dog图片数量\",len(os.listdir(test_dogs_dir)))\n",
        "print(\"样本当中验证集validation--cat图片数量\",len(os.listdir(validation_cats_dir)))\n",
        "print(\"样本当中验证集validation--dog图片数量\",len(os.listdir(validation_dogs_dir)))"
      ],
      "execution_count": null,
      "outputs": [
        {
          "output_type": "stream",
          "text": [
            "样本当中 训练集 train--cat图片数量 1000\n",
            "样本当中训练集train--dog图片数量 1000\n",
            "样本当中测试集test--cat图片数量 500\n",
            "样本当中测试集test--dog图片数量 500\n",
            "样本当中验证集validation--cat图片数量 500\n",
            "样本当中验证集validation--dog图片数量 500\n"
          ],
          "name": "stdout"
        }
      ]
    },
    {
      "cell_type": "code",
      "metadata": {
        "colab": {
          "base_uri": "https://localhost:8080/"
        },
        "id": "skkgL2hodBmE",
        "outputId": "dd0424e5-4415-48f9-8c95-f0585b7a35b9"
      },
      "source": [
        "#第一次定义的模型\n",
        "from keras import layers\n",
        "from keras import models\n",
        "model = models.Sequential()\n",
        "model.add(layers.Conv2D(32,(3,3),activation=\"relu\",input_shape=(150,150,3)))\n",
        "model.add(layers.MaxPooling2D((2,2)))\n",
        "model.add(layers.Conv2D(64,(3,3),activation=\"relu\"))\n",
        "model.add(layers.MaxPooling2D((2,2)))\n",
        "model.add(layers.Conv2D(128,(3,3),activation=\"relu\"))\n",
        "model.add(layers.MaxPooling2D((2,2)))\n",
        "model.add(layers.Conv2D(128,(3,3),activation=\"relu\"))\n",
        "model.add(layers.MaxPooling2D((2,2)))\n",
        "model.add(layers.Flatten())\n",
        "model.add(layers.Dense(512,activation=\"relu\"))\n",
        "model.add(layers.Dense(1,activation=\"sigmoid\"))\n",
        "model.summary()\n",
        "from keras.preprocessing.image import ImageDataGenerator\n",
        "train_data_gen = ImageDataGenerator(rescale=1./255)\n",
        "test_data_gen = ImageDataGenerator(rescale=1./255)\n",
        "train_gennerator = train_data_gen.flow_from_directory(train_dir,\n",
        "                            target_size=(150, 150),\n",
        "                            batch_size=20,\n",
        "                            class_mode='binary')\n",
        "validation_gennerator = test_data_gen.flow_from_directory(validation_dir,\n",
        "                            target_size=(150, 150),\n",
        "                            batch_size=20,\n",
        "                            class_mode='binary')\n",
        "\n",
        "from keras import optimizers \n",
        " \n",
        "#aa\n",
        "#model.compile(loss='binary_crossentropy', optimizer='rmsprop', metrics=['accuracy'])\n",
        "\n",
        "model.compile(loss='binary_crossentropy', \n",
        "              optimizer=optimizers.RMSprop(lr=1e-4),\n",
        "              metrics=['acc'])\n",
        "history = model.fit_generator(train_gennerator,\n",
        "                steps_per_epoch=100,\n",
        "                epochs=30,\n",
        "                validation_data=validation_gennerator,\n",
        "                validation_steps=10)\n"
      ],
      "execution_count": null,
      "outputs": [
        {
          "output_type": "stream",
          "text": [
            "Model: \"sequential\"\n",
            "_________________________________________________________________\n",
            "Layer (type)                 Output Shape              Param #   \n",
            "=================================================================\n",
            "conv2d (Conv2D)              (None, 148, 148, 32)      896       \n",
            "_________________________________________________________________\n",
            "max_pooling2d (MaxPooling2D) (None, 74, 74, 32)        0         \n",
            "_________________________________________________________________\n",
            "conv2d_1 (Conv2D)            (None, 72, 72, 64)        18496     \n",
            "_________________________________________________________________\n",
            "max_pooling2d_1 (MaxPooling2 (None, 36, 36, 64)        0         \n",
            "_________________________________________________________________\n",
            "conv2d_2 (Conv2D)            (None, 34, 34, 128)       73856     \n",
            "_________________________________________________________________\n",
            "max_pooling2d_2 (MaxPooling2 (None, 17, 17, 128)       0         \n",
            "_________________________________________________________________\n",
            "conv2d_3 (Conv2D)            (None, 15, 15, 128)       147584    \n",
            "_________________________________________________________________\n",
            "max_pooling2d_3 (MaxPooling2 (None, 7, 7, 128)         0         \n",
            "_________________________________________________________________\n",
            "flatten (Flatten)            (None, 6272)              0         \n",
            "_________________________________________________________________\n",
            "dense (Dense)                (None, 512)               3211776   \n",
            "_________________________________________________________________\n",
            "dense_1 (Dense)              (None, 1)                 513       \n",
            "=================================================================\n",
            "Total params: 3,453,121\n",
            "Trainable params: 3,453,121\n",
            "Non-trainable params: 0\n",
            "_________________________________________________________________\n",
            "Found 2000 images belonging to 2 classes.\n",
            "Found 1000 images belonging to 2 classes.\n"
          ],
          "name": "stdout"
        },
        {
          "output_type": "stream",
          "text": [
            "/usr/local/lib/python3.7/dist-packages/tensorflow/python/keras/optimizer_v2/optimizer_v2.py:375: UserWarning: The `lr` argument is deprecated, use `learning_rate` instead.\n",
            "  \"The `lr` argument is deprecated, use `learning_rate` instead.\")\n",
            "/usr/local/lib/python3.7/dist-packages/keras/engine/training.py:1915: UserWarning: `Model.fit_generator` is deprecated and will be removed in a future version. Please use `Model.fit`, which supports generators.\n",
            "  warnings.warn('`Model.fit_generator` is deprecated and '\n"
          ],
          "name": "stderr"
        },
        {
          "output_type": "stream",
          "text": [
            "Epoch 1/30\n",
            "100/100 [==============================] - 53s 92ms/step - loss: 0.6970 - acc: 0.5410 - val_loss: 0.7711 - val_acc: 0.5250\n",
            "Epoch 2/30\n",
            "100/100 [==============================] - 9s 90ms/step - loss: 0.6673 - acc: 0.5970 - val_loss: 0.6567 - val_acc: 0.6550\n",
            "Epoch 3/30\n",
            "100/100 [==============================] - 9s 88ms/step - loss: 0.6244 - acc: 0.6418 - val_loss: 0.6143 - val_acc: 0.6600\n",
            "Epoch 4/30\n",
            "100/100 [==============================] - 9s 89ms/step - loss: 0.5821 - acc: 0.6972 - val_loss: 0.5665 - val_acc: 0.7250\n",
            "Epoch 5/30\n",
            "100/100 [==============================] - 9s 89ms/step - loss: 0.5487 - acc: 0.7156 - val_loss: 0.6592 - val_acc: 0.5950\n",
            "Epoch 6/30\n",
            "100/100 [==============================] - 9s 87ms/step - loss: 0.5223 - acc: 0.7331 - val_loss: 0.5587 - val_acc: 0.7300\n",
            "Epoch 7/30\n",
            "100/100 [==============================] - 9s 88ms/step - loss: 0.4604 - acc: 0.7751 - val_loss: 0.5806 - val_acc: 0.6750\n",
            "Epoch 8/30\n",
            "100/100 [==============================] - 9s 89ms/step - loss: 0.4598 - acc: 0.7911 - val_loss: 0.5279 - val_acc: 0.7200\n",
            "Epoch 9/30\n",
            "100/100 [==============================] - 9s 88ms/step - loss: 0.4186 - acc: 0.8032 - val_loss: 0.6319 - val_acc: 0.6650\n",
            "Epoch 10/30\n",
            "100/100 [==============================] - 9s 88ms/step - loss: 0.3931 - acc: 0.8276 - val_loss: 0.4846 - val_acc: 0.7550\n",
            "Epoch 11/30\n",
            "100/100 [==============================] - 9s 89ms/step - loss: 0.3534 - acc: 0.8488 - val_loss: 0.6501 - val_acc: 0.6650\n",
            "Epoch 12/30\n",
            "100/100 [==============================] - 9s 87ms/step - loss: 0.3546 - acc: 0.8470 - val_loss: 0.4936 - val_acc: 0.7450\n",
            "Epoch 13/30\n",
            "100/100 [==============================] - 9s 89ms/step - loss: 0.3102 - acc: 0.8698 - val_loss: 0.7256 - val_acc: 0.7000\n",
            "Epoch 14/30\n",
            "100/100 [==============================] - 9s 89ms/step - loss: 0.3312 - acc: 0.8640 - val_loss: 0.5970 - val_acc: 0.7400\n",
            "Epoch 15/30\n",
            "100/100 [==============================] - 9s 87ms/step - loss: 0.2894 - acc: 0.8796 - val_loss: 0.6937 - val_acc: 0.7100\n",
            "Epoch 16/30\n",
            "100/100 [==============================] - 9s 87ms/step - loss: 0.2645 - acc: 0.8934 - val_loss: 0.6183 - val_acc: 0.7250\n",
            "Epoch 17/30\n",
            "100/100 [==============================] - 9s 88ms/step - loss: 0.2413 - acc: 0.9145 - val_loss: 0.7956 - val_acc: 0.7100\n",
            "Epoch 18/30\n",
            "100/100 [==============================] - 9s 87ms/step - loss: 0.2232 - acc: 0.9144 - val_loss: 0.6692 - val_acc: 0.7350\n",
            "Epoch 19/30\n",
            "100/100 [==============================] - 9s 89ms/step - loss: 0.1924 - acc: 0.9239 - val_loss: 0.6739 - val_acc: 0.7400\n",
            "Epoch 20/30\n",
            "100/100 [==============================] - 9s 88ms/step - loss: 0.1740 - acc: 0.9370 - val_loss: 0.7122 - val_acc: 0.6950\n",
            "Epoch 21/30\n",
            "100/100 [==============================] - 9s 88ms/step - loss: 0.1471 - acc: 0.9494 - val_loss: 0.6653 - val_acc: 0.7400\n",
            "Epoch 22/30\n",
            "100/100 [==============================] - 9s 90ms/step - loss: 0.1372 - acc: 0.9508 - val_loss: 0.9220 - val_acc: 0.7250\n",
            "Epoch 23/30\n",
            "100/100 [==============================] - 9s 88ms/step - loss: 0.1375 - acc: 0.9477 - val_loss: 0.6138 - val_acc: 0.7750\n",
            "Epoch 24/30\n",
            "100/100 [==============================] - 9s 89ms/step - loss: 0.1125 - acc: 0.9627 - val_loss: 0.8664 - val_acc: 0.7000\n",
            "Epoch 25/30\n",
            "100/100 [==============================] - 9s 88ms/step - loss: 0.0882 - acc: 0.9720 - val_loss: 0.7038 - val_acc: 0.7550\n",
            "Epoch 26/30\n",
            "100/100 [==============================] - 9s 89ms/step - loss: 0.0719 - acc: 0.9826 - val_loss: 1.1034 - val_acc: 0.7200\n",
            "Epoch 27/30\n",
            "100/100 [==============================] - 9s 88ms/step - loss: 0.0641 - acc: 0.9819 - val_loss: 0.9283 - val_acc: 0.6950\n",
            "Epoch 28/30\n",
            "100/100 [==============================] - 9s 88ms/step - loss: 0.0583 - acc: 0.9886 - val_loss: 1.1997 - val_acc: 0.7000\n",
            "Epoch 29/30\n",
            "100/100 [==============================] - 9s 90ms/step - loss: 0.0539 - acc: 0.9830 - val_loss: 0.8566 - val_acc: 0.7400\n",
            "Epoch 30/30\n",
            "100/100 [==============================] - 9s 89ms/step - loss: 0.0352 - acc: 0.9922 - val_loss: 0.9299 - val_acc: 0.7000\n"
          ],
          "name": "stdout"
        }
      ]
    },
    {
      "cell_type": "code",
      "metadata": {
        "id": "7leTcOkLoN-v"
      },
      "source": [
        "model.save('cats_and_dogs_small_1.h5')\n",
        "\n",
        "import matplotlib.pyplot as plt\n",
        "\n",
        "accuracy = history.history['acc']\n",
        "validation_acuracy = history.history['val_acc']\n",
        "loss = history.history['loss']\n",
        "validation_loss = history.history['val_loss']\n",
        "\n",
        "epochs = range(1, len(accuracy) + 1)\n",
        "\n",
        "plt.plot(epochs, acc, 'bo', label='训练的准确度')\n",
        "plt.plot(epochs, val_acc, 'b', label='验证集的准确度')\n",
        "plt.title('训练集和验证集的准确度对比图')\n",
        "plt.legend()\n",
        "\n",
        "plt.figure()\n",
        "\n",
        "plt.plot(epochs, loss, 'bo', label='训练的损失函数值')\n",
        "plt.plot(epochs, val_loss, 'b', label='验证集的损失函数')\n",
        "plt.title('训练与验证的损失函数对比图')\n",
        "plt.legend()\n"
      ],
      "execution_count": null,
      "outputs": []
    },
    {
      "cell_type": "code",
      "metadata": {
        "colab": {
          "base_uri": "https://localhost:8080/"
        },
        "id": "LP2hm8yqm2yQ",
        "outputId": "7787fa31-8321-433b-e4af-28fb02043274"
      },
      "source": [
        "#第二次训练\n",
        "from keras import layers\n",
        "from keras import models\n",
        "model = models.Sequential()\n",
        "model.add(layers.Conv2D(32,(3,3),activation=\"relu\",input_shape=(150,150,3)))\n",
        "model.add(layers.MaxPooling2D((2,2)))\n",
        "model.add(layers.Conv2D(64,(3,3),activation=\"relu\"))\n",
        "model.add(layers.MaxPooling2D((2,2)))\n",
        "model.add(layers.Conv2D(128,(3,3),activation=\"relu\"))\n",
        "model.add(layers.MaxPooling2D((2,2)))\n",
        "model.add(layers.Conv2D(128,(3,3),activation=\"relu\"))\n",
        "model.add(layers.MaxPooling2D((2,2)))\n",
        "\n",
        "model.add(layers.Flatten())\n",
        "model.add(layers.Dropout(0.5))\n",
        "model.add(layers.Dense(512,activation=\"relu\"))\n",
        "model.add(layers.Dense(1,activation=\"sigmoid\"))\n",
        "model.summary()\n",
        "from keras.preprocessing.image import ImageDataGenerator\n",
        "train_data_gen = ImageDataGenerator(rescale=1./255)\n",
        "test_data_gen = ImageDataGenerator(rescale=1./255)\n",
        "train_gennerator = train_data_gen.flow_from_directory(train_dir,\n",
        "                            target_size=(150, 150),\n",
        "                            batch_size=20,\n",
        "                            class_mode='binary')\n",
        "validation_gennerator = test_data_gen.flow_from_directory(validation_dir,\n",
        "                            target_size=(150, 150),\n",
        "                            batch_size=20,\n",
        "                            class_mode='binary')\n",
        "\n",
        "from keras import optimizers \n",
        " \n",
        "#aa\n",
        "#model.compile(loss='binary_crossentropy', optimizer='rmsprop', metrics=['accuracy'])\n",
        "\n",
        "model.compile(loss='binary_crossentropy', \n",
        "              optimizer=optimizers.RMSprop(lr=1e-4),\n",
        "              metrics=['acc'])\n",
        "history = model.fit_generator(train_gennerator,\n",
        "                steps_per_epoch=100,\n",
        "                epochs=30,\n",
        "                validation_data=validation_gennerator,\n",
        "                validation_steps=10)"
      ],
      "execution_count": null,
      "outputs": [
        {
          "output_type": "stream",
          "text": [
            "Model: \"sequential_3\"\n",
            "_________________________________________________________________\n",
            "Layer (type)                 Output Shape              Param #   \n",
            "=================================================================\n",
            "conv2d_12 (Conv2D)           (None, 148, 148, 32)      896       \n",
            "_________________________________________________________________\n",
            "max_pooling2d_12 (MaxPooling (None, 74, 74, 32)        0         \n",
            "_________________________________________________________________\n",
            "conv2d_13 (Conv2D)           (None, 72, 72, 64)        18496     \n",
            "_________________________________________________________________\n",
            "max_pooling2d_13 (MaxPooling (None, 36, 36, 64)        0         \n",
            "_________________________________________________________________\n",
            "conv2d_14 (Conv2D)           (None, 34, 34, 128)       73856     \n",
            "_________________________________________________________________\n",
            "max_pooling2d_14 (MaxPooling (None, 17, 17, 128)       0         \n",
            "_________________________________________________________________\n",
            "conv2d_15 (Conv2D)           (None, 15, 15, 128)       147584    \n",
            "_________________________________________________________________\n",
            "max_pooling2d_15 (MaxPooling (None, 7, 7, 128)         0         \n",
            "_________________________________________________________________\n",
            "flatten_3 (Flatten)          (None, 6272)              0         \n",
            "_________________________________________________________________\n",
            "dropout_2 (Dropout)          (None, 6272)              0         \n",
            "_________________________________________________________________\n",
            "dense_6 (Dense)              (None, 512)               3211776   \n",
            "_________________________________________________________________\n",
            "dense_7 (Dense)              (None, 1)                 513       \n",
            "=================================================================\n",
            "Total params: 3,453,121\n",
            "Trainable params: 3,453,121\n",
            "Non-trainable params: 0\n",
            "_________________________________________________________________\n",
            "Found 2000 images belonging to 2 classes.\n",
            "Found 1000 images belonging to 2 classes.\n"
          ],
          "name": "stdout"
        },
        {
          "output_type": "stream",
          "text": [
            "/usr/local/lib/python3.7/dist-packages/tensorflow/python/keras/optimizer_v2/optimizer_v2.py:375: UserWarning: The `lr` argument is deprecated, use `learning_rate` instead.\n",
            "  \"The `lr` argument is deprecated, use `learning_rate` instead.\")\n",
            "/usr/local/lib/python3.7/dist-packages/keras/engine/training.py:1915: UserWarning: `Model.fit_generator` is deprecated and will be removed in a future version. Please use `Model.fit`, which supports generators.\n",
            "  warnings.warn('`Model.fit_generator` is deprecated and '\n"
          ],
          "name": "stderr"
        },
        {
          "output_type": "stream",
          "text": [
            "Epoch 1/30\n",
            "100/100 [==============================] - 11s 95ms/step - loss: 0.7110 - acc: 0.5057 - val_loss: 0.6839 - val_acc: 0.6050\n",
            "Epoch 2/30\n",
            "100/100 [==============================] - 9s 89ms/step - loss: 0.6810 - acc: 0.5715 - val_loss: 0.7016 - val_acc: 0.5350\n",
            "Epoch 3/30\n",
            "100/100 [==============================] - 9s 90ms/step - loss: 0.6558 - acc: 0.6059 - val_loss: 0.6423 - val_acc: 0.6050\n",
            "Epoch 4/30\n",
            "100/100 [==============================] - 9s 90ms/step - loss: 0.6266 - acc: 0.6377 - val_loss: 0.6443 - val_acc: 0.6400\n",
            "Epoch 5/30\n",
            "100/100 [==============================] - 9s 89ms/step - loss: 0.5942 - acc: 0.6775 - val_loss: 0.6060 - val_acc: 0.6500\n",
            "Epoch 6/30\n",
            "100/100 [==============================] - 9s 89ms/step - loss: 0.5419 - acc: 0.7217 - val_loss: 0.5272 - val_acc: 0.7250\n",
            "Epoch 7/30\n",
            "100/100 [==============================] - 9s 91ms/step - loss: 0.5262 - acc: 0.7280 - val_loss: 0.5304 - val_acc: 0.7400\n",
            "Epoch 8/30\n",
            "100/100 [==============================] - 9s 92ms/step - loss: 0.4943 - acc: 0.7628 - val_loss: 0.5947 - val_acc: 0.6550\n",
            "Epoch 9/30\n",
            "100/100 [==============================] - 9s 91ms/step - loss: 0.5089 - acc: 0.7411 - val_loss: 0.6152 - val_acc: 0.6750\n",
            "Epoch 10/30\n",
            "100/100 [==============================] - 9s 90ms/step - loss: 0.4891 - acc: 0.7611 - val_loss: 0.5296 - val_acc: 0.7150\n",
            "Epoch 11/30\n",
            "100/100 [==============================] - 9s 88ms/step - loss: 0.4482 - acc: 0.7718 - val_loss: 0.5802 - val_acc: 0.7350\n",
            "Epoch 12/30\n",
            "100/100 [==============================] - 9s 91ms/step - loss: 0.4301 - acc: 0.8007 - val_loss: 0.6366 - val_acc: 0.7150\n",
            "Epoch 13/30\n",
            "100/100 [==============================] - 9s 89ms/step - loss: 0.4206 - acc: 0.7976 - val_loss: 0.6142 - val_acc: 0.6750\n",
            "Epoch 14/30\n",
            "100/100 [==============================] - 9s 90ms/step - loss: 0.4134 - acc: 0.8197 - val_loss: 0.4965 - val_acc: 0.7500\n",
            "Epoch 15/30\n",
            "100/100 [==============================] - 9s 90ms/step - loss: 0.3954 - acc: 0.8297 - val_loss: 0.6181 - val_acc: 0.6850\n",
            "Epoch 16/30\n",
            "100/100 [==============================] - 9s 90ms/step - loss: 0.3771 - acc: 0.8290 - val_loss: 0.6092 - val_acc: 0.7300\n",
            "Epoch 17/30\n",
            "100/100 [==============================] - 9s 91ms/step - loss: 0.3622 - acc: 0.8475 - val_loss: 0.7451 - val_acc: 0.6300\n",
            "Epoch 18/30\n",
            "100/100 [==============================] - 9s 89ms/step - loss: 0.3426 - acc: 0.8431 - val_loss: 0.4763 - val_acc: 0.7700\n",
            "Epoch 19/30\n",
            "100/100 [==============================] - 9s 89ms/step - loss: 0.3346 - acc: 0.8611 - val_loss: 0.6274 - val_acc: 0.6850\n",
            "Epoch 20/30\n",
            "100/100 [==============================] - 9s 91ms/step - loss: 0.3072 - acc: 0.8663 - val_loss: 0.5719 - val_acc: 0.7150\n",
            "Epoch 21/30\n",
            "100/100 [==============================] - 9s 88ms/step - loss: 0.3138 - acc: 0.8742 - val_loss: 0.5616 - val_acc: 0.7700\n",
            "Epoch 22/30\n",
            "100/100 [==============================] - 9s 88ms/step - loss: 0.2925 - acc: 0.8882 - val_loss: 0.5194 - val_acc: 0.7350\n",
            "Epoch 23/30\n",
            "100/100 [==============================] - 9s 91ms/step - loss: 0.2706 - acc: 0.8971 - val_loss: 0.6860 - val_acc: 0.7150\n",
            "Epoch 24/30\n",
            "100/100 [==============================] - 9s 90ms/step - loss: 0.2605 - acc: 0.8937 - val_loss: 0.6423 - val_acc: 0.7150\n",
            "Epoch 25/30\n",
            "100/100 [==============================] - 9s 89ms/step - loss: 0.2467 - acc: 0.9072 - val_loss: 0.5231 - val_acc: 0.7750\n",
            "Epoch 26/30\n",
            "100/100 [==============================] - 9s 89ms/step - loss: 0.2260 - acc: 0.9079 - val_loss: 0.6658 - val_acc: 0.7350\n",
            "Epoch 27/30\n",
            "100/100 [==============================] - 9s 92ms/step - loss: 0.2300 - acc: 0.9070 - val_loss: 0.5821 - val_acc: 0.7400\n",
            "Epoch 28/30\n",
            "100/100 [==============================] - 9s 90ms/step - loss: 0.2266 - acc: 0.9043 - val_loss: 0.5821 - val_acc: 0.7450\n",
            "Epoch 29/30\n",
            "100/100 [==============================] - 9s 90ms/step - loss: 0.2168 - acc: 0.9056 - val_loss: 0.5216 - val_acc: 0.7450\n",
            "Epoch 30/30\n",
            "100/100 [==============================] - 9s 89ms/step - loss: 0.1944 - acc: 0.9229 - val_loss: 0.5377 - val_acc: 0.7800\n"
          ],
          "name": "stdout"
        }
      ]
    },
    {
      "cell_type": "code",
      "metadata": {
        "colab": {
          "base_uri": "https://localhost:8080/",
          "height": 1000
        },
        "id": "K4VAav5NsKQk",
        "outputId": "7e51095d-e948-401f-b8b4-174e98d10cd9"
      },
      "source": [
        "model.save('cats_and_dogs_small_2.h5')\n",
        "\n",
        "import matplotlib.pyplot as plt\n",
        "\n",
        "accuracy = history.history['acc']\n",
        "validation_acuracy = history.history['val_acc']\n",
        "loss = history.history['loss']\n",
        "validation_loss = history.history['val_loss']\n",
        "\n",
        "epochs = range(1, len(accuracy) + 1)\n",
        "\n",
        "plt.plot(epochs, accuracy, 'bo', label='训练的准确度')\n",
        "plt.plot(epochs, validation_acuracy, 'b', label='验证集的准确度')\n",
        "plt.title('训练集和验证集的准确度对比图')\n",
        "plt.legend()\n",
        "\n",
        "plt.figure()\n",
        "\n",
        "plt.plot(epochs, loss, 'bo', label='训练的损失函数值')\n",
        "plt.plot(epochs, validation_loss, 'b', label='验证集的损失函数')\n",
        "plt.title('训练与验证的损失函数对比图')\n",
        "plt.legend()\n"
      ],
      "execution_count": null,
      "outputs": [
        {
          "output_type": "execute_result",
          "data": {
            "text/plain": [
              "<matplotlib.legend.Legend at 0x7fc3d417c9d0>"
            ]
          },
          "metadata": {
            "tags": []
          },
          "execution_count": 15
        },
        {
          "output_type": "stream",
          "text": [
            "/usr/local/lib/python3.7/dist-packages/matplotlib/backends/backend_agg.py:214: RuntimeWarning: Glyph 35757 missing from current font.\n",
            "  font.set_text(s, 0.0, flags=flags)\n",
            "/usr/local/lib/python3.7/dist-packages/matplotlib/backends/backend_agg.py:214: RuntimeWarning: Glyph 32451 missing from current font.\n",
            "  font.set_text(s, 0.0, flags=flags)\n",
            "/usr/local/lib/python3.7/dist-packages/matplotlib/backends/backend_agg.py:214: RuntimeWarning: Glyph 38598 missing from current font.\n",
            "  font.set_text(s, 0.0, flags=flags)\n",
            "/usr/local/lib/python3.7/dist-packages/matplotlib/backends/backend_agg.py:214: RuntimeWarning: Glyph 21644 missing from current font.\n",
            "  font.set_text(s, 0.0, flags=flags)\n",
            "/usr/local/lib/python3.7/dist-packages/matplotlib/backends/backend_agg.py:214: RuntimeWarning: Glyph 39564 missing from current font.\n",
            "  font.set_text(s, 0.0, flags=flags)\n",
            "/usr/local/lib/python3.7/dist-packages/matplotlib/backends/backend_agg.py:214: RuntimeWarning: Glyph 35777 missing from current font.\n",
            "  font.set_text(s, 0.0, flags=flags)\n",
            "/usr/local/lib/python3.7/dist-packages/matplotlib/backends/backend_agg.py:214: RuntimeWarning: Glyph 30340 missing from current font.\n",
            "  font.set_text(s, 0.0, flags=flags)\n",
            "/usr/local/lib/python3.7/dist-packages/matplotlib/backends/backend_agg.py:214: RuntimeWarning: Glyph 20934 missing from current font.\n",
            "  font.set_text(s, 0.0, flags=flags)\n",
            "/usr/local/lib/python3.7/dist-packages/matplotlib/backends/backend_agg.py:214: RuntimeWarning: Glyph 30830 missing from current font.\n",
            "  font.set_text(s, 0.0, flags=flags)\n",
            "/usr/local/lib/python3.7/dist-packages/matplotlib/backends/backend_agg.py:214: RuntimeWarning: Glyph 24230 missing from current font.\n",
            "  font.set_text(s, 0.0, flags=flags)\n",
            "/usr/local/lib/python3.7/dist-packages/matplotlib/backends/backend_agg.py:214: RuntimeWarning: Glyph 23545 missing from current font.\n",
            "  font.set_text(s, 0.0, flags=flags)\n",
            "/usr/local/lib/python3.7/dist-packages/matplotlib/backends/backend_agg.py:214: RuntimeWarning: Glyph 27604 missing from current font.\n",
            "  font.set_text(s, 0.0, flags=flags)\n",
            "/usr/local/lib/python3.7/dist-packages/matplotlib/backends/backend_agg.py:214: RuntimeWarning: Glyph 22270 missing from current font.\n",
            "  font.set_text(s, 0.0, flags=flags)\n",
            "/usr/local/lib/python3.7/dist-packages/matplotlib/backends/backend_agg.py:183: RuntimeWarning: Glyph 35757 missing from current font.\n",
            "  font.set_text(s, 0, flags=flags)\n",
            "/usr/local/lib/python3.7/dist-packages/matplotlib/backends/backend_agg.py:183: RuntimeWarning: Glyph 32451 missing from current font.\n",
            "  font.set_text(s, 0, flags=flags)\n",
            "/usr/local/lib/python3.7/dist-packages/matplotlib/backends/backend_agg.py:183: RuntimeWarning: Glyph 38598 missing from current font.\n",
            "  font.set_text(s, 0, flags=flags)\n",
            "/usr/local/lib/python3.7/dist-packages/matplotlib/backends/backend_agg.py:183: RuntimeWarning: Glyph 21644 missing from current font.\n",
            "  font.set_text(s, 0, flags=flags)\n",
            "/usr/local/lib/python3.7/dist-packages/matplotlib/backends/backend_agg.py:183: RuntimeWarning: Glyph 39564 missing from current font.\n",
            "  font.set_text(s, 0, flags=flags)\n",
            "/usr/local/lib/python3.7/dist-packages/matplotlib/backends/backend_agg.py:183: RuntimeWarning: Glyph 35777 missing from current font.\n",
            "  font.set_text(s, 0, flags=flags)\n",
            "/usr/local/lib/python3.7/dist-packages/matplotlib/backends/backend_agg.py:183: RuntimeWarning: Glyph 30340 missing from current font.\n",
            "  font.set_text(s, 0, flags=flags)\n",
            "/usr/local/lib/python3.7/dist-packages/matplotlib/backends/backend_agg.py:183: RuntimeWarning: Glyph 20934 missing from current font.\n",
            "  font.set_text(s, 0, flags=flags)\n",
            "/usr/local/lib/python3.7/dist-packages/matplotlib/backends/backend_agg.py:183: RuntimeWarning: Glyph 30830 missing from current font.\n",
            "  font.set_text(s, 0, flags=flags)\n",
            "/usr/local/lib/python3.7/dist-packages/matplotlib/backends/backend_agg.py:183: RuntimeWarning: Glyph 24230 missing from current font.\n",
            "  font.set_text(s, 0, flags=flags)\n",
            "/usr/local/lib/python3.7/dist-packages/matplotlib/backends/backend_agg.py:183: RuntimeWarning: Glyph 23545 missing from current font.\n",
            "  font.set_text(s, 0, flags=flags)\n",
            "/usr/local/lib/python3.7/dist-packages/matplotlib/backends/backend_agg.py:183: RuntimeWarning: Glyph 27604 missing from current font.\n",
            "  font.set_text(s, 0, flags=flags)\n",
            "/usr/local/lib/python3.7/dist-packages/matplotlib/backends/backend_agg.py:183: RuntimeWarning: Glyph 22270 missing from current font.\n",
            "  font.set_text(s, 0, flags=flags)\n",
            "/usr/local/lib/python3.7/dist-packages/matplotlib/backends/backend_agg.py:214: RuntimeWarning: Glyph 19982 missing from current font.\n",
            "  font.set_text(s, 0.0, flags=flags)\n",
            "/usr/local/lib/python3.7/dist-packages/matplotlib/backends/backend_agg.py:214: RuntimeWarning: Glyph 25439 missing from current font.\n",
            "  font.set_text(s, 0.0, flags=flags)\n",
            "/usr/local/lib/python3.7/dist-packages/matplotlib/backends/backend_agg.py:214: RuntimeWarning: Glyph 22833 missing from current font.\n",
            "  font.set_text(s, 0.0, flags=flags)\n",
            "/usr/local/lib/python3.7/dist-packages/matplotlib/backends/backend_agg.py:214: RuntimeWarning: Glyph 20989 missing from current font.\n",
            "  font.set_text(s, 0.0, flags=flags)\n",
            "/usr/local/lib/python3.7/dist-packages/matplotlib/backends/backend_agg.py:214: RuntimeWarning: Glyph 25968 missing from current font.\n",
            "  font.set_text(s, 0.0, flags=flags)\n",
            "/usr/local/lib/python3.7/dist-packages/matplotlib/backends/backend_agg.py:183: RuntimeWarning: Glyph 19982 missing from current font.\n",
            "  font.set_text(s, 0, flags=flags)\n",
            "/usr/local/lib/python3.7/dist-packages/matplotlib/backends/backend_agg.py:183: RuntimeWarning: Glyph 25439 missing from current font.\n",
            "  font.set_text(s, 0, flags=flags)\n",
            "/usr/local/lib/python3.7/dist-packages/matplotlib/backends/backend_agg.py:183: RuntimeWarning: Glyph 22833 missing from current font.\n",
            "  font.set_text(s, 0, flags=flags)\n",
            "/usr/local/lib/python3.7/dist-packages/matplotlib/backends/backend_agg.py:183: RuntimeWarning: Glyph 20989 missing from current font.\n",
            "  font.set_text(s, 0, flags=flags)\n",
            "/usr/local/lib/python3.7/dist-packages/matplotlib/backends/backend_agg.py:183: RuntimeWarning: Glyph 25968 missing from current font.\n",
            "  font.set_text(s, 0, flags=flags)\n",
            "/usr/local/lib/python3.7/dist-packages/matplotlib/backends/backend_agg.py:214: RuntimeWarning: Glyph 20540 missing from current font.\n",
            "  font.set_text(s, 0.0, flags=flags)\n",
            "/usr/local/lib/python3.7/dist-packages/matplotlib/backends/backend_agg.py:183: RuntimeWarning: Glyph 20540 missing from current font.\n",
            "  font.set_text(s, 0, flags=flags)\n"
          ],
          "name": "stderr"
        },
        {
          "output_type": "display_data",
          "data": {
            "image/png": "[encoded data removed]",
            "text/plain": [
              "<Figure size 432x288 with 1 Axes>"
            ]
          },
          "metadata": {
            "tags": []
          }
        },
        {
          "output_type": "display_data",
          "data": {
            "image/png": "[encoded data removed]",
            "text/plain": [
              "<Figure size 432x288 with 1 Axes>"
            ]
          },
          "metadata": {
            "tags": []
          }
        }
      ]
    },
    {
      "cell_type": "code",
      "metadata": {
        "colab": {
          "base_uri": "https://localhost:8080/"
        },
        "id": "CAEJTYoZs1YR",
        "outputId": "4467737b-6a5e-4c51-f9df-cf8d914c9362"
      },
      "source": [
        "#第三次训练,在发现进行fropoout随机断开\n",
        "from keras import layers\n",
        "from keras import models\n",
        "model = models.Sequential()\n",
        "model.add(layers.Conv2D(32,(3,3),activation=\"relu\",input_shape=(150,150,3)))\n",
        "model.add(layers.MaxPooling2D((2,2)))\n",
        "model.add(layers.Conv2D(64,(3,3),activation=\"relu\"))\n",
        "model.add(layers.MaxPooling2D((2,2)))\n",
        "model.add(layers.Conv2D(128,(3,3),activation=\"relu\"))\n",
        "model.add(layers.MaxPooling2D((2,2)))\n",
        "model.add(layers.Conv2D(128,(3,3),activation=\"relu\"))\n",
        "model.add(layers.MaxPooling2D((2,2)))\n",
        "\n",
        "model.add(layers.Flatten())\n",
        "model.add(layers.Dropout(0.5))\n",
        "model.add(layers.Dense(512,activation=\"relu\"))\n",
        "model.add(layers.Dense(1,activation=\"sigmoid\"))\n",
        "model.summary()\n",
        "from keras.preprocessing.image import ImageDataGenerator\n",
        "train_data_gen = ImageDataGenerator(rescale=1./255,\n",
        "                  rotation_range=40,\n",
        "                  width_shift_range=0.2,\n",
        "                  height_shift_range=0.2,\n",
        "                  shear_range=0.2,\n",
        "                  zoom_range=0.2,\n",
        "                  horizontal_flip=True)\n",
        "test_data_gen = ImageDataGenerator(rescale=1./255)\n",
        "train_gennerator = train_data_gen.flow_from_directory(train_dir,\n",
        "                            target_size=(150, 150),\n",
        "                            batch_size=20,\n",
        "                            class_mode='binary')\n",
        "validation_gennerator = test_data_gen.flow_from_directory(validation_dir,\n",
        "                            target_size=(150, 150),\n",
        "                            batch_size=20,\n",
        "                            class_mode='binary')\n",
        "\n",
        "from keras import optimizers \n",
        " \n",
        "#aa\n",
        "#model.compile(loss='binary_crossentropy', optimizer='rmsprop', metrics=['accuracy'])\n",
        "\n",
        "model.compile(loss='binary_crossentropy', \n",
        "              optimizer=optimizers.Adam(),\n",
        "              metrics=['acc'])\n",
        "history = model.fit_generator(train_gennerator,\n",
        "                steps_per_epoch=100,\n",
        "                epochs=30,\n",
        "                validation_data=validation_gennerator,\n",
        "                validation_steps=10)"
      ],
      "execution_count": null,
      "outputs": [
        {
          "output_type": "stream",
          "text": [
            "Model: \"sequential_4\"\n",
            "_________________________________________________________________\n",
            "Layer (type)                 Output Shape              Param #   \n",
            "=================================================================\n",
            "conv2d_16 (Conv2D)           (None, 148, 148, 32)      896       \n",
            "_________________________________________________________________\n",
            "max_pooling2d_16 (MaxPooling (None, 74, 74, 32)        0         \n",
            "_________________________________________________________________\n",
            "conv2d_17 (Conv2D)           (None, 72, 72, 64)        18496     \n",
            "_________________________________________________________________\n",
            "max_pooling2d_17 (MaxPooling (None, 36, 36, 64)        0         \n",
            "_________________________________________________________________\n",
            "conv2d_18 (Conv2D)           (None, 34, 34, 128)       73856     \n",
            "_________________________________________________________________\n",
            "max_pooling2d_18 (MaxPooling (None, 17, 17, 128)       0         \n",
            "_________________________________________________________________\n",
            "conv2d_19 (Conv2D)           (None, 15, 15, 128)       147584    \n",
            "_________________________________________________________________\n",
            "max_pooling2d_19 (MaxPooling (None, 7, 7, 128)         0         \n",
            "_________________________________________________________________\n",
            "flatten_4 (Flatten)          (None, 6272)              0         \n",
            "_________________________________________________________________\n",
            "dropout_3 (Dropout)          (None, 6272)              0         \n",
            "_________________________________________________________________\n",
            "dense_8 (Dense)              (None, 512)               3211776   \n",
            "_________________________________________________________________\n",
            "dense_9 (Dense)              (None, 1)                 513       \n",
            "=================================================================\n",
            "Total params: 3,453,121\n",
            "Trainable params: 3,453,121\n",
            "Non-trainable params: 0\n",
            "_________________________________________________________________\n",
            "Found 2000 images belonging to 2 classes.\n",
            "Found 1000 images belonging to 2 classes.\n"
          ],
          "name": "stdout"
        },
        {
          "output_type": "stream",
          "text": [
            "/usr/local/lib/python3.7/dist-packages/keras/engine/training.py:1915: UserWarning: `Model.fit_generator` is deprecated and will be removed in a future version. Please use `Model.fit`, which supports generators.\n",
            "  warnings.warn('`Model.fit_generator` is deprecated and '\n"
          ],
          "name": "stderr"
        },
        {
          "output_type": "stream",
          "text": [
            "Epoch 1/30\n",
            "100/100 [==============================] - 19s 181ms/step - loss: 0.7050 - acc: 0.4901 - val_loss: 0.6930 - val_acc: 0.5250\n",
            "Epoch 2/30\n",
            "100/100 [==============================] - 17s 174ms/step - loss: 0.6932 - acc: 0.5185 - val_loss: 0.6974 - val_acc: 0.4800\n",
            "Epoch 3/30\n",
            "100/100 [==============================] - 18s 176ms/step - loss: 0.6936 - acc: 0.4941 - val_loss: 0.6933 - val_acc: 0.5050\n",
            "Epoch 4/30\n",
            "100/100 [==============================] - 17s 173ms/step - loss: 0.6937 - acc: 0.5190 - val_loss: 0.6934 - val_acc: 0.5000\n",
            "Epoch 5/30\n",
            "100/100 [==============================] - 17s 173ms/step - loss: 0.6932 - acc: 0.4638 - val_loss: 0.6913 - val_acc: 0.4950\n",
            "Epoch 6/30\n",
            "100/100 [==============================] - 17s 173ms/step - loss: 0.6941 - acc: 0.5298 - val_loss: 0.6971 - val_acc: 0.3850\n",
            "Epoch 7/30\n",
            "100/100 [==============================] - 17s 172ms/step - loss: 0.6923 - acc: 0.5313 - val_loss: 0.7732 - val_acc: 0.4650\n",
            "Epoch 8/30\n",
            "100/100 [==============================] - 18s 177ms/step - loss: 0.6971 - acc: 0.4997 - val_loss: 0.6931 - val_acc: 0.5100\n",
            "Epoch 9/30\n",
            "100/100 [==============================] - 17s 174ms/step - loss: 0.6931 - acc: 0.5016 - val_loss: 0.6933 - val_acc: 0.4550\n",
            "Epoch 10/30\n",
            "100/100 [==============================] - 17s 174ms/step - loss: 0.6934 - acc: 0.5017 - val_loss: 0.6929 - val_acc: 0.4700\n",
            "Epoch 11/30\n",
            "100/100 [==============================] - 17s 172ms/step - loss: 0.6934 - acc: 0.4921 - val_loss: 0.6879 - val_acc: 0.5450\n",
            "Epoch 12/30\n",
            "100/100 [==============================] - 18s 176ms/step - loss: 0.6931 - acc: 0.5157 - val_loss: 0.6919 - val_acc: 0.5550\n",
            "Epoch 13/30\n",
            "100/100 [==============================] - 17s 174ms/step - loss: 0.6975 - acc: 0.4954 - val_loss: 0.6929 - val_acc: 0.5050\n",
            "Epoch 14/30\n",
            "100/100 [==============================] - 18s 175ms/step - loss: 0.6932 - acc: 0.4698 - val_loss: 0.6920 - val_acc: 0.5000\n",
            "Epoch 15/30\n",
            "100/100 [==============================] - 17s 173ms/step - loss: 0.6925 - acc: 0.5194 - val_loss: 0.6931 - val_acc: 0.5250\n",
            "Epoch 16/30\n",
            "100/100 [==============================] - 17s 173ms/step - loss: 0.6932 - acc: 0.4981 - val_loss: 0.6916 - val_acc: 0.5400\n",
            "Epoch 17/30\n",
            "100/100 [==============================] - 17s 173ms/step - loss: 0.6934 - acc: 0.5066 - val_loss: 0.6939 - val_acc: 0.5150\n",
            "Epoch 18/30\n",
            "100/100 [==============================] - 17s 174ms/step - loss: 0.6931 - acc: 0.5079 - val_loss: 0.6949 - val_acc: 0.4950\n",
            "Epoch 19/30\n",
            "100/100 [==============================] - 17s 171ms/step - loss: 0.6949 - acc: 0.5026 - val_loss: 0.6797 - val_acc: 0.5000\n",
            "Epoch 20/30\n",
            "100/100 [==============================] - 17s 173ms/step - loss: 0.6893 - acc: 0.5136 - val_loss: 0.6912 - val_acc: 0.5300\n",
            "Epoch 21/30\n",
            "100/100 [==============================] - 17s 174ms/step - loss: 0.6909 - acc: 0.5185 - val_loss: 0.7876 - val_acc: 0.5550\n",
            "Epoch 22/30\n",
            "100/100 [==============================] - 17s 171ms/step - loss: 0.6820 - acc: 0.5500 - val_loss: 0.6933 - val_acc: 0.4200\n",
            "Epoch 23/30\n",
            "100/100 [==============================] - 17s 172ms/step - loss: 0.6930 - acc: 0.5119 - val_loss: 0.6928 - val_acc: 0.4750\n",
            "Epoch 24/30\n",
            "100/100 [==============================] - 17s 173ms/step - loss: 0.6930 - acc: 0.4819 - val_loss: 0.6927 - val_acc: 0.5400\n",
            "Epoch 25/30\n",
            "100/100 [==============================] - 23s 227ms/step - loss: 0.6901 - acc: 0.4931 - val_loss: 0.6827 - val_acc: 0.5450\n",
            "Epoch 26/30\n",
            "100/100 [==============================] - 17s 172ms/step - loss: 0.6836 - acc: 0.5411 - val_loss: 0.6934 - val_acc: 0.4700\n",
            "Epoch 27/30\n",
            "100/100 [==============================] - 18s 176ms/step - loss: 0.6923 - acc: 0.5068 - val_loss: 0.6931 - val_acc: 0.5100\n",
            "Epoch 28/30\n",
            "100/100 [==============================] - 17s 174ms/step - loss: 0.6911 - acc: 0.5386 - val_loss: 0.6835 - val_acc: 0.6000\n",
            "Epoch 29/30\n",
            "100/100 [==============================] - 17s 173ms/step - loss: 0.6857 - acc: 0.5471 - val_loss: 0.6925 - val_acc: 0.5150\n",
            "Epoch 30/30\n",
            "100/100 [==============================] - 17s 174ms/step - loss: 0.6904 - acc: 0.5178 - val_loss: 0.6795 - val_acc: 0.5950\n"
          ],
          "name": "stdout"
        }
      ]
    },
    {
      "cell_type": "code",
      "metadata": {
        "colab": {
          "base_uri": "https://localhost:8080/"
        },
        "id": "9FfnaV6VP2_E",
        "outputId": "12393e3b-fb86-46ce-f020-3febe2b7203e"
      },
      "source": [
        "import os\n",
        "os.environ['KAGGLE_USERNAME']=\"wzrziran\"\n",
        "os.environ['KAGGLE_KEY']=\"b4d101737c58f383daac0253b1852499\"\n",
        "!kaggle competitions download -c dogs-vs-cats"
      ],
      "execution_count": null,
      "outputs": [
        {
          "output_type": "stream",
          "text": [
            "Warning: Looks like you're using an outdated API Version, please consider updating (server 1.5.12 / client 1.5.4)\n",
            "Downloading sampleSubmission.csv to /content\n",
            "  0% 0.00/86.8k [00:00<?, ?B/s]\n",
            "100% 86.8k/86.8k [00:00<00:00, 28.0MB/s]\n",
            "Downloading train.zip to /content\n",
            " 97% 527M/543M [00:03<00:00, 172MB/s]\n",
            "100% 543M/543M [00:03<00:00, 176MB/s]\n",
            "Downloading test1.zip to /content\n",
            " 98% 265M/271M [00:02<00:00, 124MB/s]\n",
            "100% 271M/271M [00:02<00:00, 111MB/s]\n"
          ],
          "name": "stdout"
        }
      ]
    },
    {
      "cell_type": "code",
      "metadata": {
        "id": "5oy2MYPrxuMj"
      },
      "source": [
        "import cv2\n",
        "import os\n",
        "import tensorflow as tf\n",
        "import numpy as np\n",
        "from tensorflow.keras import Sequential\n",
        "from tensorflow.keras import layers\n",
        "from tensorflow.keras.layers import Conv2D,Dense,MaxPool2D\n",
        "from tensorflow.keras.layers import Flatten \n",
        "from sklearn.model_selection import train_test_split\n",
        "from tensorflow.keras.preprocessing.image import ImageDataGenerator"
      ],
      "execution_count": 6,
      "outputs": []
    },
    {
      "cell_type": "code",
      "metadata": {
        "colab": {
          "base_uri": "https://localhost:8080/"
        },
        "id": "7MPRPjAwP7LZ",
        "outputId": "ad937278-4525-4551-ca96-cfc11da960b3"
      },
      "source": [
        "#对数据进行解压\n",
        "from zipfile import ZipFile\n",
        "#对测试的数据进行解压操作\n",
        "file_train_name =\"/content/train.zip\" \n",
        "\n",
        "with ZipFile(file_train_name,'r') as zip:\n",
        "  zip.extractall()\n",
        "  print('done')\n"
      ],
      "execution_count": null,
      "outputs": [
        {
          "output_type": "stream",
          "text": [
            "done\n"
          ],
          "name": "stdout"
        }
      ]
    },
    {
      "cell_type": "code",
      "metadata": {
        "colab": {
          "base_uri": "https://localhost:8080/"
        },
        "id": "MNVRFAKTseim",
        "outputId": "b59d89a9-23c2-413c-c444-ff3ca408d04e"
      },
      "source": [
        "from zipfile import ZipFile\n",
        "#对测试的数据进行解压操作\n",
        "file_test_name =\"/content/test1.zip\" \n",
        "\n",
        "with ZipFile(file_test_name,'r') as zip:\n",
        "  zip.extractall()\n",
        "  print('done')"
      ],
      "execution_count": 3,
      "outputs": [
        {
          "output_type": "stream",
          "text": [
            "done\n"
          ],
          "name": "stdout"
        }
      ]
    },
    {
      "cell_type": "code",
      "metadata": {
        "colab": {
          "base_uri": "https://localhost:8080/"
        },
        "id": "rq6iVa-_9xKn",
        "outputId": "64b378b0-fc16-42b4-a5c0-548ca819e7de"
      },
      "source": [
        "#在这里我将使用只是用训练集，使用 9 1划分 \n",
        "oringinal_dataset_dir = \"/content/train\"\n",
        "print(len(os.listdir(oringinal_dataset_dir)))\n"
      ],
      "execution_count": 4,
      "outputs": [
        {
          "output_type": "stream",
          "text": [
            "25000\n"
          ],
          "name": "stdout"
        }
      ]
    },
    {
      "cell_type": "code",
      "metadata": {
        "id": "tjriqNZzE1Xy"
      },
      "source": [
        "\n",
        "data =[]\n",
        "for files in os.listdir(oringinal_dataset_dir):\n",
        "  image = cv2.resize(cv2.imread(os.path.join(oringinal_dataset_dir,files)),(100,100))\n",
        "  gray = cv2.cvtColor(image,cv2.COLOR_RGB2GRAY)\n",
        "  \n",
        "  label = files.split(\".\")[0]\n",
        "  if label==\"cat\":\n",
        "    data.append([np.array(gray),np.array([0,1])])\n",
        "  elif label ==\"dog\":\n",
        "    data.append([np.array(gray),np.array([1,0])])\n",
        " \n",
        "\n"
      ],
      "execution_count": 7,
      "outputs": []
    },
    {
      "cell_type": "code",
      "metadata": {
        "colab": {
          "base_uri": "https://localhost:8080/"
        },
        "id": "zVpp9PnFQprS",
        "outputId": "1f73711d-2fce-4083-ed96-2022d040f2a4"
      },
      "source": [
        "print( len(data))\n",
        "print(data[0:2])"
      ],
      "execution_count": 8,
      "outputs": [
        {
          "output_type": "stream",
          "text": [
            "25000\n",
            "[[array([[ 62,  62,  65, ..., 103, 103,  99],\n",
            "       [ 64,  64,  65, ..., 104, 105, 100],\n",
            "       [ 63,  63,  65, ..., 106, 102, 101],\n",
            "       ...,\n",
            "       [205, 202, 204, ...,  23,  18,  17],\n",
            "       [216, 200, 201, ...,  25,  16,  16],\n",
            "       [231, 193, 208, ...,  16,  17,  14]], dtype=uint8), array([0, 1])], [array([[148, 152, 146, ...,  62,  66,  61],\n",
            "       [151, 153, 150, ...,  65,  68,  65],\n",
            "       [160, 156, 153, ...,  63,  72,  61],\n",
            "       ...,\n",
            "       [129, 141, 130, ..., 130, 113, 122],\n",
            "       [136, 124, 142, ..., 123, 126, 130],\n",
            "       [128, 126, 139, ..., 130, 123, 128]], dtype=uint8), array([1, 0])]]\n"
          ],
          "name": "stdout"
        }
      ]
    },
    {
      "cell_type": "code",
      "metadata": {
        "colab": {
          "base_uri": "https://localhost:8080/"
        },
        "id": "qXUD_rNYWeKR",
        "outputId": "22bbf381-f647-4dad-99ee-d16e51f3d85c"
      },
      "source": [
        "train,test= train_test_split(data,test_size=0.1,shuffle=True)\n",
        "print(len(train))\n",
        "print(len(test))"
      ],
      "execution_count": 9,
      "outputs": [
        {
          "output_type": "stream",
          "text": [
            "22500\n",
            "2500\n"
          ],
          "name": "stdout"
        }
      ]
    },
    {
      "cell_type": "code",
      "metadata": {
        "id": "a9pKSEhwbJHH"
      },
      "source": [
        "#对数据进行处理\n",
        "X = np.array([i[0] for i in train]).reshape(-1,100,100,1)\n",
        "Y = np.array([i[1] for i in train])\n",
        "x_valid = np.array([i[0] for i in test]).reshape(-1,100,100,1)\n",
        "y_valid = np.array([i[1] for i in test]) "
      ],
      "execution_count": 10,
      "outputs": []
    },
    {
      "cell_type": "code",
      "metadata": {
        "colab": {
          "base_uri": "https://localhost:8080/"
        },
        "id": "4x7Rygvyhcei",
        "outputId": "8aa44dec-3ea9-4960-ab47-5b38579bc557"
      },
      "source": [
        "#对于x的类型进行检查\n",
        "\n",
        "print(type(X))\n",
        "X=X.astype('float32')/255\n",
        "x_valid =x_valid.astype('float32')/255 \n",
        "print (X.shape) \n",
        "print (Y.shape) \n",
        "print (x_valid.shape) \n",
        "print (y_valid.shape) "
      ],
      "execution_count": 11,
      "outputs": [
        {
          "output_type": "stream",
          "text": [
            "<class 'numpy.ndarray'>\n",
            "(22500, 100, 100, 1)\n",
            "(22500, 2)\n",
            "(2500, 100, 100, 1)\n",
            "(2500, 2)\n"
          ],
          "name": "stdout"
        }
      ]
    },
    {
      "cell_type": "code",
      "metadata": {
        "colab": {
          "base_uri": "https://localhost:8080/"
        },
        "id": "FnVNAZtpcYlQ",
        "outputId": "b4588228-aba1-43ee-b8c6-bad9f387a932"
      },
      "source": [
        "#定义模型 第一次训练的模型\n",
        "model = Sequential()\n",
        "model.add(layers.Conv2D(64,(3,3),activation='relu',input_shape=(100,100,1),padding=\"same\"))\n",
        "model.add(layers.MaxPooling2D((2,2)))\n",
        "model.add(layers.Conv2D(64,(3,3),activation=\"relu\"))\n",
        "model.add(layers.MaxPooling2D((2,2)))\n",
        "model.add(layers.Conv2D(128,(3,3),activation=\"relu\"))\n",
        "model.add(layers.MaxPooling2D((2,2)))\n",
        "model.add(layers.Conv2D(128,(3,3),activation=\"relu\"))\n",
        "model.add(layers.MaxPooling2D((2,2)))\n",
        "\n",
        "model.add(layers.Flatten())\n",
        "\n",
        "model.add(layers.Dense(512,activation=\"relu\"))\n",
        "model.add(layers.Dense(2,activation=\"softmax\"))\n",
        "model.summary()\n",
        "\n"
      ],
      "execution_count": null,
      "outputs": [
        {
          "output_type": "stream",
          "text": [
            "Model: \"sequential_2\"\n",
            "_________________________________________________________________\n",
            "Layer (type)                 Output Shape              Param #   \n",
            "=================================================================\n",
            "conv2d_8 (Conv2D)            (None, 100, 100, 64)      640       \n",
            "_________________________________________________________________\n",
            "max_pooling2d_8 (MaxPooling2 (None, 50, 50, 64)        0         \n",
            "_________________________________________________________________\n",
            "conv2d_9 (Conv2D)            (None, 48, 48, 64)        36928     \n",
            "_________________________________________________________________\n",
            "max_pooling2d_9 (MaxPooling2 (None, 24, 24, 64)        0         \n",
            "_________________________________________________________________\n",
            "conv2d_10 (Conv2D)           (None, 22, 22, 128)       73856     \n",
            "_________________________________________________________________\n",
            "max_pooling2d_10 (MaxPooling (None, 11, 11, 128)       0         \n",
            "_________________________________________________________________\n",
            "conv2d_11 (Conv2D)           (None, 9, 9, 128)         147584    \n",
            "_________________________________________________________________\n",
            "max_pooling2d_11 (MaxPooling (None, 4, 4, 128)         0         \n",
            "_________________________________________________________________\n",
            "flatten_2 (Flatten)          (None, 2048)              0         \n",
            "_________________________________________________________________\n",
            "dense_5 (Dense)              (None, 512)               1049088   \n",
            "_________________________________________________________________\n",
            "dense_6 (Dense)              (None, 2)                 1026      \n",
            "=================================================================\n",
            "Total params: 1,309,122\n",
            "Trainable params: 1,309,122\n",
            "Non-trainable params: 0\n",
            "_________________________________________________________________\n"
          ],
          "name": "stdout"
        }
      ]
    },
    {
      "cell_type": "markdown",
      "metadata": {
        "id": "Fal48YHNfKMf"
      },
      "source": [
        ""
      ]
    },
    {
      "cell_type": "code",
      "metadata": {
        "colab": {
          "base_uri": "https://localhost:8080/"
        },
        "id": "DbWy39-Feyk3",
        "outputId": "1efc8089-063a-4c01-b941-012ad4e92459"
      },
      "source": [
        "opt = tf.keras.optimizers.Adam(learning_rate=0.001)\n",
        "model.compile(loss=\"categorical_crossentropy\",\n",
        "      optimizer=opt,\n",
        "      metrics=['acc'])\n",
        "history=model.fit(X,Y,batch_size=100,epochs=20,validation_data=(x_valid,y_valid),verbose=1)\n"
      ],
      "execution_count": null,
      "outputs": [
        {
          "output_type": "stream",
          "text": [
            "Epoch 1/20\n",
            "225/225 [==============================] - 12s 52ms/step - loss: 0.6805 - acc: 0.5540 - val_loss: 0.6646 - val_acc: 0.5992\n",
            "Epoch 2/20\n",
            "225/225 [==============================] - 12s 51ms/step - loss: 0.5845 - acc: 0.6859 - val_loss: 0.5182 - val_acc: 0.7420\n",
            "Epoch 3/20\n",
            "225/225 [==============================] - 12s 52ms/step - loss: 0.4658 - acc: 0.7774 - val_loss: 0.4337 - val_acc: 0.8032\n",
            "Epoch 4/20\n",
            "225/225 [==============================] - 12s 51ms/step - loss: 0.3960 - acc: 0.8188 - val_loss: 0.4156 - val_acc: 0.8056\n",
            "Epoch 5/20\n",
            "225/225 [==============================] - 12s 51ms/step - loss: 0.3382 - acc: 0.8491 - val_loss: 0.3647 - val_acc: 0.8392\n",
            "Epoch 6/20\n",
            "225/225 [==============================] - 11s 51ms/step - loss: 0.2974 - acc: 0.8697 - val_loss: 0.3323 - val_acc: 0.8516\n",
            "Epoch 7/20\n",
            "225/225 [==============================] - 11s 51ms/step - loss: 0.2563 - acc: 0.8902 - val_loss: 0.3788 - val_acc: 0.8424\n",
            "Epoch 8/20\n",
            "225/225 [==============================] - 12s 51ms/step - loss: 0.2241 - acc: 0.9060 - val_loss: 0.3049 - val_acc: 0.8748\n",
            "Epoch 9/20\n",
            "225/225 [==============================] - 11s 51ms/step - loss: 0.1847 - acc: 0.9239 - val_loss: 0.3117 - val_acc: 0.8700\n",
            "Epoch 10/20\n",
            "225/225 [==============================] - 11s 51ms/step - loss: 0.1551 - acc: 0.9360 - val_loss: 0.3167 - val_acc: 0.8764\n",
            "Epoch 11/20\n",
            "225/225 [==============================] - 12s 51ms/step - loss: 0.1249 - acc: 0.9502 - val_loss: 0.3245 - val_acc: 0.8816\n",
            "Epoch 12/20\n",
            "225/225 [==============================] - 11s 51ms/step - loss: 0.0985 - acc: 0.9623 - val_loss: 0.3768 - val_acc: 0.8668\n",
            "Epoch 13/20\n",
            "225/225 [==============================] - 11s 51ms/step - loss: 0.0784 - acc: 0.9692 - val_loss: 0.4607 - val_acc: 0.8600\n",
            "Epoch 14/20\n",
            "225/225 [==============================] - 12s 51ms/step - loss: 0.0648 - acc: 0.9757 - val_loss: 0.4434 - val_acc: 0.8720\n",
            "Epoch 15/20\n",
            "225/225 [==============================] - 12s 51ms/step - loss: 0.0461 - acc: 0.9838 - val_loss: 0.5190 - val_acc: 0.8748\n",
            "Epoch 16/20\n",
            "225/225 [==============================] - 12s 51ms/step - loss: 0.0417 - acc: 0.9851 - val_loss: 0.5462 - val_acc: 0.8740\n",
            "Epoch 17/20\n",
            "225/225 [==============================] - 12s 51ms/step - loss: 0.0304 - acc: 0.9888 - val_loss: 0.5757 - val_acc: 0.8800\n",
            "Epoch 18/20\n",
            "225/225 [==============================] - 11s 51ms/step - loss: 0.0418 - acc: 0.9852 - val_loss: 0.5481 - val_acc: 0.8804\n",
            "Epoch 19/20\n",
            "225/225 [==============================] - 11s 51ms/step - loss: 0.0291 - acc: 0.9893 - val_loss: 0.6562 - val_acc: 0.8636\n",
            "Epoch 20/20\n",
            "225/225 [==============================] - 12s 52ms/step - loss: 0.0300 - acc: 0.9896 - val_loss: 0.6359 - val_acc: 0.8648\n"
          ],
          "name": "stdout"
        }
      ]
    },
    {
      "cell_type": "code",
      "metadata": {
        "colab": {
          "base_uri": "https://localhost:8080/",
          "height": 1000
        },
        "id": "BVyq0XZ2sJ32",
        "outputId": "fc9c5f48-ce80-41ff-a971-e58cd53a12b4"
      },
      "source": [
        "model.save('cats_and_dogs_cnn_noDropout.h5')\n",
        "\n",
        "import matplotlib.pyplot as plt\n",
        "\n",
        "accuracy = history.history['acc']\n",
        "validation_acuracy = history.history['val_acc']\n",
        "loss = history.history['loss']\n",
        "validation_loss = history.history['val_loss']\n",
        "\n",
        "#epochs = range(1, len(accuracy) + 1)\n",
        "plt.figure()\n",
        "plt.plot(loss,label=\"loss\")\n",
        "plt.plot(validation_loss,label='validation_loss')\n",
        "plt.title('训练与验证的损失函数对比图')\n",
        " \n",
        "plt.figure()\n",
        "plt.plot( accuracy, 'bo', label='train_accuracy')\n",
        "plt.plot( validation_acuracy, 'b', label='validation_acuracy')\n"
      ],
      "execution_count": null,
      "outputs": [
        {
          "output_type": "execute_result",
          "data": {
            "text/plain": [
              "[<matplotlib.lines.Line2D at 0x7efc2a26f4d0>]"
            ]
          },
          "metadata": {
            "tags": []
          },
          "execution_count": 24
        },
        {
          "output_type": "stream",
          "text": [
            "/usr/local/lib/python3.7/dist-packages/matplotlib/backends/backend_agg.py:214: RuntimeWarning: Glyph 35757 missing from current font.\n",
            "  font.set_text(s, 0.0, flags=flags)\n",
            "/usr/local/lib/python3.7/dist-packages/matplotlib/backends/backend_agg.py:214: RuntimeWarning: Glyph 32451 missing from current font.\n",
            "  font.set_text(s, 0.0, flags=flags)\n",
            "/usr/local/lib/python3.7/dist-packages/matplotlib/backends/backend_agg.py:214: RuntimeWarning: Glyph 19982 missing from current font.\n",
            "  font.set_text(s, 0.0, flags=flags)\n",
            "/usr/local/lib/python3.7/dist-packages/matplotlib/backends/backend_agg.py:214: RuntimeWarning: Glyph 39564 missing from current font.\n",
            "  font.set_text(s, 0.0, flags=flags)\n",
            "/usr/local/lib/python3.7/dist-packages/matplotlib/backends/backend_agg.py:214: RuntimeWarning: Glyph 35777 missing from current font.\n",
            "  font.set_text(s, 0.0, flags=flags)\n",
            "/usr/local/lib/python3.7/dist-packages/matplotlib/backends/backend_agg.py:214: RuntimeWarning: Glyph 30340 missing from current font.\n",
            "  font.set_text(s, 0.0, flags=flags)\n",
            "/usr/local/lib/python3.7/dist-packages/matplotlib/backends/backend_agg.py:214: RuntimeWarning: Glyph 25439 missing from current font.\n",
            "  font.set_text(s, 0.0, flags=flags)\n",
            "/usr/local/lib/python3.7/dist-packages/matplotlib/backends/backend_agg.py:214: RuntimeWarning: Glyph 22833 missing from current font.\n",
            "  font.set_text(s, 0.0, flags=flags)\n",
            "/usr/local/lib/python3.7/dist-packages/matplotlib/backends/backend_agg.py:214: RuntimeWarning: Glyph 20989 missing from current font.\n",
            "  font.set_text(s, 0.0, flags=flags)\n",
            "/usr/local/lib/python3.7/dist-packages/matplotlib/backends/backend_agg.py:214: RuntimeWarning: Glyph 25968 missing from current font.\n",
            "  font.set_text(s, 0.0, flags=flags)\n",
            "/usr/local/lib/python3.7/dist-packages/matplotlib/backends/backend_agg.py:214: RuntimeWarning: Glyph 23545 missing from current font.\n",
            "  font.set_text(s, 0.0, flags=flags)\n",
            "/usr/local/lib/python3.7/dist-packages/matplotlib/backends/backend_agg.py:214: RuntimeWarning: Glyph 27604 missing from current font.\n",
            "  font.set_text(s, 0.0, flags=flags)\n",
            "/usr/local/lib/python3.7/dist-packages/matplotlib/backends/backend_agg.py:214: RuntimeWarning: Glyph 22270 missing from current font.\n",
            "  font.set_text(s, 0.0, flags=flags)\n",
            "/usr/local/lib/python3.7/dist-packages/matplotlib/backends/backend_agg.py:183: RuntimeWarning: Glyph 35757 missing from current font.\n",
            "  font.set_text(s, 0, flags=flags)\n",
            "/usr/local/lib/python3.7/dist-packages/matplotlib/backends/backend_agg.py:183: RuntimeWarning: Glyph 32451 missing from current font.\n",
            "  font.set_text(s, 0, flags=flags)\n",
            "/usr/local/lib/python3.7/dist-packages/matplotlib/backends/backend_agg.py:183: RuntimeWarning: Glyph 19982 missing from current font.\n",
            "  font.set_text(s, 0, flags=flags)\n",
            "/usr/local/lib/python3.7/dist-packages/matplotlib/backends/backend_agg.py:183: RuntimeWarning: Glyph 39564 missing from current font.\n",
            "  font.set_text(s, 0, flags=flags)\n",
            "/usr/local/lib/python3.7/dist-packages/matplotlib/backends/backend_agg.py:183: RuntimeWarning: Glyph 35777 missing from current font.\n",
            "  font.set_text(s, 0, flags=flags)\n",
            "/usr/local/lib/python3.7/dist-packages/matplotlib/backends/backend_agg.py:183: RuntimeWarning: Glyph 30340 missing from current font.\n",
            "  font.set_text(s, 0, flags=flags)\n",
            "/usr/local/lib/python3.7/dist-packages/matplotlib/backends/backend_agg.py:183: RuntimeWarning: Glyph 25439 missing from current font.\n",
            "  font.set_text(s, 0, flags=flags)\n",
            "/usr/local/lib/python3.7/dist-packages/matplotlib/backends/backend_agg.py:183: RuntimeWarning: Glyph 22833 missing from current font.\n",
            "  font.set_text(s, 0, flags=flags)\n",
            "/usr/local/lib/python3.7/dist-packages/matplotlib/backends/backend_agg.py:183: RuntimeWarning: Glyph 20989 missing from current font.\n",
            "  font.set_text(s, 0, flags=flags)\n",
            "/usr/local/lib/python3.7/dist-packages/matplotlib/backends/backend_agg.py:183: RuntimeWarning: Glyph 25968 missing from current font.\n",
            "  font.set_text(s, 0, flags=flags)\n",
            "/usr/local/lib/python3.7/dist-packages/matplotlib/backends/backend_agg.py:183: RuntimeWarning: Glyph 23545 missing from current font.\n",
            "  font.set_text(s, 0, flags=flags)\n",
            "/usr/local/lib/python3.7/dist-packages/matplotlib/backends/backend_agg.py:183: RuntimeWarning: Glyph 27604 missing from current font.\n",
            "  font.set_text(s, 0, flags=flags)\n",
            "/usr/local/lib/python3.7/dist-packages/matplotlib/backends/backend_agg.py:183: RuntimeWarning: Glyph 22270 missing from current font.\n",
            "  font.set_text(s, 0, flags=flags)\n"
          ],
          "name": "stderr"
        },
        {
          "output_type": "display_data",
          "data": {
            "image/png": "[encoded data removed]",
            "text/plain": [
              "<Figure size 432x288 with 1 Axes>"
            ]
          },
          "metadata": {
            "tags": []
          }
        },
        {
          "output_type": "display_data",
          "data": {
            "image/png": "[encoded data removed]",
            "text/plain": [
              "<Figure size 432x288 with 1 Axes>"
            ]
          },
          "metadata": {
            "tags": []
          }
        }
      ]
    },
    {
      "cell_type": "code",
      "metadata": {
        "colab": {
          "base_uri": "https://localhost:8080/"
        },
        "id": "PExUzMk3y_i7",
        "outputId": "ac326f24-ef66-47a0-e464-ad4fa6605b75"
      },
      "source": [
        "#定义模型 \n",
        "#使用Dropout 来避免出现过拟合的状态第一次训练的模型 \n",
        "#感觉训练的批次多一点的话可能还能再上1-2各百分点\n",
        "#预测大概还是存留在0.9左右\n",
        "model = Sequential()\n",
        "model.add(layers.Conv2D(64,(3,3),activation='relu',input_shape=(100,100,1),padding=\"same\"))\n",
        "model.add(layers.MaxPooling2D((2,2)))\n",
        "model.add(layers.Conv2D(64,(3,3),activation=\"relu\"))\n",
        "model.add(layers.MaxPooling2D((2,2)))\n",
        "model.add(layers.Conv2D(128,(3,3),activation=\"relu\"))\n",
        "model.add(layers.MaxPooling2D((2,2)))\n",
        "model.add(layers.Conv2D(128,(3,3),activation=\"relu\"))\n",
        "model.add(layers.MaxPooling2D((2,2)))\n",
        "\n",
        "model.add(layers.Flatten())\n",
        "model.add(layers.Dropout(0.4))\n",
        "model.add(layers.Dense(512,activation=\"relu\"))\n",
        "model.add(layers.Dense(2,activation=\"softmax\"))\n",
        "model.summary()\n",
        "opt = tf.keras.optimizers.Adam(learning_rate=0.001)\n",
        "model.compile(loss=\"categorical_crossentropy\",\n",
        "      optimizer=opt,\n",
        "      metrics=['acc'])\n",
        "history=model.fit(X,Y,batch_size=100,epochs=20,validation_data=(x_valid,y_valid),verbose=1)"
      ],
      "execution_count": null,
      "outputs": [
        {
          "output_type": "stream",
          "text": [
            "Model: \"sequential_3\"\n",
            "_________________________________________________________________\n",
            "Layer (type)                 Output Shape              Param #   \n",
            "=================================================================\n",
            "conv2d_12 (Conv2D)           (None, 100, 100, 64)      640       \n",
            "_________________________________________________________________\n",
            "max_pooling2d_12 (MaxPooling (None, 50, 50, 64)        0         \n",
            "_________________________________________________________________\n",
            "conv2d_13 (Conv2D)           (None, 48, 48, 64)        36928     \n",
            "_________________________________________________________________\n",
            "max_pooling2d_13 (MaxPooling (None, 24, 24, 64)        0         \n",
            "_________________________________________________________________\n",
            "conv2d_14 (Conv2D)           (None, 22, 22, 128)       73856     \n",
            "_________________________________________________________________\n",
            "max_pooling2d_14 (MaxPooling (None, 11, 11, 128)       0         \n",
            "_________________________________________________________________\n",
            "conv2d_15 (Conv2D)           (None, 9, 9, 128)         147584    \n",
            "_________________________________________________________________\n",
            "max_pooling2d_15 (MaxPooling (None, 4, 4, 128)         0         \n",
            "_________________________________________________________________\n",
            "flatten_3 (Flatten)          (None, 2048)              0         \n",
            "_________________________________________________________________\n",
            "dropout_2 (Dropout)          (None, 2048)              0         \n",
            "_________________________________________________________________\n",
            "dense_7 (Dense)              (None, 512)               1049088   \n",
            "_________________________________________________________________\n",
            "dense_8 (Dense)              (None, 2)                 1026      \n",
            "=================================================================\n",
            "Total params: 1,309,122\n",
            "Trainable params: 1,309,122\n",
            "Non-trainable params: 0\n",
            "_________________________________________________________________\n",
            "Epoch 1/20\n",
            "225/225 [==============================] - 12s 52ms/step - loss: 0.6589 - acc: 0.6021 - val_loss: 0.6070 - val_acc: 0.6840\n",
            "Epoch 2/20\n",
            "225/225 [==============================] - 12s 51ms/step - loss: 0.5351 - acc: 0.7300 - val_loss: 0.4635 - val_acc: 0.7672\n",
            "Epoch 3/20\n",
            "225/225 [==============================] - 12s 51ms/step - loss: 0.4419 - acc: 0.7930 - val_loss: 0.3572 - val_acc: 0.8388\n",
            "Epoch 4/20\n",
            "225/225 [==============================] - 11s 51ms/step - loss: 0.3699 - acc: 0.8310 - val_loss: 0.3254 - val_acc: 0.8560\n",
            "Epoch 5/20\n",
            "225/225 [==============================] - 11s 51ms/step - loss: 0.3233 - acc: 0.8575 - val_loss: 0.3173 - val_acc: 0.8612\n",
            "Epoch 6/20\n",
            "225/225 [==============================] - 11s 51ms/step - loss: 0.2832 - acc: 0.8776 - val_loss: 0.2803 - val_acc: 0.8788\n",
            "Epoch 7/20\n",
            "225/225 [==============================] - 12s 51ms/step - loss: 0.2467 - acc: 0.8962 - val_loss: 0.3059 - val_acc: 0.8660\n",
            "Epoch 8/20\n",
            "225/225 [==============================] - 11s 51ms/step - loss: 0.2208 - acc: 0.9084 - val_loss: 0.2488 - val_acc: 0.8956\n",
            "Epoch 9/20\n",
            "225/225 [==============================] - 12s 51ms/step - loss: 0.2018 - acc: 0.9144 - val_loss: 0.2760 - val_acc: 0.8776\n",
            "Epoch 10/20\n",
            "225/225 [==============================] - 12s 52ms/step - loss: 0.1852 - acc: 0.9229 - val_loss: 0.2465 - val_acc: 0.8972\n",
            "Epoch 11/20\n",
            "225/225 [==============================] - 12s 51ms/step - loss: 0.1682 - acc: 0.9307 - val_loss: 0.2836 - val_acc: 0.8912\n",
            "Epoch 12/20\n",
            "225/225 [==============================] - 12s 51ms/step - loss: 0.1496 - acc: 0.9393 - val_loss: 0.2589 - val_acc: 0.8980\n",
            "Epoch 13/20\n",
            "225/225 [==============================] - 12s 51ms/step - loss: 0.1314 - acc: 0.9446 - val_loss: 0.2664 - val_acc: 0.8976\n",
            "Epoch 14/20\n",
            "225/225 [==============================] - 11s 51ms/step - loss: 0.1185 - acc: 0.9517 - val_loss: 0.2562 - val_acc: 0.9040\n",
            "Epoch 15/20\n",
            "225/225 [==============================] - 12s 51ms/step - loss: 0.1066 - acc: 0.9583 - val_loss: 0.2734 - val_acc: 0.8908\n",
            "Epoch 16/20\n",
            "225/225 [==============================] - 11s 51ms/step - loss: 0.0997 - acc: 0.9604 - val_loss: 0.2906 - val_acc: 0.8948\n",
            "Epoch 17/20\n",
            "225/225 [==============================] - 12s 51ms/step - loss: 0.0843 - acc: 0.9655 - val_loss: 0.2816 - val_acc: 0.9080\n",
            "Epoch 18/20\n",
            "225/225 [==============================] - 11s 51ms/step - loss: 0.0803 - acc: 0.9686 - val_loss: 0.3200 - val_acc: 0.9044\n",
            "Epoch 19/20\n",
            "225/225 [==============================] - 11s 51ms/step - loss: 0.0747 - acc: 0.9716 - val_loss: 0.3165 - val_acc: 0.8980\n",
            "Epoch 20/20\n",
            "225/225 [==============================] - 11s 51ms/step - loss: 0.0725 - acc: 0.9716 - val_loss: 0.3342 - val_acc: 0.8912\n"
          ],
          "name": "stdout"
        }
      ]
    },
    {
      "cell_type": "code",
      "metadata": {
        "colab": {
          "base_uri": "https://localhost:8080/",
          "height": 1000
        },
        "id": "50Y5YVWn0S6P",
        "outputId": "9bf08224-cb7b-4ddb-f947-0fbc82474955"
      },
      "source": [
        "model.save('cats_and_dogs_cnn_useDropout.h5')\n",
        "\n",
        "import matplotlib.pyplot as plt\n",
        "\n",
        "accuracy = history.history['acc']\n",
        "validation_acuracy = history.history['val_acc']\n",
        "loss = history.history['loss']\n",
        "validation_loss = history.history['val_loss']\n",
        "\n",
        "#epochs = range(1, len(accuracy) + 1)\n",
        "plt.figure()\n",
        "plt.plot(loss,label=\"loss\")\n",
        "plt.plot(validation_loss,label='validation_loss')\n",
        "plt.title('训练与验证的损失函数对比图')\n",
        " \n",
        "plt.figure()\n",
        "plt.plot( accuracy, 'bo', label='train_accuracy')\n",
        "plt.plot( validation_acuracy, 'b', label='validation_acuracy')\n"
      ],
      "execution_count": null,
      "outputs": [
        {
          "output_type": "execute_result",
          "data": {
            "text/plain": [
              "[<matplotlib.lines.Line2D at 0x7efba179e290>]"
            ]
          },
          "metadata": {
            "tags": []
          },
          "execution_count": 26
        },
        {
          "output_type": "stream",
          "text": [
            "/usr/local/lib/python3.7/dist-packages/matplotlib/backends/backend_agg.py:214: RuntimeWarning: Glyph 35757 missing from current font.\n",
            "  font.set_text(s, 0.0, flags=flags)\n",
            "/usr/local/lib/python3.7/dist-packages/matplotlib/backends/backend_agg.py:214: RuntimeWarning: Glyph 32451 missing from current font.\n",
            "  font.set_text(s, 0.0, flags=flags)\n",
            "/usr/local/lib/python3.7/dist-packages/matplotlib/backends/backend_agg.py:214: RuntimeWarning: Glyph 19982 missing from current font.\n",
            "  font.set_text(s, 0.0, flags=flags)\n",
            "/usr/local/lib/python3.7/dist-packages/matplotlib/backends/backend_agg.py:214: RuntimeWarning: Glyph 39564 missing from current font.\n",
            "  font.set_text(s, 0.0, flags=flags)\n",
            "/usr/local/lib/python3.7/dist-packages/matplotlib/backends/backend_agg.py:214: RuntimeWarning: Glyph 35777 missing from current font.\n",
            "  font.set_text(s, 0.0, flags=flags)\n",
            "/usr/local/lib/python3.7/dist-packages/matplotlib/backends/backend_agg.py:214: RuntimeWarning: Glyph 30340 missing from current font.\n",
            "  font.set_text(s, 0.0, flags=flags)\n",
            "/usr/local/lib/python3.7/dist-packages/matplotlib/backends/backend_agg.py:214: RuntimeWarning: Glyph 25439 missing from current font.\n",
            "  font.set_text(s, 0.0, flags=flags)\n",
            "/usr/local/lib/python3.7/dist-packages/matplotlib/backends/backend_agg.py:214: RuntimeWarning: Glyph 22833 missing from current font.\n",
            "  font.set_text(s, 0.0, flags=flags)\n",
            "/usr/local/lib/python3.7/dist-packages/matplotlib/backends/backend_agg.py:214: RuntimeWarning: Glyph 20989 missing from current font.\n",
            "  font.set_text(s, 0.0, flags=flags)\n",
            "/usr/local/lib/python3.7/dist-packages/matplotlib/backends/backend_agg.py:214: RuntimeWarning: Glyph 25968 missing from current font.\n",
            "  font.set_text(s, 0.0, flags=flags)\n",
            "/usr/local/lib/python3.7/dist-packages/matplotlib/backends/backend_agg.py:214: RuntimeWarning: Glyph 23545 missing from current font.\n",
            "  font.set_text(s, 0.0, flags=flags)\n",
            "/usr/local/lib/python3.7/dist-packages/matplotlib/backends/backend_agg.py:214: RuntimeWarning: Glyph 27604 missing from current font.\n",
            "  font.set_text(s, 0.0, flags=flags)\n",
            "/usr/local/lib/python3.7/dist-packages/matplotlib/backends/backend_agg.py:214: RuntimeWarning: Glyph 22270 missing from current font.\n",
            "  font.set_text(s, 0.0, flags=flags)\n",
            "/usr/local/lib/python3.7/dist-packages/matplotlib/backends/backend_agg.py:183: RuntimeWarning: Glyph 35757 missing from current font.\n",
            "  font.set_text(s, 0, flags=flags)\n",
            "/usr/local/lib/python3.7/dist-packages/matplotlib/backends/backend_agg.py:183: RuntimeWarning: Glyph 32451 missing from current font.\n",
            "  font.set_text(s, 0, flags=flags)\n",
            "/usr/local/lib/python3.7/dist-packages/matplotlib/backends/backend_agg.py:183: RuntimeWarning: Glyph 19982 missing from current font.\n",
            "  font.set_text(s, 0, flags=flags)\n",
            "/usr/local/lib/python3.7/dist-packages/matplotlib/backends/backend_agg.py:183: RuntimeWarning: Glyph 39564 missing from current font.\n",
            "  font.set_text(s, 0, flags=flags)\n",
            "/usr/local/lib/python3.7/dist-packages/matplotlib/backends/backend_agg.py:183: RuntimeWarning: Glyph 35777 missing from current font.\n",
            "  font.set_text(s, 0, flags=flags)\n",
            "/usr/local/lib/python3.7/dist-packages/matplotlib/backends/backend_agg.py:183: RuntimeWarning: Glyph 30340 missing from current font.\n",
            "  font.set_text(s, 0, flags=flags)\n",
            "/usr/local/lib/python3.7/dist-packages/matplotlib/backends/backend_agg.py:183: RuntimeWarning: Glyph 25439 missing from current font.\n",
            "  font.set_text(s, 0, flags=flags)\n",
            "/usr/local/lib/python3.7/dist-packages/matplotlib/backends/backend_agg.py:183: RuntimeWarning: Glyph 22833 missing from current font.\n",
            "  font.set_text(s, 0, flags=flags)\n",
            "/usr/local/lib/python3.7/dist-packages/matplotlib/backends/backend_agg.py:183: RuntimeWarning: Glyph 20989 missing from current font.\n",
            "  font.set_text(s, 0, flags=flags)\n",
            "/usr/local/lib/python3.7/dist-packages/matplotlib/backends/backend_agg.py:183: RuntimeWarning: Glyph 25968 missing from current font.\n",
            "  font.set_text(s, 0, flags=flags)\n",
            "/usr/local/lib/python3.7/dist-packages/matplotlib/backends/backend_agg.py:183: RuntimeWarning: Glyph 23545 missing from current font.\n",
            "  font.set_text(s, 0, flags=flags)\n",
            "/usr/local/lib/python3.7/dist-packages/matplotlib/backends/backend_agg.py:183: RuntimeWarning: Glyph 27604 missing from current font.\n",
            "  font.set_text(s, 0, flags=flags)\n",
            "/usr/local/lib/python3.7/dist-packages/matplotlib/backends/backend_agg.py:183: RuntimeWarning: Glyph 22270 missing from current font.\n",
            "  font.set_text(s, 0, flags=flags)\n"
          ],
          "name": "stderr"
        },
        {
          "output_type": "display_data",
          "data": {
            "image/png": "[encoded data removed]",
            "text/plain": [
              "<Figure size 432x288 with 1 Axes>"
            ]
          },
          "metadata": {
            "tags": []
          }
        },
        {
          "output_type": "display_data",
          "data": {
            "image/png": "[encoded data removed]",
            "text/plain": [
              "<Figure size 432x288 with 1 Axes>"
            ]
          },
          "metadata": {
            "tags": []
          }
        }
      ]
    },
    {
      "cell_type": "code",
      "metadata": {
        "id": "7ZfY_Onx2FQ7"
      },
      "source": [
        "#定义模型 \n",
        "#第三步 可能需要对数据进行增强，这个时候需要对数据处理部分的代码进行重构\n",
        "\n",
        "model = Sequential()\n",
        "model.add(layers.Conv2D(64,(3,3),activation='relu',input_shape=(100,100,1),padding=\"same\"))\n",
        "model.add(layers.MaxPooling2D((2,2)))\n",
        "model.add(layers.Conv2D(64,(3,3),activation=\"relu\"))\n",
        "model.add(layers.MaxPooling2D((2,2)))\n",
        "model.add(layers.Conv2D(128,(3,3),activation=\"relu\"))\n",
        "model.add(layers.MaxPooling2D((2,2)))\n",
        "model.add(layers.Conv2D(128,(3,3),activation=\"relu\"))\n",
        "model.add(layers.MaxPooling2D((2,2)))\n",
        "\n",
        "model.add(layers.Flatten())\n",
        "model.add(layers.Dropout(0.4))\n",
        "model.add(layers.Dense(512,activation=\"relu\"))\n",
        "model.add(layers.Dense(2,activation=\"softmax\"))\n",
        "model.summary()\n",
        "opt = tf.keras.optimizers.Adam(learning_rate=0.001)\n",
        "model.compile(loss=\"categorical_crossentropy\",\n",
        "      optimizer=opt,\n",
        "      metrics=['acc'])\n",
        "history=model.fit(X,Y,batch_size=100,epochs=20,validation_data=(x_valid,y_valid),verbose=1)\n"
      ],
      "execution_count": null,
      "outputs": []
    },
    {
      "cell_type": "code",
      "metadata": {
        "colab": {
          "base_uri": "https://localhost:8080/",
          "height": 256
        },
        "id": "FvhAvEm-FUco",
        "outputId": "57729740-aa8f-435c-8943-52e3911bacbb"
      },
      "source": [
        "\n",
        "from keras.preprocessing.image import ImageDataGenerator\n",
        "import os\n",
        " \n",
        "oringinal_dataset_dir = \"/content/train\"\n",
        "print(len(os.listdir(oringinal_dataset_dir)))\n",
        "data =[]\n",
        "\n",
        "for files in os.listdir(oringinal_dataset_dir):\n",
        "  image = cv2.resize(cv2.imread(os.path.join(oringinal_dataset_dir,files)),(100,100))\n",
        "  gray = cv2.cvtColor(image,cv2.COLOR_RGB2GRAY)\n",
        "  label = files.split(\".\")[0]\n",
        "  if label==\"cat\":\n",
        "    data.append([np.array(gray),np.array([0,1])])\n",
        "  elif label ==\"dog\":\n",
        "    data.append([np.array(gray),np.array([1,0])])\n",
        "\n",
        "\n",
        " \n"
      ],
      "execution_count": null,
      "outputs": [
        {
          "output_type": "stream",
          "text": [
            "25001\n"
          ],
          "name": "stdout"
        },
        {
          "output_type": "error",
          "ename": "error",
          "evalue": "ignored",
          "traceback": [
            "\u001b[0;31m---------------------------------------------------------------------------\u001b[0m",
            "\u001b[0;31merror\u001b[0m                                     Traceback (most recent call last)",
            "\u001b[0;32m<ipython-input-22-5a0fcbb2f7db>\u001b[0m in \u001b[0;36m<module>\u001b[0;34m()\u001b[0m\n\u001b[1;32m      8\u001b[0m \u001b[0;34m\u001b[0m\u001b[0m\n\u001b[1;32m      9\u001b[0m \u001b[0;32mfor\u001b[0m \u001b[0mfiles\u001b[0m \u001b[0;32min\u001b[0m \u001b[0mos\u001b[0m\u001b[0;34m.\u001b[0m\u001b[0mlistdir\u001b[0m\u001b[0;34m(\u001b[0m\u001b[0moringinal_dataset_dir\u001b[0m\u001b[0;34m)\u001b[0m\u001b[0;34m:\u001b[0m\u001b[0;34m\u001b[0m\u001b[0;34m\u001b[0m\u001b[0m\n\u001b[0;32m---> 10\u001b[0;31m   \u001b[0mimage\u001b[0m \u001b[0;34m=\u001b[0m \u001b[0mcv2\u001b[0m\u001b[0;34m.\u001b[0m\u001b[0mresize\u001b[0m\u001b[0;34m(\u001b[0m\u001b[0mcv2\u001b[0m\u001b[0;34m.\u001b[0m\u001b[0mimread\u001b[0m\u001b[0;34m(\u001b[0m\u001b[0mos\u001b[0m\u001b[0;34m.\u001b[0m\u001b[0mpath\u001b[0m\u001b[0;34m.\u001b[0m\u001b[0mjoin\u001b[0m\u001b[0;34m(\u001b[0m\u001b[0moringinal_dataset_dir\u001b[0m\u001b[0;34m,\u001b[0m\u001b[0mfiles\u001b[0m\u001b[0;34m)\u001b[0m\u001b[0;34m)\u001b[0m\u001b[0;34m,\u001b[0m\u001b[0;34m(\u001b[0m\u001b[0;36m100\u001b[0m\u001b[0;34m,\u001b[0m\u001b[0;36m100\u001b[0m\u001b[0;34m)\u001b[0m\u001b[0;34m)\u001b[0m\u001b[0;34m\u001b[0m\u001b[0;34m\u001b[0m\u001b[0m\n\u001b[0m\u001b[1;32m     11\u001b[0m   \u001b[0mgray\u001b[0m \u001b[0;34m=\u001b[0m \u001b[0mcv2\u001b[0m\u001b[0;34m.\u001b[0m\u001b[0mcvtColor\u001b[0m\u001b[0;34m(\u001b[0m\u001b[0mimage\u001b[0m\u001b[0;34m,\u001b[0m\u001b[0mcv2\u001b[0m\u001b[0;34m.\u001b[0m\u001b[0mCOLOR_RGB2GRAY\u001b[0m\u001b[0;34m)\u001b[0m\u001b[0;34m\u001b[0m\u001b[0;34m\u001b[0m\u001b[0m\n\u001b[1;32m     12\u001b[0m   \u001b[0mlabel\u001b[0m \u001b[0;34m=\u001b[0m \u001b[0mfiles\u001b[0m\u001b[0;34m.\u001b[0m\u001b[0msplit\u001b[0m\u001b[0;34m(\u001b[0m\u001b[0;34m\".\"\u001b[0m\u001b[0;34m)\u001b[0m\u001b[0;34m[\u001b[0m\u001b[0;36m0\u001b[0m\u001b[0;34m]\u001b[0m\u001b[0;34m\u001b[0m\u001b[0;34m\u001b[0m\u001b[0m\n",
            "\u001b[0;31merror\u001b[0m: OpenCV(4.1.2) /io/opencv/modules/imgproc/src/resize.cpp:3720: error: (-215:Assertion failed) !ssize.empty() in function 'resize'\n"
          ]
        }
      ]
    },
    {
      "cell_type": "code",
      "metadata": {
        "colab": {
          "base_uri": "https://localhost:8080/"
        },
        "id": "S_YUJqiDGTNy",
        "outputId": "b1e632b4-e132-4b88-b0c0-af630aa51dde"
      },
      "source": [
        "print( len(data))\n",
        "print(data[0:2])\n",
        "\n",
        "train,test= train_test_split(data,test_size=0.1,shuffle=True)\n",
        "print(len(train))\n",
        "print(len(test))\n",
        "\n",
        "#对数据进行处理\n",
        "X = np.array([i[0] for i in train]).reshape(-1,100,100,1)\n",
        "Y = np.array([i[1] for i in train])\n",
        "x_valid = np.array([i[0] for i in test]).reshape(-1,100,100,1)\n",
        "y_valid = np.array([i[1] for i in test])\n",
        "print(type(X))\n",
        "X=X.astype('float32')/255\n",
        "x_valid =x_valid.astype('float32')/255 \n",
        "print (X.shape) \n",
        "print (Y.shape) \n",
        "print (x_valid.shape) \n",
        "print (y_valid.shape)"
      ],
      "execution_count": null,
      "outputs": [
        {
          "output_type": "stream",
          "text": [
            "25000\n",
            "[[array([[ 72,  73,  75, ..., 123, 133, 115],\n",
            "       [ 72,  73,  79, ..., 125, 137, 111],\n",
            "       [ 73,  74,  76, ..., 149, 137, 164],\n",
            "       ...,\n",
            "       [154, 161, 158, ...,  78, 134, 103],\n",
            "       [162, 154, 157, ...,  95,  88, 111],\n",
            "       [157, 163, 161, ..., 115,  89,  99]], dtype=uint8), array([1, 0])], [array([[249, 236, 241, ...,  62,  54, 243],\n",
            "       [226, 184, 175, ...,  66,  53, 248],\n",
            "       [233, 107, 119, ...,  50,  52, 245],\n",
            "       ...,\n",
            "       [244, 183,  80, ..., 247, 245, 245],\n",
            "       [247, 247, 251, ..., 250, 250, 250],\n",
            "       [247, 247, 246, ..., 250, 250, 250]], dtype=uint8), array([1, 0])]]\n",
            "22500\n",
            "2500\n",
            "<class 'numpy.ndarray'>\n",
            "(22500, 100, 100, 1)\n",
            "(22500, 2)\n",
            "(2500, 100, 100, 1)\n",
            "(2500, 2)\n"
          ],
          "name": "stdout"
        }
      ]
    },
    {
      "cell_type": "code",
      "metadata": {
        "colab": {
          "base_uri": "https://localhost:8080/"
        },
        "id": "Cydi_IrVIzYt",
        "outputId": "4916b754-ff67-486d-a1f0-98a60db2a7c9"
      },
      "source": [
        "\n",
        "model = Sequential()\n",
        "model.add(layers.Conv2D(64,(3,3),activation='relu',input_shape=(100,100,1),padding=\"same\"))\n",
        "model.add(layers.MaxPooling2D((2,2)))\n",
        "model.add(layers.Conv2D(64,(3,3),activation=\"relu\"))\n",
        "model.add(layers.MaxPooling2D((2,2)))\n",
        "model.add(layers.Conv2D(128,(3,3),activation=\"relu\"))\n",
        "model.add(layers.MaxPooling2D((2,2)))\n",
        "model.add(layers.Conv2D(128,(3,3),activation=\"relu\"))\n",
        "model.add(layers.MaxPooling2D((2,2)))\n",
        "\n",
        "model.add(layers.Flatten())\n",
        "model.add(layers.Dropout(0.4))\n",
        "model.add(layers.Dense(512,activation=\"relu\"))\n",
        "model.add(layers.Dense(2,activation=\"softmax\"))\n",
        "model.summary()\n",
        "opt = tf.keras.optimizers.Adam(learning_rate=0.001)\n",
        "\n",
        "train_datagen = ImageDataGenerator(\n",
        "    rotation_range=20,\n",
        "    width_shift_range=0.2,\n",
        "    height_shift_range=0.2,\n",
        "    shear_range=0.2,\n",
        "    horizontal_flip=True,\n",
        "    vertical_flip=True\n",
        ")\n",
        "model.compile(loss=\"categorical_crossentropy\",\n",
        "      optimizer=opt,\n",
        "      metrics=['acc'])\n",
        "history=model.fit(train_datagen.flow(X,Y,batch_size=100),epochs=100,validation_data=(x_valid,y_valid),verbose=1)\n",
        "model.save('/content/drive/MyDrive/colab/model/cats_and_dogs_cnn_strength.h5')"
      ],
      "execution_count": 12,
      "outputs": [
        {
          "output_type": "stream",
          "text": [
            "Model: \"sequential\"\n",
            "_________________________________________________________________\n",
            "Layer (type)                 Output Shape              Param #   \n",
            "=================================================================\n",
            "conv2d (Conv2D)              (None, 100, 100, 64)      640       \n",
            "_________________________________________________________________\n",
            "max_pooling2d (MaxPooling2D) (None, 50, 50, 64)        0         \n",
            "_________________________________________________________________\n",
            "conv2d_1 (Conv2D)            (None, 48, 48, 64)        36928     \n",
            "_________________________________________________________________\n",
            "max_pooling2d_1 (MaxPooling2 (None, 24, 24, 64)        0         \n",
            "_________________________________________________________________\n",
            "conv2d_2 (Conv2D)            (None, 22, 22, 128)       73856     \n",
            "_________________________________________________________________\n",
            "max_pooling2d_2 (MaxPooling2 (None, 11, 11, 128)       0         \n",
            "_________________________________________________________________\n",
            "conv2d_3 (Conv2D)            (None, 9, 9, 128)         147584    \n",
            "_________________________________________________________________\n",
            "max_pooling2d_3 (MaxPooling2 (None, 4, 4, 128)         0         \n",
            "_________________________________________________________________\n",
            "flatten (Flatten)            (None, 2048)              0         \n",
            "_________________________________________________________________\n",
            "dropout (Dropout)            (None, 2048)              0         \n",
            "_________________________________________________________________\n",
            "dense (Dense)                (None, 512)               1049088   \n",
            "_________________________________________________________________\n",
            "dense_1 (Dense)              (None, 2)                 1026      \n",
            "=================================================================\n",
            "Total params: 1,309,122\n",
            "Trainable params: 1,309,122\n",
            "Non-trainable params: 0\n",
            "_________________________________________________________________\n",
            "Epoch 1/100\n",
            "225/225 [==============================] - 56s 107ms/step - loss: 0.6816 - acc: 0.5617 - val_loss: 0.6574 - val_acc: 0.6048\n",
            "Epoch 2/100\n",
            "225/225 [==============================] - 23s 103ms/step - loss: 0.6520 - acc: 0.6211 - val_loss: 0.6469 - val_acc: 0.6172\n",
            "Epoch 3/100\n",
            "225/225 [==============================] - 23s 102ms/step - loss: 0.6339 - acc: 0.6415 - val_loss: 0.6136 - val_acc: 0.6496\n",
            "Epoch 4/100\n",
            "225/225 [==============================] - 23s 102ms/step - loss: 0.6098 - acc: 0.6715 - val_loss: 0.6230 - val_acc: 0.6516\n",
            "Epoch 5/100\n",
            "225/225 [==============================] - 23s 102ms/step - loss: 0.5822 - acc: 0.6956 - val_loss: 0.5715 - val_acc: 0.6992\n",
            "Epoch 6/100\n",
            "225/225 [==============================] - 23s 102ms/step - loss: 0.5729 - acc: 0.7010 - val_loss: 0.5905 - val_acc: 0.6756\n",
            "Epoch 7/100\n",
            "225/225 [==============================] - 23s 102ms/step - loss: 0.5489 - acc: 0.7258 - val_loss: 0.4961 - val_acc: 0.7608\n",
            "Epoch 8/100\n",
            "225/225 [==============================] - 23s 103ms/step - loss: 0.5274 - acc: 0.7393 - val_loss: 0.5058 - val_acc: 0.7532\n",
            "Epoch 9/100\n",
            "225/225 [==============================] - 23s 101ms/step - loss: 0.5144 - acc: 0.7442 - val_loss: 0.5233 - val_acc: 0.7428\n",
            "Epoch 10/100\n",
            "225/225 [==============================] - 23s 101ms/step - loss: 0.5031 - acc: 0.7559 - val_loss: 0.4813 - val_acc: 0.7596\n",
            "Epoch 11/100\n",
            "225/225 [==============================] - 23s 101ms/step - loss: 0.4914 - acc: 0.7654 - val_loss: 0.5063 - val_acc: 0.7624\n",
            "Epoch 12/100\n",
            "225/225 [==============================] - 23s 102ms/step - loss: 0.4842 - acc: 0.7656 - val_loss: 0.5073 - val_acc: 0.7508\n",
            "Epoch 13/100\n",
            "225/225 [==============================] - 23s 102ms/step - loss: 0.4647 - acc: 0.7805 - val_loss: 0.6032 - val_acc: 0.7192\n",
            "Epoch 14/100\n",
            "225/225 [==============================] - 23s 102ms/step - loss: 0.4560 - acc: 0.7871 - val_loss: 0.4231 - val_acc: 0.7996\n",
            "Epoch 15/100\n",
            "225/225 [==============================] - 23s 101ms/step - loss: 0.4347 - acc: 0.7978 - val_loss: 0.4391 - val_acc: 0.8016\n",
            "Epoch 16/100\n",
            "225/225 [==============================] - 23s 102ms/step - loss: 0.4318 - acc: 0.8000 - val_loss: 0.5079 - val_acc: 0.7636\n",
            "Epoch 17/100\n",
            "225/225 [==============================] - 23s 102ms/step - loss: 0.4341 - acc: 0.7979 - val_loss: 0.4359 - val_acc: 0.7984\n",
            "Epoch 18/100\n",
            "225/225 [==============================] - 23s 101ms/step - loss: 0.4239 - acc: 0.8037 - val_loss: 0.3575 - val_acc: 0.8388\n",
            "Epoch 19/100\n",
            "225/225 [==============================] - 23s 102ms/step - loss: 0.4199 - acc: 0.8068 - val_loss: 0.3746 - val_acc: 0.8352\n",
            "Epoch 20/100\n",
            "225/225 [==============================] - 23s 102ms/step - loss: 0.4161 - acc: 0.8077 - val_loss: 0.3687 - val_acc: 0.8408\n",
            "Epoch 21/100\n",
            "225/225 [==============================] - 23s 103ms/step - loss: 0.4136 - acc: 0.8092 - val_loss: 0.3780 - val_acc: 0.8320\n",
            "Epoch 22/100\n",
            "225/225 [==============================] - 23s 102ms/step - loss: 0.4101 - acc: 0.8160 - val_loss: 0.3842 - val_acc: 0.8284\n",
            "Epoch 23/100\n",
            "225/225 [==============================] - 23s 102ms/step - loss: 0.3966 - acc: 0.8189 - val_loss: 0.5059 - val_acc: 0.7640\n",
            "Epoch 24/100\n",
            "225/225 [==============================] - 23s 103ms/step - loss: 0.3973 - acc: 0.8215 - val_loss: 0.4136 - val_acc: 0.8020\n",
            "Epoch 25/100\n",
            "225/225 [==============================] - 23s 102ms/step - loss: 0.3831 - acc: 0.8271 - val_loss: 0.4373 - val_acc: 0.7916\n",
            "Epoch 26/100\n",
            "225/225 [==============================] - 23s 102ms/step - loss: 0.3851 - acc: 0.8257 - val_loss: 0.3745 - val_acc: 0.8356\n",
            "Epoch 27/100\n",
            "225/225 [==============================] - 23s 103ms/step - loss: 0.3825 - acc: 0.8287 - val_loss: 0.3653 - val_acc: 0.8304\n",
            "Epoch 28/100\n",
            "225/225 [==============================] - 23s 102ms/step - loss: 0.3702 - acc: 0.8338 - val_loss: 0.3733 - val_acc: 0.8356\n",
            "Epoch 29/100\n",
            "225/225 [==============================] - 23s 103ms/step - loss: 0.3680 - acc: 0.8348 - val_loss: 0.4230 - val_acc: 0.7976\n",
            "Epoch 30/100\n",
            "225/225 [==============================] - 23s 102ms/step - loss: 0.3704 - acc: 0.8314 - val_loss: 0.3528 - val_acc: 0.8436\n",
            "Epoch 31/100\n",
            "225/225 [==============================] - 23s 102ms/step - loss: 0.3666 - acc: 0.8338 - val_loss: 0.3378 - val_acc: 0.8524\n",
            "Epoch 32/100\n",
            "225/225 [==============================] - 23s 102ms/step - loss: 0.3565 - acc: 0.8385 - val_loss: 0.3528 - val_acc: 0.8436\n",
            "Epoch 33/100\n",
            "225/225 [==============================] - 23s 101ms/step - loss: 0.3551 - acc: 0.8398 - val_loss: 0.3252 - val_acc: 0.8588\n",
            "Epoch 34/100\n",
            "225/225 [==============================] - 23s 103ms/step - loss: 0.3577 - acc: 0.8404 - val_loss: 0.3618 - val_acc: 0.8404\n",
            "Epoch 35/100\n",
            "225/225 [==============================] - 23s 103ms/step - loss: 0.3523 - acc: 0.8453 - val_loss: 0.3239 - val_acc: 0.8588\n",
            "Epoch 36/100\n",
            "225/225 [==============================] - 23s 101ms/step - loss: 0.3480 - acc: 0.8445 - val_loss: 0.3193 - val_acc: 0.8616\n",
            "Epoch 37/100\n",
            "225/225 [==============================] - 23s 102ms/step - loss: 0.3457 - acc: 0.8469 - val_loss: 0.3875 - val_acc: 0.8240\n",
            "Epoch 38/100\n",
            "225/225 [==============================] - 23s 102ms/step - loss: 0.3404 - acc: 0.8501 - val_loss: 0.3017 - val_acc: 0.8772\n",
            "Epoch 39/100\n",
            "225/225 [==============================] - 23s 102ms/step - loss: 0.3388 - acc: 0.8518 - val_loss: 0.3470 - val_acc: 0.8492\n",
            "Epoch 40/100\n",
            "225/225 [==============================] - 23s 101ms/step - loss: 0.3394 - acc: 0.8493 - val_loss: 0.4499 - val_acc: 0.7812\n",
            "Epoch 41/100\n",
            "225/225 [==============================] - 23s 101ms/step - loss: 0.3361 - acc: 0.8526 - val_loss: 0.3290 - val_acc: 0.8528\n",
            "Epoch 42/100\n",
            "225/225 [==============================] - 23s 102ms/step - loss: 0.3355 - acc: 0.8502 - val_loss: 0.3041 - val_acc: 0.8676\n",
            "Epoch 43/100\n",
            "225/225 [==============================] - 23s 101ms/step - loss: 0.3373 - acc: 0.8525 - val_loss: 0.3176 - val_acc: 0.8632\n",
            "Epoch 44/100\n",
            "225/225 [==============================] - 23s 101ms/step - loss: 0.3288 - acc: 0.8544 - val_loss: 0.3130 - val_acc: 0.8688\n",
            "Epoch 45/100\n",
            "225/225 [==============================] - 23s 101ms/step - loss: 0.3236 - acc: 0.8601 - val_loss: 0.2846 - val_acc: 0.8796\n",
            "Epoch 46/100\n",
            "225/225 [==============================] - 23s 101ms/step - loss: 0.3288 - acc: 0.8562 - val_loss: 0.3133 - val_acc: 0.8608\n",
            "Epoch 47/100\n",
            "225/225 [==============================] - 23s 102ms/step - loss: 0.3248 - acc: 0.8548 - val_loss: 0.2994 - val_acc: 0.8712\n",
            "Epoch 48/100\n",
            "225/225 [==============================] - 23s 102ms/step - loss: 0.3185 - acc: 0.8610 - val_loss: 0.2712 - val_acc: 0.8864\n",
            "Epoch 49/100\n",
            "225/225 [==============================] - 23s 101ms/step - loss: 0.3227 - acc: 0.8580 - val_loss: 0.2743 - val_acc: 0.8832\n",
            "Epoch 50/100\n",
            "225/225 [==============================] - 23s 102ms/step - loss: 0.3222 - acc: 0.8579 - val_loss: 0.3123 - val_acc: 0.8576\n",
            "Epoch 51/100\n",
            "225/225 [==============================] - 23s 101ms/step - loss: 0.3148 - acc: 0.8621 - val_loss: 0.3143 - val_acc: 0.8644\n",
            "Epoch 52/100\n",
            "225/225 [==============================] - 23s 101ms/step - loss: 0.3102 - acc: 0.8643 - val_loss: 0.3272 - val_acc: 0.8576\n",
            "Epoch 53/100\n",
            "225/225 [==============================] - 23s 101ms/step - loss: 0.3133 - acc: 0.8634 - val_loss: 0.3316 - val_acc: 0.8588\n",
            "Epoch 54/100\n",
            "225/225 [==============================] - 23s 100ms/step - loss: 0.3088 - acc: 0.8644 - val_loss: 0.2709 - val_acc: 0.8796\n",
            "Epoch 55/100\n",
            "225/225 [==============================] - 23s 101ms/step - loss: 0.3111 - acc: 0.8647 - val_loss: 0.2738 - val_acc: 0.8788\n",
            "Epoch 56/100\n",
            "225/225 [==============================] - 22s 100ms/step - loss: 0.3119 - acc: 0.8620 - val_loss: 0.3276 - val_acc: 0.8568\n",
            "Epoch 57/100\n",
            "225/225 [==============================] - 23s 100ms/step - loss: 0.3116 - acc: 0.8616 - val_loss: 0.2925 - val_acc: 0.8704\n",
            "Epoch 58/100\n",
            "225/225 [==============================] - 23s 100ms/step - loss: 0.3097 - acc: 0.8644 - val_loss: 0.2874 - val_acc: 0.8756\n",
            "Epoch 59/100\n",
            "225/225 [==============================] - 23s 101ms/step - loss: 0.3081 - acc: 0.8652 - val_loss: 0.2870 - val_acc: 0.8732\n",
            "Epoch 60/100\n",
            "225/225 [==============================] - 23s 101ms/step - loss: 0.3067 - acc: 0.8668 - val_loss: 0.2599 - val_acc: 0.8860\n",
            "Epoch 61/100\n",
            "225/225 [==============================] - 23s 100ms/step - loss: 0.3034 - acc: 0.8661 - val_loss: 0.2389 - val_acc: 0.8988\n",
            "Epoch 62/100\n",
            "225/225 [==============================] - 23s 100ms/step - loss: 0.3004 - acc: 0.8695 - val_loss: 0.2749 - val_acc: 0.8808\n",
            "Epoch 63/100\n",
            "225/225 [==============================] - 22s 100ms/step - loss: 0.2944 - acc: 0.8717 - val_loss: 0.2728 - val_acc: 0.8824\n",
            "Epoch 64/100\n",
            "225/225 [==============================] - 22s 99ms/step - loss: 0.3003 - acc: 0.8721 - val_loss: 0.2653 - val_acc: 0.8896\n",
            "Epoch 65/100\n",
            "225/225 [==============================] - 23s 100ms/step - loss: 0.2933 - acc: 0.8701 - val_loss: 0.2572 - val_acc: 0.8904\n",
            "Epoch 66/100\n",
            "225/225 [==============================] - 23s 100ms/step - loss: 0.2897 - acc: 0.8719 - val_loss: 0.2397 - val_acc: 0.9004\n",
            "Epoch 67/100\n",
            "225/225 [==============================] - 23s 100ms/step - loss: 0.2924 - acc: 0.8742 - val_loss: 0.3055 - val_acc: 0.8680\n",
            "Epoch 68/100\n",
            "225/225 [==============================] - 23s 100ms/step - loss: 0.2959 - acc: 0.8701 - val_loss: 0.2696 - val_acc: 0.8836\n",
            "Epoch 69/100\n",
            "225/225 [==============================] - 23s 100ms/step - loss: 0.2924 - acc: 0.8735 - val_loss: 0.2599 - val_acc: 0.8880\n",
            "Epoch 70/100\n",
            "225/225 [==============================] - 23s 102ms/step - loss: 0.2929 - acc: 0.8709 - val_loss: 0.2773 - val_acc: 0.8776\n",
            "Epoch 71/100\n",
            "225/225 [==============================] - 23s 104ms/step - loss: 0.2835 - acc: 0.8783 - val_loss: 0.2404 - val_acc: 0.8940\n",
            "Epoch 72/100\n",
            "225/225 [==============================] - 24s 104ms/step - loss: 0.2918 - acc: 0.8727 - val_loss: 0.2960 - val_acc: 0.8700\n",
            "Epoch 73/100\n",
            "225/225 [==============================] - 24s 105ms/step - loss: 0.2845 - acc: 0.8773 - val_loss: 0.2576 - val_acc: 0.8864\n",
            "Epoch 74/100\n",
            "225/225 [==============================] - 24s 105ms/step - loss: 0.2877 - acc: 0.8756 - val_loss: 0.2742 - val_acc: 0.8800\n",
            "Epoch 75/100\n",
            "225/225 [==============================] - 24s 106ms/step - loss: 0.2810 - acc: 0.8779 - val_loss: 0.2643 - val_acc: 0.8884\n",
            "Epoch 76/100\n",
            "225/225 [==============================] - 24s 105ms/step - loss: 0.2844 - acc: 0.8763 - val_loss: 0.2699 - val_acc: 0.8820\n",
            "Epoch 77/100\n",
            "225/225 [==============================] - 23s 104ms/step - loss: 0.2785 - acc: 0.8795 - val_loss: 0.2506 - val_acc: 0.8916\n",
            "Epoch 78/100\n",
            "225/225 [==============================] - 23s 104ms/step - loss: 0.2839 - acc: 0.8772 - val_loss: 0.2520 - val_acc: 0.8932\n",
            "Epoch 79/100\n",
            "225/225 [==============================] - 24s 105ms/step - loss: 0.2797 - acc: 0.8774 - val_loss: 0.2796 - val_acc: 0.8764\n",
            "Epoch 80/100\n",
            "225/225 [==============================] - 23s 104ms/step - loss: 0.2811 - acc: 0.8785 - val_loss: 0.2626 - val_acc: 0.8888\n",
            "Epoch 81/100\n",
            "225/225 [==============================] - 23s 104ms/step - loss: 0.2778 - acc: 0.8781 - val_loss: 0.2638 - val_acc: 0.8796\n",
            "Epoch 82/100\n",
            "225/225 [==============================] - 24s 105ms/step - loss: 0.2740 - acc: 0.8814 - val_loss: 0.2541 - val_acc: 0.8904\n",
            "Epoch 83/100\n",
            "225/225 [==============================] - 23s 104ms/step - loss: 0.2784 - acc: 0.8793 - val_loss: 0.2682 - val_acc: 0.8832\n",
            "Epoch 84/100\n",
            "225/225 [==============================] - 23s 104ms/step - loss: 0.2676 - acc: 0.8831 - val_loss: 0.2782 - val_acc: 0.8864\n",
            "Epoch 85/100\n",
            "225/225 [==============================] - 24s 105ms/step - loss: 0.2718 - acc: 0.8820 - val_loss: 0.2770 - val_acc: 0.8840\n",
            "Epoch 86/100\n",
            "225/225 [==============================] - 24s 104ms/step - loss: 0.2647 - acc: 0.8853 - val_loss: 0.2410 - val_acc: 0.8940\n",
            "Epoch 87/100\n",
            "225/225 [==============================] - 23s 104ms/step - loss: 0.2710 - acc: 0.8812 - val_loss: 0.2748 - val_acc: 0.8776\n",
            "Epoch 88/100\n",
            "225/225 [==============================] - 23s 104ms/step - loss: 0.2722 - acc: 0.8823 - val_loss: 0.2855 - val_acc: 0.8708\n",
            "Epoch 89/100\n",
            "225/225 [==============================] - 24s 105ms/step - loss: 0.2665 - acc: 0.8870 - val_loss: 0.2503 - val_acc: 0.8908\n",
            "Epoch 90/100\n",
            "225/225 [==============================] - 23s 104ms/step - loss: 0.2680 - acc: 0.8848 - val_loss: 0.3035 - val_acc: 0.8604\n",
            "Epoch 91/100\n",
            "225/225 [==============================] - 24s 105ms/step - loss: 0.2609 - acc: 0.8865 - val_loss: 0.2503 - val_acc: 0.8904\n",
            "Epoch 92/100\n",
            "225/225 [==============================] - 23s 104ms/step - loss: 0.2650 - acc: 0.8834 - val_loss: 0.2696 - val_acc: 0.8776\n",
            "Epoch 93/100\n",
            "225/225 [==============================] - 23s 104ms/step - loss: 0.2641 - acc: 0.8863 - val_loss: 0.2588 - val_acc: 0.8892\n",
            "Epoch 94/100\n",
            "225/225 [==============================] - 24s 105ms/step - loss: 0.2691 - acc: 0.8849 - val_loss: 0.2844 - val_acc: 0.8736\n",
            "Epoch 95/100\n",
            "225/225 [==============================] - 24s 105ms/step - loss: 0.2602 - acc: 0.8889 - val_loss: 0.2423 - val_acc: 0.8956\n",
            "Epoch 96/100\n",
            "225/225 [==============================] - 24s 104ms/step - loss: 0.2658 - acc: 0.8875 - val_loss: 0.2816 - val_acc: 0.8764\n",
            "Epoch 97/100\n",
            "225/225 [==============================] - 23s 104ms/step - loss: 0.2623 - acc: 0.8881 - val_loss: 0.2636 - val_acc: 0.8896\n",
            "Epoch 98/100\n",
            "225/225 [==============================] - 23s 104ms/step - loss: 0.2601 - acc: 0.8893 - val_loss: 0.2307 - val_acc: 0.9008\n",
            "Epoch 99/100\n",
            "225/225 [==============================] - 23s 104ms/step - loss: 0.2566 - acc: 0.8898 - val_loss: 0.2450 - val_acc: 0.8964\n",
            "Epoch 100/100\n",
            "225/225 [==============================] - 24s 105ms/step - loss: 0.2610 - acc: 0.8859 - val_loss: 0.2785 - val_acc: 0.8804\n"
          ],
          "name": "stdout"
        }
      ]
    },
    {
      "cell_type": "code",
      "metadata": {
        "colab": {
          "base_uri": "https://localhost:8080/",
          "height": 1000
        },
        "id": "-ZPVoKYUJAUY",
        "outputId": "063204a4-4073-4ebc-a742-00254197905e"
      },
      "source": [
        "\n",
        "\n",
        "import matplotlib.pyplot as plt\n",
        "\n",
        "accuracy = history.history['acc']\n",
        "validation_acuracy = history.history['val_acc']\n",
        "loss = history.history['loss']\n",
        "validation_loss = history.history['val_loss']\n",
        "\n",
        "\n",
        "plt.figure()\n",
        "plt.plot(loss,label=\"loss\")\n",
        "plt.plot(validation_loss,label='validation_loss')\n",
        "plt.title('训练与验证的损失函数对比图')\n",
        " \n",
        "plt.figure()\n",
        "plt.plot( accuracy,label='train_accuracy')\n",
        "plt.plot( validation_acuracy,label='validation_acuracy')"
      ],
      "execution_count": 14,
      "outputs": [
        {
          "output_type": "execute_result",
          "data": {
            "text/plain": [
              "[<matplotlib.lines.Line2D at 0x7fce48075c50>]"
            ]
          },
          "metadata": {
            "tags": []
          },
          "execution_count": 14
        },
        {
          "output_type": "stream",
          "text": [
            "/usr/local/lib/python3.7/dist-packages/matplotlib/backends/backend_agg.py:214: RuntimeWarning: Glyph 35757 missing from current font.\n",
            "  font.set_text(s, 0.0, flags=flags)\n",
            "/usr/local/lib/python3.7/dist-packages/matplotlib/backends/backend_agg.py:214: RuntimeWarning: Glyph 32451 missing from current font.\n",
            "  font.set_text(s, 0.0, flags=flags)\n",
            "/usr/local/lib/python3.7/dist-packages/matplotlib/backends/backend_agg.py:214: RuntimeWarning: Glyph 19982 missing from current font.\n",
            "  font.set_text(s, 0.0, flags=flags)\n",
            "/usr/local/lib/python3.7/dist-packages/matplotlib/backends/backend_agg.py:214: RuntimeWarning: Glyph 39564 missing from current font.\n",
            "  font.set_text(s, 0.0, flags=flags)\n",
            "/usr/local/lib/python3.7/dist-packages/matplotlib/backends/backend_agg.py:214: RuntimeWarning: Glyph 35777 missing from current font.\n",
            "  font.set_text(s, 0.0, flags=flags)\n",
            "/usr/local/lib/python3.7/dist-packages/matplotlib/backends/backend_agg.py:214: RuntimeWarning: Glyph 30340 missing from current font.\n",
            "  font.set_text(s, 0.0, flags=flags)\n",
            "/usr/local/lib/python3.7/dist-packages/matplotlib/backends/backend_agg.py:214: RuntimeWarning: Glyph 25439 missing from current font.\n",
            "  font.set_text(s, 0.0, flags=flags)\n",
            "/usr/local/lib/python3.7/dist-packages/matplotlib/backends/backend_agg.py:214: RuntimeWarning: Glyph 22833 missing from current font.\n",
            "  font.set_text(s, 0.0, flags=flags)\n",
            "/usr/local/lib/python3.7/dist-packages/matplotlib/backends/backend_agg.py:214: RuntimeWarning: Glyph 20989 missing from current font.\n",
            "  font.set_text(s, 0.0, flags=flags)\n",
            "/usr/local/lib/python3.7/dist-packages/matplotlib/backends/backend_agg.py:214: RuntimeWarning: Glyph 25968 missing from current font.\n",
            "  font.set_text(s, 0.0, flags=flags)\n",
            "/usr/local/lib/python3.7/dist-packages/matplotlib/backends/backend_agg.py:214: RuntimeWarning: Glyph 23545 missing from current font.\n",
            "  font.set_text(s, 0.0, flags=flags)\n",
            "/usr/local/lib/python3.7/dist-packages/matplotlib/backends/backend_agg.py:214: RuntimeWarning: Glyph 27604 missing from current font.\n",
            "  font.set_text(s, 0.0, flags=flags)\n",
            "/usr/local/lib/python3.7/dist-packages/matplotlib/backends/backend_agg.py:214: RuntimeWarning: Glyph 22270 missing from current font.\n",
            "  font.set_text(s, 0.0, flags=flags)\n",
            "/usr/local/lib/python3.7/dist-packages/matplotlib/backends/backend_agg.py:183: RuntimeWarning: Glyph 35757 missing from current font.\n",
            "  font.set_text(s, 0, flags=flags)\n",
            "/usr/local/lib/python3.7/dist-packages/matplotlib/backends/backend_agg.py:183: RuntimeWarning: Glyph 32451 missing from current font.\n",
            "  font.set_text(s, 0, flags=flags)\n",
            "/usr/local/lib/python3.7/dist-packages/matplotlib/backends/backend_agg.py:183: RuntimeWarning: Glyph 19982 missing from current font.\n",
            "  font.set_text(s, 0, flags=flags)\n",
            "/usr/local/lib/python3.7/dist-packages/matplotlib/backends/backend_agg.py:183: RuntimeWarning: Glyph 39564 missing from current font.\n",
            "  font.set_text(s, 0, flags=flags)\n",
            "/usr/local/lib/python3.7/dist-packages/matplotlib/backends/backend_agg.py:183: RuntimeWarning: Glyph 35777 missing from current font.\n",
            "  font.set_text(s, 0, flags=flags)\n",
            "/usr/local/lib/python3.7/dist-packages/matplotlib/backends/backend_agg.py:183: RuntimeWarning: Glyph 30340 missing from current font.\n",
            "  font.set_text(s, 0, flags=flags)\n",
            "/usr/local/lib/python3.7/dist-packages/matplotlib/backends/backend_agg.py:183: RuntimeWarning: Glyph 25439 missing from current font.\n",
            "  font.set_text(s, 0, flags=flags)\n",
            "/usr/local/lib/python3.7/dist-packages/matplotlib/backends/backend_agg.py:183: RuntimeWarning: Glyph 22833 missing from current font.\n",
            "  font.set_text(s, 0, flags=flags)\n",
            "/usr/local/lib/python3.7/dist-packages/matplotlib/backends/backend_agg.py:183: RuntimeWarning: Glyph 20989 missing from current font.\n",
            "  font.set_text(s, 0, flags=flags)\n",
            "/usr/local/lib/python3.7/dist-packages/matplotlib/backends/backend_agg.py:183: RuntimeWarning: Glyph 25968 missing from current font.\n",
            "  font.set_text(s, 0, flags=flags)\n",
            "/usr/local/lib/python3.7/dist-packages/matplotlib/backends/backend_agg.py:183: RuntimeWarning: Glyph 23545 missing from current font.\n",
            "  font.set_text(s, 0, flags=flags)\n",
            "/usr/local/lib/python3.7/dist-packages/matplotlib/backends/backend_agg.py:183: RuntimeWarning: Glyph 27604 missing from current font.\n",
            "  font.set_text(s, 0, flags=flags)\n",
            "/usr/local/lib/python3.7/dist-packages/matplotlib/backends/backend_agg.py:183: RuntimeWarning: Glyph 22270 missing from current font.\n",
            "  font.set_text(s, 0, flags=flags)\n"
          ],
          "name": "stderr"
        },
        {
          "output_type": "display_data",
          "data": {
            "image/png": "[encoded data removed]",
            "text/plain": [
              "<Figure size 432x288 with 1 Axes>"
            ]
          },
          "metadata": {
            "tags": [],
            "needs_background": "light"
          }
        },
        {
          "output_type": "display_data",
          "data": {
            "image/png": "[encoded data removed]",
            "text/plain": [
              "<Figure size 432x288 with 1 Axes>"
            ]
          },
          "metadata": {
            "tags": [],
            "needs_background": "light"
          }
        }
      ]
    },
    {
      "cell_type": "code",
      "metadata": {
        "id": "4VXyjkMEJhGo"
      },
      "source": [
        "#训练集拆分之后都能达到百分之九十以后，对测试集进行评估\n",
        "#首先先定义好获取测试并进行处理数据的代码\n",
        "import cv2\n",
        "import os\n",
        "test_dir = \"/content/test1\"\n",
        "\n",
        "id_line = []\n",
        "def create_test1_data(path):\n",
        "  X_test = []\n",
        "  for p in os.listdir(path):\n",
        "    id_line.append(p.split('.')[0])\n",
        "    image = cv2.resize(cv2.imread(os.path.join(path,p)),(100,100))\n",
        "    gray = cv2.cvtColor(image,cv2.COLOR_RGB2GRAY)\n",
        "    X_test.append(gray)\n",
        "  X_test = np.array(X_test).reshape(-1,100,100,1)\n",
        "  X_test = X_test/255.\n",
        "  return X_test\n",
        "x_test= create_test1_data(test_dir)\n"
      ],
      "execution_count": 54,
      "outputs": []
    },
    {
      "cell_type": "code",
      "metadata": {
        "colab": {
          "base_uri": "https://localhost:8080/"
        },
        "id": "utpcIWhkVCq0",
        "outputId": "f1bb2fc4-deb9-4ee7-eb35-4af9ffb89df5"
      },
      "source": [
        "print(x_test.shape)\n",
        "y_pred = model.predict(x_test)\n",
        "print(y_pred.shape)\n"
      ],
      "execution_count": 59,
      "outputs": [
        {
          "output_type": "stream",
          "text": [
            "(12500, 100, 100, 1)\n",
            "(12500, 2)\n",
            "[9.9999964e-01 3.9385901e-07]\n"
          ],
          "name": "stdout"
        }
      ]
    },
    {
      "cell_type": "code",
      "metadata": {
        "colab": {
          "base_uri": "https://localhost:8080/"
        },
        "id": "GGdwlG9CYoPC",
        "outputId": "8366858d-8ba5-416f-cff2-9a9863d50221"
      },
      "source": [
        "import numpy as np\n",
        "yy=tf.argmax(y_pred,-1)\n",
        "\n",
        "print(len(id_line))"
      ],
      "execution_count": 72,
      "outputs": [
        {
          "output_type": "stream",
          "text": [
            "12500\n"
          ],
          "name": "stdout"
        }
      ]
    },
    {
      "cell_type": "code",
      "metadata": {
        "colab": {
          "base_uri": "https://localhost:8080/",
          "height": 367
        },
        "id": "qqOpRYSeP3vn",
        "outputId": "2b51be5b-3b01-4bf3-8594-37650b81b235"
      },
      "source": [
        "import pandas as pd\n",
        "\n",
        "submission_df = pd.DataFrame({'id':id_line, 'label':y_pred})\n",
        "submission_df.to_csv('submission.csv',index=False)"
      ],
      "execution_count": 73,
      "outputs": [
        {
          "output_type": "error",
          "ename": "Exception",
          "evalue": "ignored",
          "traceback": [
            "\u001b[0;31m---------------------------------------------------------------------------\u001b[0m",
            "\u001b[0;31mException\u001b[0m                                 Traceback (most recent call last)",
            "\u001b[0;32m<ipython-input-73-d00fccec0596>\u001b[0m in \u001b[0;36m<module>\u001b[0;34m()\u001b[0m\n\u001b[1;32m      1\u001b[0m \u001b[0;32mimport\u001b[0m \u001b[0mpandas\u001b[0m \u001b[0;32mas\u001b[0m \u001b[0mpd\u001b[0m\u001b[0;34m\u001b[0m\u001b[0;34m\u001b[0m\u001b[0m\n\u001b[0;32m----> 2\u001b[0;31m \u001b[0msubmission_df\u001b[0m \u001b[0;34m=\u001b[0m \u001b[0mpd\u001b[0m\u001b[0;34m.\u001b[0m\u001b[0mDataFrame\u001b[0m\u001b[0;34m(\u001b[0m\u001b[0;34m{\u001b[0m\u001b[0;34m'id'\u001b[0m\u001b[0;34m:\u001b[0m\u001b[0mid_line\u001b[0m\u001b[0;34m,\u001b[0m \u001b[0;34m'label'\u001b[0m\u001b[0;34m:\u001b[0m\u001b[0my_pred\u001b[0m\u001b[0;34m}\u001b[0m\u001b[0;34m)\u001b[0m\u001b[0;34m\u001b[0m\u001b[0;34m\u001b[0m\u001b[0m\n\u001b[0m\u001b[1;32m      3\u001b[0m \u001b[0;34m\u001b[0m\u001b[0m\n",
            "\u001b[0;32m/usr/local/lib/python3.7/dist-packages/pandas/core/frame.py\u001b[0m in \u001b[0;36m__init__\u001b[0;34m(self, data, index, columns, dtype, copy)\u001b[0m\n\u001b[1;32m    466\u001b[0m \u001b[0;34m\u001b[0m\u001b[0m\n\u001b[1;32m    467\u001b[0m         \u001b[0;32melif\u001b[0m \u001b[0misinstance\u001b[0m\u001b[0;34m(\u001b[0m\u001b[0mdata\u001b[0m\u001b[0;34m,\u001b[0m \u001b[0mdict\u001b[0m\u001b[0;34m)\u001b[0m\u001b[0;34m:\u001b[0m\u001b[0;34m\u001b[0m\u001b[0;34m\u001b[0m\u001b[0m\n\u001b[0;32m--> 468\u001b[0;31m             \u001b[0mmgr\u001b[0m \u001b[0;34m=\u001b[0m \u001b[0minit_dict\u001b[0m\u001b[0;34m(\u001b[0m\u001b[0mdata\u001b[0m\u001b[0;34m,\u001b[0m \u001b[0mindex\u001b[0m\u001b[0;34m,\u001b[0m \u001b[0mcolumns\u001b[0m\u001b[0;34m,\u001b[0m \u001b[0mdtype\u001b[0m\u001b[0;34m=\u001b[0m\u001b[0mdtype\u001b[0m\u001b[0;34m)\u001b[0m\u001b[0;34m\u001b[0m\u001b[0;34m\u001b[0m\u001b[0m\n\u001b[0m\u001b[1;32m    469\u001b[0m         \u001b[0;32melif\u001b[0m \u001b[0misinstance\u001b[0m\u001b[0;34m(\u001b[0m\u001b[0mdata\u001b[0m\u001b[0;34m,\u001b[0m \u001b[0mma\u001b[0m\u001b[0;34m.\u001b[0m\u001b[0mMaskedArray\u001b[0m\u001b[0;34m)\u001b[0m\u001b[0;34m:\u001b[0m\u001b[0;34m\u001b[0m\u001b[0;34m\u001b[0m\u001b[0m\n\u001b[1;32m    470\u001b[0m             \u001b[0;32mimport\u001b[0m \u001b[0mnumpy\u001b[0m\u001b[0;34m.\u001b[0m\u001b[0mma\u001b[0m\u001b[0;34m.\u001b[0m\u001b[0mmrecords\u001b[0m \u001b[0;32mas\u001b[0m \u001b[0mmrecords\u001b[0m\u001b[0;34m\u001b[0m\u001b[0;34m\u001b[0m\u001b[0m\n",
            "\u001b[0;32m/usr/local/lib/python3.7/dist-packages/pandas/core/internals/construction.py\u001b[0m in \u001b[0;36minit_dict\u001b[0;34m(data, index, columns, dtype)\u001b[0m\n\u001b[1;32m    281\u001b[0m             \u001b[0marr\u001b[0m \u001b[0;32mif\u001b[0m \u001b[0;32mnot\u001b[0m \u001b[0mis_datetime64tz_dtype\u001b[0m\u001b[0;34m(\u001b[0m\u001b[0marr\u001b[0m\u001b[0;34m)\u001b[0m \u001b[0;32melse\u001b[0m \u001b[0marr\u001b[0m\u001b[0;34m.\u001b[0m\u001b[0mcopy\u001b[0m\u001b[0;34m(\u001b[0m\u001b[0;34m)\u001b[0m \u001b[0;32mfor\u001b[0m \u001b[0marr\u001b[0m \u001b[0;32min\u001b[0m \u001b[0marrays\u001b[0m\u001b[0;34m\u001b[0m\u001b[0;34m\u001b[0m\u001b[0m\n\u001b[1;32m    282\u001b[0m         ]\n\u001b[0;32m--> 283\u001b[0;31m     \u001b[0;32mreturn\u001b[0m \u001b[0marrays_to_mgr\u001b[0m\u001b[0;34m(\u001b[0m\u001b[0marrays\u001b[0m\u001b[0;34m,\u001b[0m \u001b[0mdata_names\u001b[0m\u001b[0;34m,\u001b[0m \u001b[0mindex\u001b[0m\u001b[0;34m,\u001b[0m \u001b[0mcolumns\u001b[0m\u001b[0;34m,\u001b[0m \u001b[0mdtype\u001b[0m\u001b[0;34m=\u001b[0m\u001b[0mdtype\u001b[0m\u001b[0;34m)\u001b[0m\u001b[0;34m\u001b[0m\u001b[0;34m\u001b[0m\u001b[0m\n\u001b[0m\u001b[1;32m    284\u001b[0m \u001b[0;34m\u001b[0m\u001b[0m\n\u001b[1;32m    285\u001b[0m \u001b[0;34m\u001b[0m\u001b[0m\n",
            "\u001b[0;32m/usr/local/lib/python3.7/dist-packages/pandas/core/internals/construction.py\u001b[0m in \u001b[0;36marrays_to_mgr\u001b[0;34m(arrays, arr_names, index, columns, dtype, verify_integrity)\u001b[0m\n\u001b[1;32m     81\u001b[0m \u001b[0;34m\u001b[0m\u001b[0m\n\u001b[1;32m     82\u001b[0m         \u001b[0;31m# don't force copy because getting jammed in an ndarray anyway\u001b[0m\u001b[0;34m\u001b[0m\u001b[0;34m\u001b[0m\u001b[0;34m\u001b[0m\u001b[0m\n\u001b[0;32m---> 83\u001b[0;31m         \u001b[0marrays\u001b[0m \u001b[0;34m=\u001b[0m \u001b[0m_homogenize\u001b[0m\u001b[0;34m(\u001b[0m\u001b[0marrays\u001b[0m\u001b[0;34m,\u001b[0m \u001b[0mindex\u001b[0m\u001b[0;34m,\u001b[0m \u001b[0mdtype\u001b[0m\u001b[0;34m)\u001b[0m\u001b[0;34m\u001b[0m\u001b[0;34m\u001b[0m\u001b[0m\n\u001b[0m\u001b[1;32m     84\u001b[0m \u001b[0;34m\u001b[0m\u001b[0m\n\u001b[1;32m     85\u001b[0m         \u001b[0mcolumns\u001b[0m \u001b[0;34m=\u001b[0m \u001b[0mensure_index\u001b[0m\u001b[0;34m(\u001b[0m\u001b[0mcolumns\u001b[0m\u001b[0;34m)\u001b[0m\u001b[0;34m\u001b[0m\u001b[0;34m\u001b[0m\u001b[0m\n",
            "\u001b[0;32m/usr/local/lib/python3.7/dist-packages/pandas/core/internals/construction.py\u001b[0m in \u001b[0;36m_homogenize\u001b[0;34m(data, index, dtype)\u001b[0m\n\u001b[1;32m    350\u001b[0m                 \u001b[0mval\u001b[0m \u001b[0;34m=\u001b[0m \u001b[0mlib\u001b[0m\u001b[0;34m.\u001b[0m\u001b[0mfast_multiget\u001b[0m\u001b[0;34m(\u001b[0m\u001b[0mval\u001b[0m\u001b[0;34m,\u001b[0m \u001b[0moindex\u001b[0m\u001b[0;34m.\u001b[0m\u001b[0m_values\u001b[0m\u001b[0;34m,\u001b[0m \u001b[0mdefault\u001b[0m\u001b[0;34m=\u001b[0m\u001b[0mnp\u001b[0m\u001b[0;34m.\u001b[0m\u001b[0mnan\u001b[0m\u001b[0;34m)\u001b[0m\u001b[0;34m\u001b[0m\u001b[0;34m\u001b[0m\u001b[0m\n\u001b[1;32m    351\u001b[0m             val = sanitize_array(\n\u001b[0;32m--> 352\u001b[0;31m                 \u001b[0mval\u001b[0m\u001b[0;34m,\u001b[0m \u001b[0mindex\u001b[0m\u001b[0;34m,\u001b[0m \u001b[0mdtype\u001b[0m\u001b[0;34m=\u001b[0m\u001b[0mdtype\u001b[0m\u001b[0;34m,\u001b[0m \u001b[0mcopy\u001b[0m\u001b[0;34m=\u001b[0m\u001b[0;32mFalse\u001b[0m\u001b[0;34m,\u001b[0m \u001b[0mraise_cast_failure\u001b[0m\u001b[0;34m=\u001b[0m\u001b[0;32mFalse\u001b[0m\u001b[0;34m\u001b[0m\u001b[0;34m\u001b[0m\u001b[0m\n\u001b[0m\u001b[1;32m    353\u001b[0m             )\n\u001b[1;32m    354\u001b[0m \u001b[0;34m\u001b[0m\u001b[0m\n",
            "\u001b[0;32m/usr/local/lib/python3.7/dist-packages/pandas/core/construction.py\u001b[0m in \u001b[0;36msanitize_array\u001b[0;34m(data, index, dtype, copy, raise_cast_failure)\u001b[0m\n\u001b[1;32m    494\u001b[0m     \u001b[0;32melif\u001b[0m \u001b[0msubarr\u001b[0m\u001b[0;34m.\u001b[0m\u001b[0mndim\u001b[0m \u001b[0;34m>\u001b[0m \u001b[0;36m1\u001b[0m\u001b[0;34m:\u001b[0m\u001b[0;34m\u001b[0m\u001b[0;34m\u001b[0m\u001b[0m\n\u001b[1;32m    495\u001b[0m         \u001b[0;32mif\u001b[0m \u001b[0misinstance\u001b[0m\u001b[0;34m(\u001b[0m\u001b[0mdata\u001b[0m\u001b[0;34m,\u001b[0m \u001b[0mnp\u001b[0m\u001b[0;34m.\u001b[0m\u001b[0mndarray\u001b[0m\u001b[0;34m)\u001b[0m\u001b[0;34m:\u001b[0m\u001b[0;34m\u001b[0m\u001b[0;34m\u001b[0m\u001b[0m\n\u001b[0;32m--> 496\u001b[0;31m             \u001b[0;32mraise\u001b[0m \u001b[0mException\u001b[0m\u001b[0;34m(\u001b[0m\u001b[0;34m\"Data must be 1-dimensional\"\u001b[0m\u001b[0;34m)\u001b[0m\u001b[0;34m\u001b[0m\u001b[0;34m\u001b[0m\u001b[0m\n\u001b[0m\u001b[1;32m    497\u001b[0m         \u001b[0;32melse\u001b[0m\u001b[0;34m:\u001b[0m\u001b[0;34m\u001b[0m\u001b[0;34m\u001b[0m\u001b[0m\n\u001b[1;32m    498\u001b[0m             \u001b[0msubarr\u001b[0m \u001b[0;34m=\u001b[0m \u001b[0mcom\u001b[0m\u001b[0;34m.\u001b[0m\u001b[0masarray_tuplesafe\u001b[0m\u001b[0;34m(\u001b[0m\u001b[0mdata\u001b[0m\u001b[0;34m,\u001b[0m \u001b[0mdtype\u001b[0m\u001b[0;34m=\u001b[0m\u001b[0mdtype\u001b[0m\u001b[0;34m)\u001b[0m\u001b[0;34m\u001b[0m\u001b[0;34m\u001b[0m\u001b[0m\n",
            "\u001b[0;31mException\u001b[0m: Data must be 1-dimensional"
          ]
        }
      ]
    }
  ]
}